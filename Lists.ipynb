{
 "cells": [
  {
   "cell_type": "markdown",
   "metadata": {},
   "source": [
    "Lists\n",
    "\n",
    "@Authors: Sridhar Nerur, Samuel Jayarajan, and Mahyar Vaghefi\n",
    "\n",
    "By now, you should be familiar with variables, arithmetic operators, the print function, and strings. In this notebook, we will learn about lists, arguably the most widely used data structure in Python. They are similar to the concept of arrays in other languages such as Java. There is one big difference, though. Typically, arrays will contain data of the same type. There is no such restriction with lists.\n",
    "\n",
    "A list is a data structure or a container that has an ordered sequence of objects that can be accessed using an index (remember how we accessed characters from a string using indices?). The objects in a list can be numbers, strings, user-defined objects, or data structures such as lists (i.e., sublists), tuples, sets, and dictionaries. Let us get started."
   ]
  },
  {
   "cell_type": "code",
   "execution_count": 6,
   "metadata": {},
   "outputs": [
    {
     "name": "stdout",
     "output_type": "stream",
     "text": [
      "[]\n",
      "[]\n"
     ]
    }
   ],
   "source": [
    "#creating an empty list - two ways to do it\n",
    "my_heroes = [] #a list of my heroes\n",
    "my_games = list() #games I like\n",
    "#of course, they will be empty! Check them out.\n",
    "print(my_heroes) \n",
    "print(my_games)"
   ]
  },
  {
   "cell_type": "code",
   "execution_count": 7,
   "metadata": {},
   "outputs": [
    {
     "name": "stdout",
     "output_type": "stream",
     "text": [
      "['Viv Richards', 'Michael Jordan']\n"
     ]
    }
   ],
   "source": [
    "#let us add things to the list - a couple of ways to do it\n",
    "my_heroes.append(\"Viv Richards\") #append adds to the end of the list\n",
    "my_heroes.append(\"Michael Jordan\") #adds Micheal Jordan to the end of the list\n",
    "print(my_heroes)\n"
   ]
  },
  {
   "cell_type": "code",
   "execution_count": 8,
   "metadata": {},
   "outputs": [
    {
     "data": {
      "text/plain": [
       "['Andy Roberts', 'Viv Richards', 'Michael Jordan']"
      ]
     },
     "execution_count": 8,
     "metadata": {},
     "output_type": "execute_result"
    }
   ],
   "source": [
    "#another way to add items to the list - insert anywhere in the list\n",
    "my_heroes.insert(0, \"Andy Roberts\") #insert Andy Roberts in location/index 0\n",
    "#Note that index 0 is the beginning of the list\n",
    "my_heroes"
   ]
  },
  {
   "cell_type": "code",
   "execution_count": 9,
   "metadata": {},
   "outputs": [
    {
     "data": {
      "text/plain": [
       "['Andy Roberts', 'Viv Richards', 'VVS Laxman', 'Michael Jordan']"
      ]
     },
     "execution_count": 9,
     "metadata": {},
     "output_type": "execute_result"
    }
   ],
   "source": [
    "#let us add another \"hero\" to the third location (i.e., index 2)\n",
    "my_heroes.insert(2, \"VVS Laxman\")\n",
    "my_heroes"
   ]
  },
  {
   "cell_type": "code",
   "execution_count": 11,
   "metadata": {},
   "outputs": [
    {
     "name": "stdout",
     "output_type": "stream",
     "text": [
      "Sorted heroes:  ['Andy Roberts', 'Michael Jordan', 'VVS Laxman', 'Viv Richards']\n",
      "Original list:  ['Andy Roberts', 'Viv Richards', 'VVS Laxman', 'Michael Jordan']\n"
     ]
    }
   ],
   "source": [
    "#let us sort the list - again, there are several ways to do this\n",
    "sorted_heroes = sorted(my_heroes)\n",
    "print(\"Sorted heroes: \", sorted_heroes)\n",
    "print(\"Original list: \", my_heroes)"
   ]
  },
  {
   "cell_type": "code",
   "execution_count": 13,
   "metadata": {},
   "outputs": [
    {
     "name": "stdout",
     "output_type": "stream",
     "text": [
      "Reverse Sorted heroes:  ['Viv Richards', 'VVS Laxman', 'Michael Jordan', 'Andy Roberts']\n"
     ]
    }
   ],
   "source": [
    "#sorting in reverse order\n",
    "reverse_sorted_heroes = sorted(my_heroes, reverse = True)\n",
    "print(\"Reverse Sorted heroes: \", reverse_sorted_heroes)"
   ]
  },
  {
   "cell_type": "markdown",
   "metadata": {},
   "source": [
    "Noted that the sorted function sorts the list in ascending order by default and returns the sorted list. It does not modify the original list \"my_heroes\". There is a function called sort that will sort and modify the original list as can seen below."
   ]
  },
  {
   "cell_type": "code",
   "execution_count": 15,
   "metadata": {},
   "outputs": [
    {
     "name": "stdout",
     "output_type": "stream",
     "text": [
      "['Andy Roberts', 'Michael Jordan', 'VVS Laxman', 'Viv Richards']\n"
     ]
    }
   ],
   "source": [
    "my_heroes.sort() #note that sort will automatically sort and modify my_heroes\n",
    "#you could use reverse = True to sort in reverse order\n",
    "print(my_heroes) #it will be a sorted list"
   ]
  },
  {
   "cell_type": "code",
   "execution_count": 16,
   "metadata": {},
   "outputs": [
    {
     "data": {
      "text/plain": [
       "[11, 19, 22, 23, 32, 45, 63]"
      ]
     },
     "execution_count": 16,
     "metadata": {},
     "output_type": "execute_result"
    }
   ],
   "source": [
    "#you also use sort in the following way\n",
    "numbers = [23, 45, 32, 11, 22, 19, 63]\n",
    "#yet another way to sort\n",
    "list.sort(numbers) #notice that this explicitly calls sort on the class list\n",
    "numbers"
   ]
  },
  {
   "cell_type": "code",
   "execution_count": 17,
   "metadata": {},
   "outputs": [
    {
     "name": "stdout",
     "output_type": "stream",
     "text": [
      "215\n",
      "11\n",
      "63\n"
     ]
    }
   ],
   "source": [
    "#Use of sum, min and max\n",
    "print(sum(numbers)) #displays sum of the numbers\n",
    "print(min(numbers)) #what is the minimum value in numbers\n",
    "print(max(numbers)) #what is the max value in numbers"
   ]
  },
  {
   "cell_type": "markdown",
   "metadata": {},
   "source": [
    "Note that there is no average function. You will have to get the sum and divide by its length to get the average. Alternatively, you could use a package called numpy (Numerical Python) to get the average."
   ]
  },
  {
   "cell_type": "code",
   "execution_count": 19,
   "metadata": {},
   "outputs": [
    {
     "name": "stdout",
     "output_type": "stream",
     "text": [
      "Length of numbers list:  7\n",
      "Average of number in list:  30.714285714285715\n"
     ]
    }
   ],
   "source": [
    "#As wth strings, the len() function gives the length of the list\n",
    "print(\"Length of numbers list: \", len(numbers)) #prints number of elements \n",
    "average = sum(numbers) / len(numbers)\n",
    "print(\"Average of number in list: \", average) #exercise: use formatting to round to 2 decimal places"
   ]
  },
  {
   "cell_type": "code",
   "execution_count": 20,
   "metadata": {},
   "outputs": [
    {
     "name": "stdout",
     "output_type": "stream",
     "text": [
      "Average computed by numpy:  30.714285714285715\n"
     ]
    }
   ],
   "source": [
    "#using numpy to get average\n",
    "#numpy is a separate package that needs to be imported\n",
    "import numpy as np\n",
    "average = np.mean(numbers)\n",
    "print(\"Average computed by numpy: \", average)"
   ]
  },
  {
   "cell_type": "markdown",
   "metadata": {},
   "source": [
    "A note on the import statement. Python has a number of built-in functions, such as print() and input(). To expand the capabilities of Python, developers have created libraries/modules/packages that contain useful functions for a variety of applications. For example, there is a package called \"math\" that contains math functions such as sqrt (square root), factorial, and pow (power of a number). In order to access these functions in other libraries, one needs to import them. In the import statement above, we are importing numpy and using the alias np to access its contents. If you didn't have the alias, you would have to use the name of the package to access the functions (e.g., numpy.mean() rather than np.mean())."
   ]
  },
  {
   "cell_type": "code",
   "execution_count": 24,
   "metadata": {},
   "outputs": [
    {
     "name": "stdout",
     "output_type": "stream",
     "text": [
      "2 raised to power 3:  8.0\n",
      "Square root of 5:  2.23606797749979\n",
      "Value of PI is:  3.141592653589793\n",
      "Value of E is:  2.718281828459045\n",
      "Natural log of 100:  4.605170185988092\n",
      "Log to base 10 of 100:  2.0\n",
      "Log to base 2 of 8:  3.0\n",
      "The Ceil function:  9\n",
      "The floor function:  8\n"
     ]
    }
   ],
   "source": [
    "#importing a library\n",
    "import math\n",
    "print(\"2 raised to power 3: \", math.pow(2,3))\n",
    "print(\"Square root of 5: \", math.sqrt(5))\n",
    "print(\"Value of PI is: \", math.pi) #the constant pi\n",
    "print(\"Value of E is: \", math.e) #the constant E\n",
    "print(\"Natural log of 100: \", math.log(100))\n",
    "print(\"Log to base 10 of 100: \", math.log(100, 10))\n",
    "print(\"Log to base 2 of 8: \", math.log(8, 2))\n",
    "print(\"The Ceil function: \", math.ceil(8.2))\n",
    "print(\"The floor function: \", math.floor(8.2))"
   ]
  },
  {
   "cell_type": "markdown",
   "metadata": {},
   "source": [
    "Note that packages are namespaces that avoid naming conflicts. For example, I might write my own function called factorial(), which would be different from math.factorial(). Of course, if you wanted to invoke the factorial function in math without writing math.factorial(), you could do it as follows:\n",
    "from math import factorial\n",
    "print(factorial(5)) #displays factorial of 5\n",
    "\n",
    "Let us try it."
   ]
  },
  {
   "cell_type": "code",
   "execution_count": 11,
   "metadata": {},
   "outputs": [
    {
     "name": "stdout",
     "output_type": "stream",
     "text": [
      "120\n"
     ]
    }
   ],
   "source": [
    "from math import factorial #NONE OF YOUR FUNCTIONS SHOULD HAVE THE NAME factorial\n",
    "print(factorial(5))"
   ]
  },
  {
   "cell_type": "code",
   "execution_count": 14,
   "metadata": {},
   "outputs": [
    {
     "name": "stdout",
     "output_type": "stream",
     "text": [
      "Help on class list in module builtins:\n",
      "\n",
      "class list(object)\n",
      " |  list() -> new empty list\n",
      " |  list(iterable) -> new list initialized from iterable's items\n",
      " |  \n",
      " |  Methods defined here:\n",
      " |  \n",
      " |  __add__(self, value, /)\n",
      " |      Return self+value.\n",
      " |  \n",
      " |  __contains__(self, key, /)\n",
      " |      Return key in self.\n",
      " |  \n",
      " |  __delitem__(self, key, /)\n",
      " |      Delete self[key].\n",
      " |  \n",
      " |  __eq__(self, value, /)\n",
      " |      Return self==value.\n",
      " |  \n",
      " |  __ge__(self, value, /)\n",
      " |      Return self>=value.\n",
      " |  \n",
      " |  __getattribute__(self, name, /)\n",
      " |      Return getattr(self, name).\n",
      " |  \n",
      " |  __getitem__(...)\n",
      " |      x.__getitem__(y) <==> x[y]\n",
      " |  \n",
      " |  __gt__(self, value, /)\n",
      " |      Return self>value.\n",
      " |  \n",
      " |  __iadd__(self, value, /)\n",
      " |      Implement self+=value.\n",
      " |  \n",
      " |  __imul__(self, value, /)\n",
      " |      Implement self*=value.\n",
      " |  \n",
      " |  __init__(self, /, *args, **kwargs)\n",
      " |      Initialize self.  See help(type(self)) for accurate signature.\n",
      " |  \n",
      " |  __iter__(self, /)\n",
      " |      Implement iter(self).\n",
      " |  \n",
      " |  __le__(self, value, /)\n",
      " |      Return self<=value.\n",
      " |  \n",
      " |  __len__(self, /)\n",
      " |      Return len(self).\n",
      " |  \n",
      " |  __lt__(self, value, /)\n",
      " |      Return self<value.\n",
      " |  \n",
      " |  __mul__(self, value, /)\n",
      " |      Return self*value.n\n",
      " |  \n",
      " |  __ne__(self, value, /)\n",
      " |      Return self!=value.\n",
      " |  \n",
      " |  __new__(*args, **kwargs) from builtins.type\n",
      " |      Create and return a new object.  See help(type) for accurate signature.\n",
      " |  \n",
      " |  __repr__(self, /)\n",
      " |      Return repr(self).\n",
      " |  \n",
      " |  __reversed__(...)\n",
      " |      L.__reversed__() -- return a reverse iterator over the list\n",
      " |  \n",
      " |  __rmul__(self, value, /)\n",
      " |      Return self*value.\n",
      " |  \n",
      " |  __setitem__(self, key, value, /)\n",
      " |      Set self[key] to value.\n",
      " |  \n",
      " |  __sizeof__(...)\n",
      " |      L.__sizeof__() -- size of L in memory, in bytes\n",
      " |  \n",
      " |  append(...)\n",
      " |      L.append(object) -> None -- append object to end\n",
      " |  \n",
      " |  clear(...)\n",
      " |      L.clear() -> None -- remove all items from L\n",
      " |  \n",
      " |  copy(...)\n",
      " |      L.copy() -> list -- a shallow copy of L\n",
      " |  \n",
      " |  count(...)\n",
      " |      L.count(value) -> integer -- return number of occurrences of value\n",
      " |  \n",
      " |  extend(...)\n",
      " |      L.extend(iterable) -> None -- extend list by appending elements from the iterable\n",
      " |  \n",
      " |  index(...)\n",
      " |      L.index(value, [start, [stop]]) -> integer -- return first index of value.\n",
      " |      Raises ValueError if the value is not present.\n",
      " |  \n",
      " |  insert(...)\n",
      " |      L.insert(index, object) -- insert object before index\n",
      " |  \n",
      " |  pop(...)\n",
      " |      L.pop([index]) -> item -- remove and return item at index (default last).\n",
      " |      Raises IndexError if list is empty or index is out of range.\n",
      " |  \n",
      " |  remove(...)\n",
      " |      L.remove(value) -> None -- remove first occurrence of value.\n",
      " |      Raises ValueError if the value is not present.\n",
      " |  \n",
      " |  reverse(...)\n",
      " |      L.reverse() -- reverse *IN PLACE*\n",
      " |  \n",
      " |  sort(...)\n",
      " |      L.sort(key=None, reverse=False) -> None -- stable sort *IN PLACE*\n",
      " |  \n",
      " |  ----------------------------------------------------------------------\n",
      " |  Data and other attributes defined here:\n",
      " |  \n",
      " |  __hash__ = None\n",
      "\n"
     ]
    }
   ],
   "source": [
    "#Time to examine all the methods in list\n",
    "help(list)"
   ]
  },
  {
   "cell_type": "code",
   "execution_count": 15,
   "metadata": {},
   "outputs": [
    {
     "data": {
      "text/plain": [
       "[1, 2, 3, 4, 5, 6]"
      ]
     },
     "execution_count": 15,
     "metadata": {},
     "output_type": "execute_result"
    }
   ],
   "source": [
    "#Concatenating two lists - two ways to do it, one with \"+\" and the other with extend\n",
    "a = [1, 2, 3]\n",
    "b = [4, 5, 6]\n",
    "a + b"
   ]
  },
  {
   "cell_type": "code",
   "execution_count": 16,
   "metadata": {},
   "outputs": [
    {
     "data": {
      "text/plain": [
       "[1, 2, 3, 4, 5, 6]"
      ]
     },
     "execution_count": 16,
     "metadata": {},
     "output_type": "execute_result"
    }
   ],
   "source": [
    "#you need to assign it to another variable\n",
    "c = a + b\n",
    "c"
   ]
  },
  {
   "cell_type": "code",
   "execution_count": 17,
   "metadata": {},
   "outputs": [
    {
     "data": {
      "text/plain": [
       "[1, 2, 3, 4, 5, 6]"
      ]
     },
     "execution_count": 17,
     "metadata": {},
     "output_type": "execute_result"
    }
   ],
   "source": [
    "#\"extend\" will alter the variable that extends, as shown below\n",
    "#for example, if we wish to extend the contents of \"a\" with those of \"b\",\n",
    "#we will do the following\n",
    "a.extend(b)\n",
    "a"
   ]
  },
  {
   "cell_type": "code",
   "execution_count": 18,
   "metadata": {},
   "outputs": [
    {
     "data": {
      "text/plain": [
       "[1, 2, 3, 1, 2, 3, 1, 2, 3]"
      ]
     },
     "execution_count": 18,
     "metadata": {},
     "output_type": "execute_result"
    }
   ],
   "source": [
    "#The \"*\" operator works exactly as it did with strings\n",
    "a = [1, 2, 3]\n",
    "a * 3 #Note: this will not change \"a\""
   ]
  },
  {
   "cell_type": "code",
   "execution_count": 19,
   "metadata": {},
   "outputs": [
    {
     "data": {
      "text/plain": [
       "[2, 3, 1, 5, 3, 8, 1]"
      ]
     },
     "execution_count": 19,
     "metadata": {},
     "output_type": "execute_result"
    }
   ],
   "source": [
    "#Removing objects from the list - you may use remove and pop\n",
    "x = [1, 2, 3, 1, 5, 3, 8, 1]\n",
    "x.remove(1) #removes the object \"1\" from the list\n",
    "x #Note that it removes only the first occurrence"
   ]
  },
  {
   "cell_type": "markdown",
   "metadata": {},
   "source": [
    "What will x.remove(25) do? Try it."
   ]
  },
  {
   "cell_type": "code",
   "execution_count": 20,
   "metadata": {},
   "outputs": [
    {
     "data": {
      "text/plain": [
       "1"
      ]
     },
     "execution_count": 20,
     "metadata": {},
     "output_type": "execute_result"
    }
   ],
   "source": [
    "#Using pop to remove objects - pop will return the object and then remove it\n",
    "x = [1, 2, 3, 1, 5, 3, 8, 1]\n",
    "x.pop() #Pops the last element/object and removes it from the list"
   ]
  },
  {
   "cell_type": "code",
   "execution_count": 21,
   "metadata": {},
   "outputs": [
    {
     "data": {
      "text/plain": [
       "[1, 2, 3, 1, 5, 3, 8]"
      ]
     },
     "execution_count": 21,
     "metadata": {},
     "output_type": "execute_result"
    }
   ],
   "source": [
    "x #The last element should now be missing"
   ]
  },
  {
   "cell_type": "code",
   "execution_count": 22,
   "metadata": {},
   "outputs": [
    {
     "data": {
      "text/plain": [
       "3"
      ]
     },
     "execution_count": 22,
     "metadata": {},
     "output_type": "execute_result"
    }
   ],
   "source": [
    "#Use index to remove a specific object. Let us remove the third element\n",
    "x.pop(2)"
   ]
  },
  {
   "cell_type": "code",
   "execution_count": 23,
   "metadata": {},
   "outputs": [
    {
     "data": {
      "text/plain": [
       "[1, 2, 1, 5, 3, 8]"
      ]
     },
     "execution_count": 23,
     "metadata": {},
     "output_type": "execute_result"
    }
   ],
   "source": [
    "x"
   ]
  },
  {
   "cell_type": "code",
   "execution_count": 25,
   "metadata": {},
   "outputs": [
    {
     "data": {
      "text/plain": [
       "2"
      ]
     },
     "execution_count": 25,
     "metadata": {},
     "output_type": "execute_result"
    }
   ],
   "source": [
    "#You can get the index of any object by using the index() method\n",
    "#Note that \"football\" occurs twice in the list below\n",
    "games = [\"cricket\", \"hockey\", \"football\", \"tennis\", \"football\"]\n",
    "games.index(\"football\") #returns 2, which is the first index of \"football\""
   ]
  },
  {
   "cell_type": "markdown",
   "metadata": {},
   "source": [
    "What if we wanted the index of the second occurrence of \"football\"? By default, index starts with element 0 and returns the index of the first occurrence of an object. You can look for the second occurrence by looking for the object after the index of the first occurrence. Example is given below."
   ]
  },
  {
   "cell_type": "code",
   "execution_count": 27,
   "metadata": {},
   "outputs": [
    {
     "data": {
      "text/plain": [
       "4"
      ]
     },
     "execution_count": 27,
     "metadata": {},
     "output_type": "execute_result"
    }
   ],
   "source": [
    "first_index = games.index(\"football\")\n",
    "games.index(\"football\", first_index + 1)"
   ]
  },
  {
   "cell_type": "code",
   "execution_count": 28,
   "metadata": {},
   "outputs": [
    {
     "ename": "ValueError",
     "evalue": "'basketball' is not in list",
     "output_type": "error",
     "traceback": [
      "\u001b[0;31m---------------------------------------------------------------------------\u001b[0m",
      "\u001b[0;31mValueError\u001b[0m                                Traceback (most recent call last)",
      "\u001b[0;32m<ipython-input-28-aa7be6c65e19>\u001b[0m in \u001b[0;36m<module>\u001b[0;34m()\u001b[0m\n\u001b[0;32m----> 1\u001b[0;31m \u001b[0mgames\u001b[0m\u001b[0;34m.\u001b[0m\u001b[0mindex\u001b[0m\u001b[0;34m(\u001b[0m\u001b[0;34m\"basketball\"\u001b[0m\u001b[0;34m)\u001b[0m\u001b[0;34m\u001b[0m\u001b[0m\n\u001b[0m",
      "\u001b[0;31mValueError\u001b[0m: 'basketball' is not in list"
     ]
    }
   ],
   "source": [
    "games.index(\"basketball\") #will give an error as shown below"
   ]
  },
  {
   "cell_type": "code",
   "execution_count": 29,
   "metadata": {},
   "outputs": [
    {
     "data": {
      "text/plain": [
       "False"
      ]
     },
     "execution_count": 29,
     "metadata": {},
     "output_type": "execute_result"
    }
   ],
   "source": [
    "#you can check to see if an objecf is in the list \n",
    "\"basketball\" in games"
   ]
  },
  {
   "cell_type": "markdown",
   "metadata": {},
   "source": [
    "clear() and count() are useful list functions. clear() removes all the objects from the list. count() tells you how many times a particular object occurs in a list."
   ]
  },
  {
   "cell_type": "code",
   "execution_count": 30,
   "metadata": {},
   "outputs": [],
   "source": [
    "x = [1, 2, 3]\n",
    "x.clear()"
   ]
  },
  {
   "cell_type": "code",
   "execution_count": 31,
   "metadata": {},
   "outputs": [
    {
     "data": {
      "text/plain": [
       "[]"
      ]
     },
     "execution_count": 31,
     "metadata": {},
     "output_type": "execute_result"
    }
   ],
   "source": [
    "x #will be an empty list"
   ]
  },
  {
   "cell_type": "code",
   "execution_count": 32,
   "metadata": {},
   "outputs": [
    {
     "data": {
      "text/plain": [
       "5"
      ]
     },
     "execution_count": 32,
     "metadata": {},
     "output_type": "execute_result"
    }
   ],
   "source": [
    "x = [1, 2, 1, 1, 2, 3, 1, 1, 5]\n",
    "#How many times does 1 occur in the list\n",
    "x.count(1)"
   ]
  },
  {
   "cell_type": "code",
   "execution_count": 33,
   "metadata": {},
   "outputs": [
    {
     "data": {
      "text/plain": [
       "0"
      ]
     },
     "execution_count": 33,
     "metadata": {},
     "output_type": "execute_result"
    }
   ],
   "source": [
    "x.count(9)"
   ]
  },
  {
   "cell_type": "code",
   "execution_count": 34,
   "metadata": {},
   "outputs": [
    {
     "data": {
      "text/plain": [
       "['cricket', 'tennis', 'basketball']"
      ]
     },
     "execution_count": 34,
     "metadata": {},
     "output_type": "execute_result"
    }
   ],
   "source": [
    "games = [\"cricket\", \"tennis\", \"basketball\"]\n",
    "games_2 = games\n",
    "games_2"
   ]
  },
  {
   "cell_type": "code",
   "execution_count": 35,
   "metadata": {},
   "outputs": [
    {
     "data": {
      "text/plain": [
       "['cricket', 'tennis', 'basketball', 'golf']"
      ]
     },
     "execution_count": 35,
     "metadata": {},
     "output_type": "execute_result"
    }
   ],
   "source": [
    "#Let us change games_2 and see if it affects games\n",
    "games_2.append(\"golf\")\n",
    "games"
   ]
  },
  {
   "cell_type": "markdown",
   "metadata": {},
   "source": [
    "Surprised? This is a dangerous side-effect of assigning a list to another. If this is not what you intended, you should create a copy of games and assign it to games_2. See example below."
   ]
  },
  {
   "cell_type": "code",
   "execution_count": 37,
   "metadata": {},
   "outputs": [
    {
     "name": "stdout",
     "output_type": "stream",
     "text": [
      "Before changes:  ['cricket', 'tennis', 'basketball', 'golf'] ['cricket', 'tennis', 'basketball', 'golf']\n",
      "After changes:  ['cricket', 'tennis', 'basketball', 'golf'] ['cricket', 'tennis', 'basketball', 'golf', 'squash']\n"
     ]
    }
   ],
   "source": [
    "games_2 = games.copy()\n",
    "print(\"Before changes: \", games, games_2)\n",
    "games_2.append(\"squash\")\n",
    "print(\"After changes: \", games, games_2)"
   ]
  },
  {
   "cell_type": "code",
   "execution_count": 38,
   "metadata": {},
   "outputs": [
    {
     "data": {
      "text/plain": [
       "['CRICKET', 'Taekwondo', 'basketball', 'golf']"
      ]
     },
     "execution_count": 38,
     "metadata": {},
     "output_type": "execute_result"
    }
   ],
   "source": [
    "#Making changes to existing elements - example: let us change\n",
    "#our first game to uppercase\n",
    "games[0] = games[0].upper()\n",
    "#let us replace our second game with a different one\n",
    "games[1] = \"Taekwondo\"\n",
    "games"
   ]
  },
  {
   "cell_type": "markdown",
   "metadata": {},
   "source": [
    "That's it as far as lists are concerned. We will use lists extensively in this course. One final note before we wrap up. Lists, unlike Strings, are MUTABLE. The fact that we can add, insert, remove/pop, and make changes to our list shows that they are mutable."
   ]
  }
 ],
 "metadata": {
  "kernelspec": {
   "display_name": "Python 3",
   "language": "python",
   "name": "python3"
  },
  "language_info": {
   "codemirror_mode": {
    "name": "ipython",
    "version": 3
   },
   "file_extension": ".py",
   "mimetype": "text/x-python",
   "name": "python",
   "nbconvert_exporter": "python",
   "pygments_lexer": "ipython3",
   "version": "3.6.5"
  }
 },
 "nbformat": 4,
 "nbformat_minor": 2
}
