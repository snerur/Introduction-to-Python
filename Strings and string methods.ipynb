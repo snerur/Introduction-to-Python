{
 "cells": [
  {
   "cell_type": "markdown",
   "metadata": {},
   "source": [
    "Notebook 3: Strings and string methods\n",
    "\n",
    "@Authors: Sridhar Nerur, Samuel Jayarajan, and Mahyar Vaghefi\n",
    "\n",
    "Congratulations on having made it so far. The ability to work with Strings is critical in Python (and in other languages as well). You may recall that a string in python is one or more characters enclosed in single, double, or triple quotes. Languages such as Java use single quotes for characters and double quotes for strings. As with other languages, a single character (e.g., \"a\") maps on to an integer value. Let us get started."
   ]
  },
  {
   "cell_type": "code",
   "execution_count": 1,
   "metadata": {},
   "outputs": [
    {
     "name": "stdout",
     "output_type": "stream",
     "text": [
      "97\n"
     ]
    }
   ],
   "source": [
    "#check the integer value of a character\n",
    "ch = \"a\"\n",
    "print(ord(ch)) #displays 97, the integer value associated with the letter 'a'"
   ]
  },
  {
   "cell_type": "code",
   "execution_count": 3,
   "metadata": {},
   "outputs": [
    {
     "name": "stdout",
     "output_type": "stream",
     "text": [
      "K\n"
     ]
    }
   ],
   "source": [
    "#Given a valid integer number, can we get the character it represents\n",
    "i = 75\n",
    "print(chr(i)) #Uppercase K has the internal representation 75"
   ]
  },
  {
   "cell_type": "markdown",
   "metadata": {},
   "source": [
    "Suppose we create a string as follows:\n",
    "name = \"Edgar Wallace\"\n",
    "Determining length of the string: len(name) gives you the length --> 13\n",
    "Note that the length includes spaces and other characters that are encloded in quotes.\n",
    "Our string, referenced by \"name\", has 13 characters. You may visualize the string as an array of characters. The first element of this array may be accessed by using the index 0, the second by using 1, and so forth. The [] is called the indexing operator (similar to the concept of subscripting). Examples are shown below:\n",
    "name[0] --> 'E' --> the first character in \"Edgar Wallace\"\n",
    "name[1] --> 'd' --> the second character\n",
    "name[len(name) - 1] --> same as name[12] --> 'e' --> the last character\n",
    "\n",
    "It turns out that indices -1, -2, ...-13 can be used to access characters of \"name\", starting from the end. So, we have the following:\n",
    "name[-1] --> the last character --> 'e'\n",
    "name[-13] --> the first character --> 'E'\n",
    "\n",
    "Let us try it."
   ]
  },
  {
   "cell_type": "code",
   "execution_count": 9,
   "metadata": {},
   "outputs": [
    {
     "name": "stdout",
     "output_type": "stream",
     "text": [
      "The number of characters in  Edgar Wallace  is  13\n",
      "First character of  Edgar Wallace  is  E\n",
      "Second character of  Edgar Wallace  is  d\n",
      "The last character of  Edgar Wallace  is  e\n",
      "The last character of  Edgar Wallace  is  e\n",
      "The penultimate character of  Edgar Wallace  is  c\n",
      "First character of  Edgar Wallace  is  E\n"
     ]
    }
   ],
   "source": [
    "name = \"Edgar Wallace\"\n",
    "print(\"The number of characters in \", name, \" is \", len(name))\n",
    "print(\"First character of \", name, \" is \", name[0]) #note subscript is 0\n",
    "print(\"Second character of \", name, \" is \", name[1])\n",
    "#think of the subscript [0] as an address....\n",
    "#how do we get the last character\n",
    "print(\"The last character of \", name, \" is \", name[len(name) - 1])\n",
    "\n",
    "#is there an easier way to get to the last character...yes, indeed\n",
    "print(\"The last character of \", name, \" is \", name[-1])\n",
    "print(\"The penultimate character of \", name, \" is \", name[-2])\n",
    "#using the same logic.....\n",
    "print(\"First character of \", name, \" is \", name[-13])\n"
   ]
  },
  {
   "cell_type": "markdown",
   "metadata": {},
   "source": [
    "So, now you know how to get a specific character from a string. What if we wanted to extract a substring, say, the first three characters or the last three characters? Python uses something called \"slicing\" that allows you do exactly that. The general form of slicing is as follows:\n",
    "string[start:end:step] will allow us to extract a substring starting at character in location \"start\" and ending at location (end - 1) in steps of \"step\". The default for \"step\" is 1. \n",
    "Here are some examples:\n",
    "\n",
    "review = \"This movie is excellent\"\n",
    "review[0:4] --> returns \"This\". In this example, start = 0, end = 4, and step = 1.\n",
    "review[:4] also gives \"This\". That is, when start is omitted, it assumes it is 0.\n",
    "review[0:10:2] --> gives \"Ti oi\" (all characters from 0 to 9 in steps of 2, which will be the characters at locations 0,2,4,6,8 ('T','i',' ','o','i')\n",
    "review[5:10] --> gives \"movie\"\n",
    "review[5:] --> when \"end\" is omitted, it displays all string starting from \"start\" to the end of the string. In this case, we get \"movie is excellent\""
   ]
  },
  {
   "cell_type": "code",
   "execution_count": 12,
   "metadata": {},
   "outputs": [
    {
     "name": "stdout",
     "output_type": "stream",
     "text": [
      "This\n",
      "This\n",
      "Ti oi\n",
      "movie\n",
      "movie is excellent\n"
     ]
    }
   ],
   "source": [
    "review = \"This movie is excellent\"\n",
    "print(review[0:4])\n",
    "print(review[:4])\n",
    "print(review[0:10:2])\n",
    "print(review[5:10])\n",
    "print(review[5:])"
   ]
  },
  {
   "cell_type": "markdown",
   "metadata": {},
   "source": [
    "What if we wanted to extract the entire string starting from the third character (i.e., index 2) all the way up to but not including the last but third character (which will be the string \"is movie is excell\")?\n",
    "\n",
    "One way to do it is: review[2:len(review) - 3]\n",
    "Is there an easier way? Remember the subscripts strating from the end (i.e., the negative subscripts)? Well, we know that -3 is the subscript of the last but third character. Therefore, we could use the following:\n",
    "review[2:-3].\n",
    "Finally, what if we wanted the last 4 characters? We could do the following:\n",
    "review[-4:] --> \"lent\""
   ]
  },
  {
   "cell_type": "code",
   "execution_count": 15,
   "metadata": {},
   "outputs": [
    {
     "name": "stdout",
     "output_type": "stream",
     "text": [
      "is movie is excell\n",
      "is movie is excell\n",
      "lent\n"
     ]
    }
   ],
   "source": [
    "print(review[2:len(review) - 3])\n",
    "print(review[2:-3])\n",
    "print(review[-4:])"
   ]
  },
  {
   "cell_type": "markdown",
   "metadata": {},
   "source": [
    "How can we replace \"movie\" with \"picture\"? It is quite simple. Python has a string method called replace that will allow you to do that. The syntax is:\n",
    "string.replace(\"old\", \"new\") --> \"old\" will replaced by \"new\"\n",
    "Let us try it...."
   ]
  },
  {
   "cell_type": "code",
   "execution_count": 16,
   "metadata": {},
   "outputs": [
    {
     "data": {
      "text/plain": [
       "'This picture is excellent'"
      ]
     },
     "execution_count": 16,
     "metadata": {},
     "output_type": "execute_result"
    }
   ],
   "source": [
    "review.replace(\"movie\",\"picture\")"
   ]
  },
  {
   "cell_type": "code",
   "execution_count": null,
   "metadata": {},
   "outputs": [],
   "source": [
    "Success! Did it really do it? Let us check to see what review has...."
   ]
  },
  {
   "cell_type": "code",
   "execution_count": 17,
   "metadata": {},
   "outputs": [
    {
     "data": {
      "text/plain": [
       "'This movie is excellent'"
      ]
     },
     "execution_count": 17,
     "metadata": {},
     "output_type": "execute_result"
    }
   ],
   "source": [
    "review"
   ]
  },
  {
   "cell_type": "markdown",
   "metadata": {},
   "source": [
    "OOPS! Clearly, something is wrong. We replaced \"movie\" with \"picture\" but the variable review has not changed. Well, this is an important point to remember. STRINGS ARE IMMUTABLE. They CANNOT be changed. You will have to re-assign it to the variable for the change to be reflected. By re-assigning, you are creating a new instance of the string referenced by the same name. Let us see what this means...."
   ]
  },
  {
   "cell_type": "code",
   "execution_count": 20,
   "metadata": {},
   "outputs": [],
   "source": [
    "review = review.replace(\"movie\",\"picture\") #this will change review"
   ]
  },
  {
   "cell_type": "markdown",
   "metadata": {},
   "source": [
    "Has it changed now? It should have, because we took the modified string and re-assigned it to review."
   ]
  },
  {
   "cell_type": "code",
   "execution_count": 19,
   "metadata": {},
   "outputs": [
    {
     "name": "stdout",
     "output_type": "stream",
     "text": [
      "This picture is excellent\n"
     ]
    }
   ],
   "source": [
    "print(review)"
   ]
  },
  {
   "cell_type": "markdown",
   "metadata": {},
   "source": [
    "How "
   ]
  },
  {
   "cell_type": "markdown",
   "metadata": {},
   "source": [
    "We have made good progress. It is time to examine some key methods associated with strings. You have already seen two of them, namely, len and replace. How about others? An easy way to find out is to use help(str) to get details of methods that can be used with strings."
   ]
  },
  {
   "cell_type": "code",
   "execution_count": 22,
   "metadata": {},
   "outputs": [
    {
     "name": "stdout",
     "output_type": "stream",
     "text": [
      "Help on class str in module builtins:\n",
      "\n",
      "class str(object)\n",
      " |  str(object='') -> str\n",
      " |  str(bytes_or_buffer[, encoding[, errors]]) -> str\n",
      " |  \n",
      " |  Create a new string object from the given object. If encoding or\n",
      " |  errors is specified, then the object must expose a data buffer\n",
      " |  that will be decoded using the given encoding and error handler.\n",
      " |  Otherwise, returns the result of object.__str__() (if defined)\n",
      " |  or repr(object).\n",
      " |  encoding defaults to sys.getdefaultencoding().\n",
      " |  errors defaults to 'strict'.\n",
      " |  \n",
      " |  Methods defined here:\n",
      " |  \n",
      " |  __add__(self, value, /)\n",
      " |      Return self+value.\n",
      " |  \n",
      " |  __contains__(self, key, /)\n",
      " |      Return key in self.\n",
      " |  \n",
      " |  __eq__(self, value, /)\n",
      " |      Return self==value.\n",
      " |  \n",
      " |  __format__(...)\n",
      " |      S.__format__(format_spec) -> str\n",
      " |      \n",
      " |      Return a formatted version of S as described by format_spec.\n",
      " |  \n",
      " |  __ge__(self, value, /)\n",
      " |      Return self>=value.\n",
      " |  \n",
      " |  __getattribute__(self, name, /)\n",
      " |      Return getattr(self, name).\n",
      " |  \n",
      " |  __getitem__(self, key, /)\n",
      " |      Return self[key].\n",
      " |  \n",
      " |  __getnewargs__(...)\n",
      " |  \n",
      " |  __gt__(self, value, /)\n",
      " |      Return self>value.\n",
      " |  \n",
      " |  __hash__(self, /)\n",
      " |      Return hash(self).\n",
      " |  \n",
      " |  __iter__(self, /)\n",
      " |      Implement iter(self).\n",
      " |  \n",
      " |  __le__(self, value, /)\n",
      " |      Return self<=value.\n",
      " |  \n",
      " |  __len__(self, /)\n",
      " |      Return len(self).\n",
      " |  \n",
      " |  __lt__(self, value, /)\n",
      " |      Return self<value.\n",
      " |  \n",
      " |  __mod__(self, value, /)\n",
      " |      Return self%value.\n",
      " |  \n",
      " |  __mul__(self, value, /)\n",
      " |      Return self*value.n\n",
      " |  \n",
      " |  __ne__(self, value, /)\n",
      " |      Return self!=value.\n",
      " |  \n",
      " |  __new__(*args, **kwargs) from builtins.type\n",
      " |      Create and return a new object.  See help(type) for accurate signature.\n",
      " |  \n",
      " |  __repr__(self, /)\n",
      " |      Return repr(self).\n",
      " |  \n",
      " |  __rmod__(self, value, /)\n",
      " |      Return value%self.\n",
      " |  \n",
      " |  __rmul__(self, value, /)\n",
      " |      Return self*value.\n",
      " |  \n",
      " |  __sizeof__(...)\n",
      " |      S.__sizeof__() -> size of S in memory, in bytes\n",
      " |  \n",
      " |  __str__(self, /)\n",
      " |      Return str(self).\n",
      " |  \n",
      " |  capitalize(...)\n",
      " |      S.capitalize() -> str\n",
      " |      \n",
      " |      Return a capitalized version of S, i.e. make the first character\n",
      " |      have upper case and the rest lower case.\n",
      " |  \n",
      " |  casefold(...)\n",
      " |      S.casefold() -> str\n",
      " |      \n",
      " |      Return a version of S suitable for caseless comparisons.\n",
      " |  \n",
      " |  center(...)\n",
      " |      S.center(width[, fillchar]) -> str\n",
      " |      \n",
      " |      Return S centered in a string of length width. Padding is\n",
      " |      done using the specified fill character (default is a space)\n",
      " |  \n",
      " |  count(...)\n",
      " |      S.count(sub[, start[, end]]) -> int\n",
      " |      \n",
      " |      Return the number of non-overlapping occurrences of substring sub in\n",
      " |      string S[start:end].  Optional arguments start and end are\n",
      " |      interpreted as in slice notation.\n",
      " |  \n",
      " |  encode(...)\n",
      " |      S.encode(encoding='utf-8', errors='strict') -> bytes\n",
      " |      \n",
      " |      Encode S using the codec registered for encoding. Default encoding\n",
      " |      is 'utf-8'. errors may be given to set a different error\n",
      " |      handling scheme. Default is 'strict' meaning that encoding errors raise\n",
      " |      a UnicodeEncodeError. Other possible values are 'ignore', 'replace' and\n",
      " |      'xmlcharrefreplace' as well as any other name registered with\n",
      " |      codecs.register_error that can handle UnicodeEncodeErrors.\n",
      " |  \n",
      " |  endswith(...)\n",
      " |      S.endswith(suffix[, start[, end]]) -> bool\n",
      " |      \n",
      " |      Return True if S ends with the specified suffix, False otherwise.\n",
      " |      With optional start, test S beginning at that position.\n",
      " |      With optional end, stop comparing S at that position.\n",
      " |      suffix can also be a tuple of strings to try.\n",
      " |  \n",
      " |  expandtabs(...)\n",
      " |      S.expandtabs(tabsize=8) -> str\n",
      " |      \n",
      " |      Return a copy of S where all tab characters are expanded using spaces.\n",
      " |      If tabsize is not given, a tab size of 8 characters is assumed.\n",
      " |  \n",
      " |  find(...)\n",
      " |      S.find(sub[, start[, end]]) -> int\n",
      " |      \n",
      " |      Return the lowest index in S where substring sub is found,\n",
      " |      such that sub is contained within S[start:end].  Optional\n",
      " |      arguments start and end are interpreted as in slice notation.\n",
      " |      \n",
      " |      Return -1 on failure.\n",
      " |  \n",
      " |  format(...)\n",
      " |      S.format(*args, **kwargs) -> str\n",
      " |      \n",
      " |      Return a formatted version of S, using substitutions from args and kwargs.\n",
      " |      The substitutions are identified by braces ('{' and '}').\n",
      " |  \n",
      " |  format_map(...)\n",
      " |      S.format_map(mapping) -> str\n",
      " |      \n",
      " |      Return a formatted version of S, using substitutions from mapping.\n",
      " |      The substitutions are identified by braces ('{' and '}').\n",
      " |  \n",
      " |  index(...)\n",
      " |      S.index(sub[, start[, end]]) -> int\n",
      " |      \n",
      " |      Return the lowest index in S where substring sub is found, \n",
      " |      such that sub is contained within S[start:end].  Optional\n",
      " |      arguments start and end are interpreted as in slice notation.\n",
      " |      \n",
      " |      Raises ValueError when the substring is not found.\n",
      " |  \n",
      " |  isalnum(...)\n",
      " |      S.isalnum() -> bool\n",
      " |      \n",
      " |      Return True if all characters in S are alphanumeric\n",
      " |      and there is at least one character in S, False otherwise.\n",
      " |  \n",
      " |  isalpha(...)\n",
      " |      S.isalpha() -> bool\n",
      " |      \n",
      " |      Return True if all characters in S are alphabetic\n",
      " |      and there is at least one character in S, False otherwise.\n",
      " |  \n",
      " |  isdecimal(...)\n",
      " |      S.isdecimal() -> bool\n",
      " |      \n",
      " |      Return True if there are only decimal characters in S,\n",
      " |      False otherwise.\n",
      " |  \n",
      " |  isdigit(...)\n",
      " |      S.isdigit() -> bool\n",
      " |      \n",
      " |      Return True if all characters in S are digits\n",
      " |      and there is at least one character in S, False otherwise.\n",
      " |  \n",
      " |  isidentifier(...)\n",
      " |      S.isidentifier() -> bool\n",
      " |      \n",
      " |      Return True if S is a valid identifier according\n",
      " |      to the language definition.\n",
      " |      \n",
      " |      Use keyword.iskeyword() to test for reserved identifiers\n",
      " |      such as \"def\" and \"class\".\n",
      " |  \n",
      " |  islower(...)\n",
      " |      S.islower() -> bool\n",
      " |      \n",
      " |      Return True if all cased characters in S are lowercase and there is\n",
      " |      at least one cased character in S, False otherwise.\n",
      " |  \n",
      " |  isnumeric(...)\n",
      " |      S.isnumeric() -> bool\n",
      " |      \n",
      " |      Return True if there are only numeric characters in S,\n",
      " |      False otherwise.\n",
      " |  \n",
      " |  isprintable(...)\n",
      " |      S.isprintable() -> bool\n",
      " |      \n",
      " |      Return True if all characters in S are considered\n",
      " |      printable in repr() or S is empty, False otherwise.\n",
      " |  \n",
      " |  isspace(...)\n",
      " |      S.isspace() -> bool\n",
      " |      \n",
      " |      Return True if all characters in S are whitespace\n",
      " |      and there is at least one character in S, False otherwise.\n",
      " |  \n",
      " |  istitle(...)\n",
      " |      S.istitle() -> bool\n",
      " |      \n",
      " |      Return True if S is a titlecased string and there is at least one\n",
      " |      character in S, i.e. upper- and titlecase characters may only\n",
      " |      follow uncased characters and lowercase characters only cased ones.\n",
      " |      Return False otherwise.\n",
      " |  \n",
      " |  isupper(...)\n",
      " |      S.isupper() -> bool\n",
      " |      \n",
      " |      Return True if all cased characters in S are uppercase and there is\n",
      " |      at least one cased character in S, False otherwise.\n",
      " |  \n",
      " |  join(...)\n",
      " |      S.join(iterable) -> str\n",
      " |      \n",
      " |      Return a string which is the concatenation of the strings in the\n",
      " |      iterable.  The separator between elements is S.\n",
      " |  \n",
      " |  ljust(...)\n",
      " |      S.ljust(width[, fillchar]) -> str\n",
      " |      \n",
      " |      Return S left-justified in a Unicode string of length width. Padding is\n",
      " |      done using the specified fill character (default is a space).\n",
      " |  \n",
      " |  lower(...)\n",
      " |      S.lower() -> str\n",
      " |      \n",
      " |      Return a copy of the string S converted to lowercase.\n",
      " |  \n",
      " |  lstrip(...)\n",
      " |      S.lstrip([chars]) -> str\n",
      " |      \n",
      " |      Return a copy of the string S with leading whitespace removed.\n",
      " |      If chars is given and not None, remove characters in chars instead.\n",
      " |  \n",
      " |  partition(...)\n",
      " |      S.partition(sep) -> (head, sep, tail)\n",
      " |      \n",
      " |      Search for the separator sep in S, and return the part before it,\n",
      " |      the separator itself, and the part after it.  If the separator is not\n",
      " |      found, return S and two empty strings.\n",
      " |  \n",
      " |  replace(...)\n",
      " |      S.replace(old, new[, count]) -> str\n",
      " |      \n",
      " |      Return a copy of S with all occurrences of substring\n",
      " |      old replaced by new.  If the optional argument count is\n",
      " |      given, only the first count occurrences are replaced.\n",
      " |  \n",
      " |  rfind(...)\n",
      " |      S.rfind(sub[, start[, end]]) -> int\n",
      " |      \n",
      " |      Return the highest index in S where substring sub is found,\n",
      " |      such that sub is contained within S[start:end].  Optional\n",
      " |      arguments start and end are interpreted as in slice notation.\n",
      " |      \n",
      " |      Return -1 on failure.\n",
      " |  \n",
      " |  rindex(...)\n",
      " |      S.rindex(sub[, start[, end]]) -> int\n",
      " |      \n",
      " |      Return the highest index in S where substring sub is found,\n",
      " |      such that sub is contained within S[start:end].  Optional\n",
      " |      arguments start and end are interpreted as in slice notation.\n",
      " |      \n",
      " |      Raises ValueError when the substring is not found.\n",
      " |  \n",
      " |  rjust(...)\n",
      " |      S.rjust(width[, fillchar]) -> str\n",
      " |      \n",
      " |      Return S right-justified in a string of length width. Padding is\n",
      " |      done using the specified fill character (default is a space).\n",
      " |  \n",
      " |  rpartition(...)\n",
      " |      S.rpartition(sep) -> (head, sep, tail)\n",
      " |      \n",
      " |      Search for the separator sep in S, starting at the end of S, and return\n",
      " |      the part before it, the separator itself, and the part after it.  If the\n",
      " |      separator is not found, return two empty strings and S.\n",
      " |  \n",
      " |  rsplit(...)\n",
      " |      S.rsplit(sep=None, maxsplit=-1) -> list of strings\n",
      " |      \n",
      " |      Return a list of the words in S, using sep as the\n",
      " |      delimiter string, starting at the end of the string and\n",
      " |      working to the front.  If maxsplit is given, at most maxsplit\n",
      " |      splits are done. If sep is not specified, any whitespace string\n",
      " |      is a separator.\n",
      " |  \n",
      " |  rstrip(...)\n",
      " |      S.rstrip([chars]) -> str\n",
      " |      \n",
      " |      Return a copy of the string S with trailing whitespace removed.\n",
      " |      If chars is given and not None, remove characters in chars instead.\n",
      " |  \n",
      " |  split(...)\n",
      " |      S.split(sep=None, maxsplit=-1) -> list of strings\n",
      " |      \n",
      " |      Return a list of the words in S, using sep as the\n",
      " |      delimiter string.  If maxsplit is given, at most maxsplit\n",
      " |      splits are done. If sep is not specified or is None, any\n",
      " |      whitespace string is a separator and empty strings are\n",
      " |      removed from the result.\n",
      " |  \n",
      " |  splitlines(...)\n",
      " |      S.splitlines([keepends]) -> list of strings\n",
      " |      \n",
      " |      Return a list of the lines in S, breaking at line boundaries.\n",
      " |      Line breaks are not included in the resulting list unless keepends\n",
      " |      is given and true.\n",
      " |  \n",
      " |  startswith(...)\n",
      " |      S.startswith(prefix[, start[, end]]) -> bool\n",
      " |      \n",
      " |      Return True if S starts with the specified prefix, False otherwise.\n",
      " |      With optional start, test S beginning at that position.\n",
      " |      With optional end, stop comparing S at that position.\n",
      " |      prefix can also be a tuple of strings to try.\n",
      " |  \n",
      " |  strip(...)\n",
      " |      S.strip([chars]) -> str\n",
      " |      \n",
      " |      Return a copy of the string S with leading and trailing\n",
      " |      whitespace removed.\n",
      " |      If chars is given and not None, remove characters in chars instead.\n",
      " |  \n",
      " |  swapcase(...)\n",
      " |      S.swapcase() -> str\n",
      " |      \n",
      " |      Return a copy of S with uppercase characters converted to lowercase\n",
      " |      and vice versa.\n",
      " |  \n",
      " |  title(...)\n",
      " |      S.title() -> str\n",
      " |      \n",
      " |      Return a titlecased version of S, i.e. words start with title case\n",
      " |      characters, all remaining cased characters have lower case.\n",
      " |  \n",
      " |  translate(...)\n",
      " |      S.translate(table) -> str\n",
      " |      \n",
      " |      Return a copy of the string S in which each character has been mapped\n",
      " |      through the given translation table. The table must implement\n",
      " |      lookup/indexing via __getitem__, for instance a dictionary or list,\n",
      " |      mapping Unicode ordinals to Unicode ordinals, strings, or None. If\n",
      " |      this operation raises LookupError, the character is left untouched.\n",
      " |      Characters mapped to None are deleted.\n",
      " |  \n",
      " |  upper(...)\n",
      " |      S.upper() -> str\n",
      " |      \n",
      " |      Return a copy of S converted to uppercase.\n",
      " |  \n",
      " |  zfill(...)\n",
      " |      S.zfill(width) -> str\n",
      " |      \n",
      " |      Pad a numeric string S with zeros on the left, to fill a field\n",
      " |      of the specified width. The string S is never truncated.\n",
      " |  \n",
      " |  ----------------------------------------------------------------------\n",
      " |  Static methods defined here:\n",
      " |  \n",
      " |  maketrans(x, y=None, z=None, /)\n",
      " |      Return a translation table usable for str.translate().\n",
      " |      \n",
      " |      If there is only one argument, it must be a dictionary mapping Unicode\n",
      " |      ordinals (integers) or characters to Unicode ordinals, strings or None.\n",
      " |      Character keys will be then converted to ordinals.\n",
      " |      If there are two arguments, they must be strings of equal length, and\n",
      " |      in the resulting dictionary, each character in x will be mapped to the\n",
      " |      character at the same position in y. If there is a third argument, it\n",
      " |      must be a string, whose characters will be mapped to None in the result.\n",
      "\n"
     ]
    }
   ],
   "source": [
    "help(str)"
   ]
  },
  {
   "cell_type": "markdown",
   "metadata": {},
   "source": [
    "We will not go through every method listed above. Instead, we will focus on the ones that are frequently used. An easy way to get help on the fly is to type the variable name followed by a period and a tab. For example, review.<TAB> will list methods that you can choose from.\n",
    "\n",
    "Sample methods:\n",
    "    upper() --> converts to uppercase\n",
    "    lower() --> converts to lowercase\n",
    "    swapcase() – case of each letter is switched\n",
    "    capitalize() – first letter is capitalized and the rest are lowercase\n",
    "    title() – first letter of each word is capitalized and all others are lowercase\n",
    "    strip() (trim() in some languages) – removes whitespaces from beginning and end of string; rstrip() and lstrip() can remove whitespaces that trail and lead, respectively\n",
    "    replace(old, new[, max]) – occurrences of “old” are replaced with “new”. Max is optional and limits the number of replacements \n"
   ]
  },
  {
   "cell_type": "code",
   "execution_count": 24,
   "metadata": {},
   "outputs": [
    {
     "name": "stdout",
     "output_type": "stream",
     "text": [
      "Using upper:    MAY THE WHOLE WORLD BE HAPPY!!      \n",
      "\n",
      "Using lower:    may the whole world be happy!!      \n",
      "\n",
      "Using swapcase:    MAY THE whole WORLD BE happy!!      \n",
      "\n",
      "Using strip: may the WHOLE world be HAPPY!!\n",
      "\n",
      "Using capitalize after removing spaces: May the whole world be happy!!\n",
      "\n",
      "Using title:    May The Whole World Be Happy!!      \n",
      "\n",
      "Using replace:    Let the WHOLE world be HAPPY!!      \n"
     ]
    }
   ],
   "source": [
    "#I have deliberately included leading and trailing spaces\n",
    "my_string = \"   may the WHOLE world be HAPPY!!      \"\n",
    "print(\"Using upper: \" + my_string.upper())\n",
    "print(\"\\nUsing lower: \" + my_string.lower())\n",
    "print(\"\\nUsing swapcase: \" + my_string.swapcase())\n",
    "print(\"\\nUsing strip: \" + my_string.strip())\n",
    "print(\"\\nUsing capitalize after removing spaces: \" + my_string.strip().capitalize())\n",
    "print(\"\\nUsing title: \" + my_string.title())\n",
    "print(\"\\nUsing replace: \" + my_string.replace(\"may\", \"Let\"))\n"
   ]
  },
  {
   "cell_type": "markdown",
   "metadata": {},
   "source": [
    "Note that the \"\\n\" (newline) character has inserted blank lines in front of every output. Also, observe that the string \"my_string\" is not modified (because strings are immutable).\n",
    "\n",
    "There is often a need to find the location of a character or a substring. There are two useful methods that allow us to do this, namely, index() and find(). The latter is a better option as you will soon discover. "
   ]
  },
  {
   "cell_type": "code",
   "execution_count": 72,
   "metadata": {},
   "outputs": [
    {
     "data": {
      "text/plain": [
       "11"
      ]
     },
     "execution_count": 72,
     "metadata": {},
     "output_type": "execute_result"
    }
   ],
   "source": [
    "s = \"Apples and oranges are good for health\"\n",
    "#using index to search for \"orange\"\n",
    "s.index(\"orange\") #returns 11, the index of the starting character 'o'"
   ]
  },
  {
   "cell_type": "code",
   "execution_count": 73,
   "metadata": {},
   "outputs": [
    {
     "ename": "ValueError",
     "evalue": "substring not found",
     "output_type": "error",
     "traceback": [
      "\u001b[0;31m---------------------------------------------------------------------------\u001b[0m",
      "\u001b[0;31mValueError\u001b[0m                                Traceback (most recent call last)",
      "\u001b[0;32m<ipython-input-73-1abd4e76d1d0>\u001b[0m in \u001b[0;36m<module>\u001b[0;34m()\u001b[0m\n\u001b[1;32m      1\u001b[0m \u001b[0;31m#let us search for \"Orange\" where \"O\" is uppercase\u001b[0m\u001b[0;34m\u001b[0m\u001b[0;34m\u001b[0m\u001b[0m\n\u001b[0;32m----> 2\u001b[0;31m \u001b[0ms\u001b[0m\u001b[0;34m.\u001b[0m\u001b[0mindex\u001b[0m\u001b[0;34m(\u001b[0m\u001b[0;34m\"Orange\"\u001b[0m\u001b[0;34m)\u001b[0m\u001b[0;34m\u001b[0m\u001b[0m\n\u001b[0m",
      "\u001b[0;31mValueError\u001b[0m: substring not found"
     ]
    }
   ],
   "source": [
    "#let us search for \"Orange\" where \"O\" is uppercase\n",
    "s.index(\"Orange\") #this will give an error"
   ]
  },
  {
   "cell_type": "markdown",
   "metadata": {},
   "source": [
    "Note that we get an error. Let us see how find does better....."
   ]
  },
  {
   "cell_type": "code",
   "execution_count": 74,
   "metadata": {},
   "outputs": [
    {
     "name": "stdout",
     "output_type": "stream",
     "text": [
      "11\n",
      "-1\n"
     ]
    }
   ],
   "source": [
    "print(s.find('orange'))\n",
    "print(s.find('Orange'))"
   ]
  },
  {
   "cell_type": "markdown",
   "metadata": {},
   "source": [
    "As you can see, the find method located the pattern \"orange\" and returned the starting index (11). When find does not locate the pattern, it returns -1.\n",
    "What if you have more than one occurrence of a pattern, as in this example:\n",
    "An orange is good for you. But, don't eat too many oranges.\n",
    "The substring \"orange\" occurs in two locations, so which index would find() return?"
   ]
  },
  {
   "cell_type": "code",
   "execution_count": 75,
   "metadata": {},
   "outputs": [
    {
     "data": {
      "text/plain": [
       "3"
      ]
     },
     "execution_count": 75,
     "metadata": {},
     "output_type": "execute_result"
    }
   ],
   "source": [
    "s = \"An orange is good for you. But, don't eat too many oranges.\"\n",
    "s.find(\"orange\")"
   ]
  },
  {
   "cell_type": "markdown",
   "metadata": {},
   "source": [
    "find() returns the first occurrence, of course. Try rfind to get the last index of the pattern."
   ]
  },
  {
   "cell_type": "code",
   "execution_count": 76,
   "metadata": {},
   "outputs": [
    {
     "data": {
      "text/plain": [
       "51"
      ]
     },
     "execution_count": 76,
     "metadata": {},
     "output_type": "execute_result"
    }
   ],
   "source": [
    "s.rfind(\"orange\")"
   ]
  },
  {
   "cell_type": "markdown",
   "metadata": {},
   "source": [
    "You can also left- and right-justify your text. Here are a few examples."
   ]
  },
  {
   "cell_type": "code",
   "execution_count": 77,
   "metadata": {},
   "outputs": [
    {
     "data": {
      "text/plain": [
       "'    It is a beautiful day'"
      ]
     },
     "execution_count": 77,
     "metadata": {},
     "output_type": "execute_result"
    }
   ],
   "source": [
    "s = \"It is a beautiful day\" #21 characters\n",
    "s.rjust(25) #right justify - field width will be 25"
   ]
  },
  {
   "cell_type": "code",
   "execution_count": 78,
   "metadata": {},
   "outputs": [
    {
     "data": {
      "text/plain": [
       "'It is a beautiful day    '"
      ]
     },
     "execution_count": 78,
     "metadata": {},
     "output_type": "execute_result"
    }
   ],
   "source": [
    "s.ljust(25)"
   ]
  },
  {
   "cell_type": "markdown",
   "metadata": {},
   "source": [
    "You can also remove punctuation (and digits) using maketrans and translate. maketrans can also be used to make encode your strings by replacing certain characters with certain others. Examples follow."
   ]
  },
  {
   "cell_type": "code",
   "execution_count": 80,
   "metadata": {},
   "outputs": [
    {
     "name": "stdout",
     "output_type": "stream",
     "text": [
      "What a lovely day  Yes  indeed  Do you want to play \n"
     ]
    }
   ],
   "source": [
    "#Removing punctuation\n",
    "import string\n",
    "p = string.punctuation #get all punctuations\n",
    "s = \"What a lovely day! Yes, indeed. Do you want to play?\"\n",
    "#let us remove punctuation from the string given above\n",
    "table = str.maketrans(p, \" \" * len(p))\n",
    "new_s = s.translate(table)\n",
    "print(new_s)"
   ]
  },
  {
   "cell_type": "markdown",
   "metadata": {},
   "source": [
    "The maketrans function takes two strings of equal length as parameters and replaces every character in the first with a corresponding character in the second. Let us look at an example:\n",
    "s = \"HAL 2000 was a computer\"\n",
    "table = str.maketrans(\"HAL\",\"IBM\") --> 'H' is replaced by 'I', 'A' by 'B', and 'L' by 'M'\n",
    "s.translate(table) will now yield: \"IBM 2000 was a computer\"\n",
    "Let us look at another example."
   ]
  },
  {
   "cell_type": "code",
   "execution_count": 81,
   "metadata": {},
   "outputs": [
    {
     "data": {
      "text/plain": [
       "'Thxy zwyytgw wxll bw wnuryptwv by rwpltuxng uhtrtutwry xn t yyytwzttxu wty.'"
      ]
     },
     "execution_count": 81,
     "metadata": {},
     "output_type": "execute_result"
    }
   ],
   "source": [
    "s = \"This message will be encrypted by replacing characters in a systematic way.\"\n",
    "table = str.maketrans(\"acdeism\", \"tuvwxyz\") #length of \"acdeism\" and \"tuvwxyz\" should be the same\n",
    "s.translate(table)"
   ]
  },
  {
   "cell_type": "code",
   "execution_count": 82,
   "metadata": {},
   "outputs": [
    {
     "data": {
      "text/plain": [
       "'0001234'"
      ]
     },
     "execution_count": 82,
     "metadata": {},
     "output_type": "execute_result"
    }
   ],
   "source": [
    "#using zfill() to pad a string with 0s\n",
    "s = '1234'\n",
    "s.zfill(7) #display s using a field width of 7, but pad the spaces with 0s"
   ]
  },
  {
   "cell_type": "markdown",
   "metadata": {},
   "source": [
    "The + and * operators can be used with strings. Let us see them in action."
   ]
  },
  {
   "cell_type": "code",
   "execution_count": 25,
   "metadata": {},
   "outputs": [
    {
     "name": "stdout",
     "output_type": "stream",
     "text": [
      "Andy Roberts\n"
     ]
    }
   ],
   "source": [
    "last_name = \"Roberts\"\n",
    "first_name = \"Andy\"\n",
    "full_name = first_name + \" \" + last_name # The + is used for concatenation\n",
    "print(full_name)"
   ]
  },
  {
   "cell_type": "code",
   "execution_count": 26,
   "metadata": {},
   "outputs": [
    {
     "name": "stdout",
     "output_type": "stream",
     "text": [
      "Roberts, Andy\n"
     ]
    }
   ],
   "source": [
    "#printing the full name in the format \"Last Name, First Name\"\n",
    "full_name = last_name + \", \" + first_name\n",
    "print(full_name)"
   ]
  },
  {
   "cell_type": "markdown",
   "metadata": {},
   "source": [
    "A note on concatenation: When you concatenate a number (int or float) or any other data type with a string, you must convert it to a string. There is no implicit conversion to a string in Python. See example below..."
   ]
  },
  {
   "cell_type": "code",
   "execution_count": 1,
   "metadata": {},
   "outputs": [
    {
     "name": "stdout",
     "output_type": "stream",
     "text": [
      "Enter your age: 10\n"
     ]
    },
    {
     "ename": "TypeError",
     "evalue": "must be str, not int",
     "output_type": "error",
     "traceback": [
      "\u001b[0;31m---------------------------------------------------------------------------\u001b[0m",
      "\u001b[0;31mTypeError\u001b[0m                                 Traceback (most recent call last)",
      "\u001b[0;32m<ipython-input-1-1b4d7b00c2f3>\u001b[0m in \u001b[0;36m<module>\u001b[0;34m()\u001b[0m\n\u001b[1;32m      1\u001b[0m \u001b[0mage\u001b[0m \u001b[0;34m=\u001b[0m \u001b[0meval\u001b[0m\u001b[0;34m(\u001b[0m\u001b[0minput\u001b[0m\u001b[0;34m(\u001b[0m\u001b[0;34m\"Enter your age: \"\u001b[0m\u001b[0;34m)\u001b[0m\u001b[0;34m)\u001b[0m \u001b[0;31m#age will be an integer if you enter a whole number\u001b[0m\u001b[0;34m\u001b[0m\u001b[0m\n\u001b[0;32m----> 2\u001b[0;31m \u001b[0mprint\u001b[0m\u001b[0;34m(\u001b[0m\u001b[0;34m\"You are \"\u001b[0m \u001b[0;34m+\u001b[0m \u001b[0mage\u001b[0m \u001b[0;34m+\u001b[0m \u001b[0;34m\" years old\"\u001b[0m\u001b[0;34m)\u001b[0m \u001b[0;31m#we are concatenating here...\u001b[0m\u001b[0;34m\u001b[0m\u001b[0m\n\u001b[0m\u001b[1;32m      3\u001b[0m \u001b[0;31m#Let us see what happens when we run this....it will give an error\u001b[0m\u001b[0;34m\u001b[0m\u001b[0;34m\u001b[0m\u001b[0m\n",
      "\u001b[0;31mTypeError\u001b[0m: must be str, not int"
     ]
    }
   ],
   "source": [
    "age = eval(input(\"Enter your age: \")) #age will be an integer if you enter a whole number\n",
    "print(\"You are \" + age + \" years old\") #we are concatenating here...\n",
    "#Let us see what happens when we run this....it will give an error"
   ]
  },
  {
   "cell_type": "code",
   "execution_count": 2,
   "metadata": {},
   "outputs": [
    {
     "name": "stdout",
     "output_type": "stream",
     "text": [
      "Enter your age: 10\n",
      "You are 10 years old\n"
     ]
    }
   ],
   "source": [
    "age = eval(input(\"Enter your age: \")) #age will be an integer if you enter a whole number\n",
    "print(\"You are \" + str(age) + \" years old\") #age is converted to string"
   ]
  },
  {
   "cell_type": "code",
   "execution_count": 28,
   "metadata": {},
   "outputs": [
    {
     "name": "stdout",
     "output_type": "stream",
     "text": [
      "********************\n",
      "HelloHelloHello\n",
      "********************\n"
     ]
    }
   ],
   "source": [
    "repeated_hello = \"Hello\" * 3 #repeats the string 3 times\n",
    "print(\"*\" * 20) #prints the * symbol 20 times on the same line\n",
    "print(repeated_hello)\n",
    "print(\"*\" * 20)"
   ]
  },
  {
   "cell_type": "markdown",
   "metadata": {},
   "source": [
    "How do we reverse a string? Conceptually, we would start with the last character, display it, and then move to the penultimate character, display it, and repeat the process until we display the first character.\n",
    "The pseudocode for this would be:\n",
    "set i to be the last character (i.e., i = my_string[-1]\n",
    "Repeat while i >= 0:\n",
    "    return ith character\n",
    "    decrement i\n",
    "In python, we can use slicing to achieve this.\n",
    "reverse_mystring = my_string[::-1]\n",
    "\n",
    "Essentially, [::-1] means start at the end and work your way to the beginning, each time decrementing by 1 (i.e., step = -1)"
   ]
  },
  {
   "cell_type": "code",
   "execution_count": 29,
   "metadata": {},
   "outputs": [
    {
     "data": {
      "text/plain": [
       "'elppa'"
      ]
     },
     "execution_count": 29,
     "metadata": {},
     "output_type": "execute_result"
    }
   ],
   "source": [
    "s = \"apple\"\n",
    "s[::-1]"
   ]
  },
  {
   "cell_type": "code",
   "execution_count": 30,
   "metadata": {},
   "outputs": [
    {
     "data": {
      "text/plain": [
       "'elppa'"
      ]
     },
     "execution_count": 30,
     "metadata": {},
     "output_type": "execute_result"
    }
   ],
   "source": [
    "#What is s? It will continue t be s. If you wish to reverse it and have\n",
    "#the change reflected in s, you need to do the following:\n",
    "s = s[::-1]\n",
    "s"
   ]
  },
  {
   "cell_type": "markdown",
   "metadata": {},
   "source": [
    "You will encounter a method called split() that is often used with strings. The general form of the split command is:\n",
    "S.split([sep], [maxsplit]) where sep is a separator and maxsplit is the number of splits you want.\n",
    "Sep and maxsplit are optional. The default separator is a whitespace.\n",
    "Let us look at some examples.\n"
   ]
  },
  {
   "cell_type": "code",
   "execution_count": 2,
   "metadata": {},
   "outputs": [
    {
     "data": {
      "text/plain": [
       "['this', 'is', 'a', 'test']"
      ]
     },
     "execution_count": 2,
     "metadata": {},
     "output_type": "execute_result"
    }
   ],
   "source": [
    "s = \"this is a test\"\n",
    "s.split() #whitespace is used as separator by default"
   ]
  },
  {
   "cell_type": "markdown",
   "metadata": {},
   "source": [
    "The result is a list (we will learn about lists later on) of words. "
   ]
  },
  {
   "cell_type": "code",
   "execution_count": 3,
   "metadata": {},
   "outputs": [
    {
     "data": {
      "text/plain": [
       "['apples', ' peaches', ' guavas', ' oranges']"
      ]
     },
     "execution_count": 3,
     "metadata": {},
     "output_type": "execute_result"
    }
   ],
   "source": [
    "s = \"apples, peaches, guavas, oranges\"\n",
    "s.split(\",\")"
   ]
  },
  {
   "cell_type": "code",
   "execution_count": 6,
   "metadata": {},
   "outputs": [
    {
     "data": {
      "text/plain": [
       "['apples', ' peaches, guavas, oranges']"
      ]
     },
     "execution_count": 6,
     "metadata": {},
     "output_type": "execute_result"
    }
   ],
   "source": [
    "s.split(\",\", 1) #I am specifying 1 split, which gives two strings"
   ]
  },
  {
   "cell_type": "code",
   "execution_count": 7,
   "metadata": {},
   "outputs": [
    {
     "data": {
      "text/plain": [
       "['apples', ' peaches', ' guavas, oranges']"
      ]
     },
     "execution_count": 7,
     "metadata": {},
     "output_type": "execute_result"
    }
   ],
   "source": [
    "s.split(\",\", 2) #gives 3 strings in a list"
   ]
  },
  {
   "cell_type": "code",
   "execution_count": 9,
   "metadata": {},
   "outputs": [
    {
     "data": {
      "text/plain": [
       "['apples, peaches, guavas', ' oranges']"
      ]
     },
     "execution_count": 9,
     "metadata": {},
     "output_type": "execute_result"
    }
   ],
   "source": [
    "#you can also do an rsplit()\n",
    "s.rsplit(\",\", 1) #see how it differs from split"
   ]
  },
  {
   "cell_type": "markdown",
   "metadata": {},
   "source": [
    "We shall discuss two more methods that we have found usefulin our work. These are startswith() and endswith(). As the names imply, these methods check to see if a string starts or ends with a partuclar substring, respectively. The following examples will illustrate these methods."
   ]
  },
  {
   "cell_type": "code",
   "execution_count": 1,
   "metadata": {},
   "outputs": [
    {
     "name": "stdout",
     "output_type": "stream",
     "text": [
      "True\n",
      "False\n",
      "True\n",
      "False\n",
      "True\n"
     ]
    }
   ],
   "source": [
    "s = \"Apple and Google have changed our lives.\"\n",
    "print(s.startswith(\"App\")) #Should be True\n",
    "print(s.startswith(\"apple\")) #False\n",
    "print(s.startswith(\"Apple\")) #True\n",
    "print(s.endswith(\"lives\")) #False -- period at the end is required\n",
    "print(s.endswith(\"lives.\")) #True"
   ]
  },
  {
   "cell_type": "markdown",
   "metadata": {},
   "source": [
    "Basics of regular expressions - very brief introduction\n",
    "\n",
    "Dealing with text can sometimes get very complicated. You may have to do some preprocessing of your text (e.g., removing punctuation and digits, substituting words), extract words or lines that conform to some pattern, and so forth. Regular expressions - often called RegEx - allow you to precisely define patterns consisting of characters and regex operators to extract the substrings you need.\n",
    "\n",
    "Python has a built-in package called re that is very useful for this purpose. But, first we must understand some of the operators we use to construct a regex.\n",
    "\n",
    ". matches any character except a newline (i.e., \\n)\n",
    "* matches zero or more occurrences of the preceding regular expression\n",
    "+ matches 1 or more occurrences of the preceding regular expression\n",
    "? matches 0 or 1 occurrence of the preceding regular expression\n",
    "\n",
    "Let us look at some examples."
   ]
  },
  {
   "cell_type": "code",
   "execution_count": 51,
   "metadata": {},
   "outputs": [
    {
     "data": {
      "text/plain": [
       "'!\"#$%&\\'()*+,-./:;<=>?@[\\\\]^_`{|}~'"
      ]
     },
     "execution_count": 51,
     "metadata": {},
     "output_type": "execute_result"
    }
   ],
   "source": [
    "#Let us look at all the punctuations\n",
    "import string\n",
    "string.punctuation"
   ]
  },
  {
   "cell_type": "code",
   "execution_count": 2,
   "metadata": {},
   "outputs": [
    {
     "data": {
      "text/plain": [
       "[\"George Orwell's \", \" was a great book, don't you think?\"]"
      ]
     },
     "execution_count": 2,
     "metadata": {},
     "output_type": "execute_result"
    }
   ],
   "source": [
    "#let us first remove only digits\n",
    "import re\n",
    "s = \"George Orwell's 1984 was a great book, don't you think?\"\n",
    "pattern = re.compile(\"[^\\d]+\")\n",
    "result = re.findall(pattern, s)\n",
    "result"
   ]
  },
  {
   "cell_type": "markdown",
   "metadata": {},
   "source": [
    "\\d matches any digit 0-9\n",
    "Since we don't want digits to be matched, we use ^\\d within [] (i.e., [^\\d]. The + is one or more occurrences of the preceding regular expression.\n",
    "Note that the output is a list of strings. Lists will be covered later. But, for now, a list is a collection of elements. For example, [\"dog\", \"cat\", \"pig\", \"monkey\"] is a list of strings representing names of animals. In our output, we have two strings, one that occurs before 1984 and the other after. We can concatenate the strings in a list as shown in the cell below.\n",
    "\n",
    "Here is a quick guide to RegEx (Source: Python for Everybody: Exploring Data in Python 3 by Dr. Charles Russell Severance; https://www.amazon.com/dp/1530051126/ref=as_sl_pc_as_ss_li_til?tag=drchu02-20&linkCode=w00&linkId=2ea6c883c6cf11f29568856139bad34b&creativeASIN=1530051126)\n",
    "\n",
    "Python Regular Expression Quick Guide\n",
    "\n",
    "^        Matches the beginning of a line\n",
    "$        Matches the end of the line\n",
    ".        Matches any character\n",
    "\\s       Matches whitespace\n",
    "\\S       Matches any non-whitespace character\n",
    "*        Repeats a character zero or more times\n",
    "*?       Repeats a character zero or more times \n",
    "         (non-greedy)\n",
    "+        Repeats a character one or more times\n",
    "+?       Repeats a character one or more times \n",
    "         (non-greedy)\n",
    "[aeiou]  Matches a single character in the listed set\n",
    "[^XYZ]   Matches a single character not in the listed set\n",
    "[a-z0-9] The set of characters can include a range\n",
    "(        Indicates where string extraction is to start\n",
    ")        Indicates where string extraction is to end\n"
   ]
  },
  {
   "cell_type": "code",
   "execution_count": 64,
   "metadata": {},
   "outputs": [
    {
     "data": {
      "text/plain": [
       "\"George Orwell's  was a great book, don't you think?\""
      ]
     },
     "execution_count": 64,
     "metadata": {},
     "output_type": "execute_result"
    }
   ],
   "source": [
    "result = \"\".join(result)\n",
    "result"
   ]
  },
  {
   "cell_type": "code",
   "execution_count": 54,
   "metadata": {},
   "outputs": [
    {
     "data": {
      "text/plain": [
       "'George Orwells  was a great book dont you think'"
      ]
     },
     "execution_count": 54,
     "metadata": {},
     "output_type": "execute_result"
    }
   ],
   "source": [
    "#let us use re to remove punctuations and digits\n",
    "pattern = re.compile(\"[^\\d!\\\"#$%&\\'()*+,-./:;<=>?@[\\\\]^_`{|}~]+\")\n",
    "\"\".join(re.findall(pattern, s))"
   ]
  },
  {
   "cell_type": "code",
   "execution_count": 3,
   "metadata": {},
   "outputs": [
    {
     "data": {
      "text/plain": [
       "['1984']"
      ]
     },
     "execution_count": 3,
     "metadata": {},
     "output_type": "execute_result"
    }
   ],
   "source": [
    "#extracting numbers from text\n",
    "re.findall('[0-9]+', s)"
   ]
  },
  {
   "cell_type": "code",
   "execution_count": 9,
   "metadata": {},
   "outputs": [
    {
     "data": {
      "text/plain": [
       "<_sre.SRE_Match object; span=(0, 5), match='Apple'>"
      ]
     },
     "execution_count": 9,
     "metadata": {},
     "output_type": "execute_result"
    }
   ],
   "source": [
    "#You can also use search with re - it works like the find method that \n",
    "#you saw earlier. Suppose we have:\n",
    "s = 'Apple makes iDevices. Google is into search. For everything else, we rely on Amazon and Microsoft.'\n",
    "#let us see if Apple is in the text\n",
    "re.search('Apple', s)"
   ]
  },
  {
   "cell_type": "markdown",
   "metadata": {},
   "source": [
    "The output shows that there was a match and that Apple starts at location and 0 and ends at 5 (which is what span tells you)."
   ]
  },
  {
   "cell_type": "code",
   "execution_count": 10,
   "metadata": {},
   "outputs": [
    {
     "data": {
      "text/plain": [
       "'Apple'"
      ]
     },
     "execution_count": 10,
     "metadata": {},
     "output_type": "execute_result"
    }
   ],
   "source": [
    "#let us see what it found\n",
    "re.search('Apple',s).group(0)"
   ]
  },
  {
   "cell_type": "markdown",
   "metadata": {},
   "source": [
    "Not surprisingly, it found 'Apple'. What if we search for something that is not in the string?"
   ]
  },
  {
   "cell_type": "code",
   "execution_count": 11,
   "metadata": {},
   "outputs": [],
   "source": [
    "re.search('UTA', s) #will return nothing"
   ]
  },
  {
   "cell_type": "code",
   "execution_count": 12,
   "metadata": {},
   "outputs": [
    {
     "data": {
      "text/plain": [
       "'iDevices. Google is into search. For everything else, we rely on Amazon'"
      ]
     },
     "execution_count": 12,
     "metadata": {},
     "output_type": "execute_result"
    }
   ],
   "source": [
    "#let us use search to extract a substring, say, from iDevices to Amazon, inclusive\n",
    "re.search(\"(iD.+Amazon)\", s).group(0)"
   ]
  },
  {
   "cell_type": "code",
   "execution_count": 15,
   "metadata": {},
   "outputs": [
    {
     "data": {
      "text/plain": [
       "['Google is into search. For everything else, we rely on ']"
      ]
     },
     "execution_count": 15,
     "metadata": {},
     "output_type": "execute_result"
    }
   ],
   "source": [
    "#What if we wanted to extract text between iDevices and Amazon, not inclusive?\n",
    "re.findall(\"iDevices\\. (.*)Amazon\", s)"
   ]
  },
  {
   "cell_type": "markdown",
   "metadata": {},
   "source": [
    "Note that \"(\" and \")\" are used to specify the from and to locations from where the string has to be matched. Let us try to extract specific patterns from some text. For example, let us say we have the following string:\n",
    "\n",
    "'I may be contacted at fname.lname@gmail.com or lname@uta.edu. You may also send a mail to questions@abc.com.'\n",
    "\n",
    "How do we extract all the email addresses from this string?"
   ]
  },
  {
   "cell_type": "code",
   "execution_count": 19,
   "metadata": {},
   "outputs": [
    {
     "data": {
      "text/plain": [
       "['fname.lname@gmail.com', 'lname@uta.edu', 'questions@abc.com']"
      ]
     },
     "execution_count": 19,
     "metadata": {},
     "output_type": "execute_result"
    }
   ],
   "source": [
    "s = 'I may be contacted at fname.lname@gmail.com or lname@uta.edu. You may also send a mail to questions@abc.com.'\n",
    "re.findall(\"\\w+\\.?\\w+@\\w+\\.\\w{3}\",s)"
   ]
  },
  {
   "cell_type": "markdown",
   "metadata": {},
   "source": [
    "Let us try to understand the pattern.\n",
    "\\w+ --> matches one or more alphanumeric (a-zA-Z0-9) characters\n",
    "\\.? --> matches 0 or 1 occurrence of a period (note that period is preceded by a backslash to prevent it from being regarded as a wildcard)\n",
    "\\.\\w{3} --> match a period followed by 3 alphanumeric characters\n",
    "\n",
    "It can be a lot simpler though.....\n"
   ]
  },
  {
   "cell_type": "code",
   "execution_count": 20,
   "metadata": {},
   "outputs": [
    {
     "data": {
      "text/plain": [
       "['fname.lname@gmail.com', 'lname@uta.edu.', 'questions@abc.com.']"
      ]
     },
     "execution_count": 20,
     "metadata": {},
     "output_type": "execute_result"
    }
   ],
   "source": [
    "re.findall('\\S+@\\S+', s)"
   ]
  },
  {
   "cell_type": "markdown",
   "metadata": {},
   "source": [
    "\\S stands for non-whitespace characters\n",
    "\\S+ is one or more non-whitespace characters\n",
    "\\S+@\\S+ is therefore one or more non-whitespaces, after which you have the \"@\" character followed by one or more non-whitespaces."
   ]
  },
  {
   "cell_type": "code",
   "execution_count": 83,
   "metadata": {},
   "outputs": [
    {
     "data": {
      "text/plain": [
       "'I am very thrilled today'"
      ]
     },
     "execution_count": 83,
     "metadata": {},
     "output_type": "execute_result"
    }
   ],
   "source": [
    "#using regex to substitute/replace words\n",
    "s = \"I am very happy today\"\n",
    "re.sub('happy', 'thrilled', s)"
   ]
  },
  {
   "cell_type": "markdown",
   "metadata": {},
   "source": [
    "There is a lot more to RegEx than what has been covered here. "
   ]
  }
 ],
 "metadata": {
  "kernelspec": {
   "display_name": "Python 3",
   "language": "python",
   "name": "python3"
  },
  "language_info": {
   "codemirror_mode": {
    "name": "ipython",
    "version": 3
   },
   "file_extension": ".py",
   "mimetype": "text/x-python",
   "name": "python",
   "nbconvert_exporter": "python",
   "pygments_lexer": "ipython3",
   "version": "3.6.5"
  }
 },
 "nbformat": 4,
 "nbformat_minor": 2
}
