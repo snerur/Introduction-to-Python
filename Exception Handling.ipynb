{
 "cells": [
  {
   "attachments": {},
   "cell_type": "markdown",
   "metadata": {},
   "source": [
    "Exception Handling\n",
    "\n",
    "@Authors: Sridhar Nerur, Samuel Jayarajan, and Mahyar Vaghefi\n",
    "\n",
    "Even the best of programmers get syntax errors before their programs are executed, or encounter exceptions when the program is running. The former (i.e., syntax errors) is detected before the parser converts the code to machine language, thus they have to be fixed before we can proceed with execution. Examples of syntax errors are give below:\n",
    "\n",
    "if age > 5\n",
    "    print(\"Age is greater than 5\") ==> What is the error? A missing colon?\n",
    "\n",
    "if age > 5:\n",
    "    print \"Age is greater than 5\" ==> See the error here?\n",
    "\n",
    "d = {[\"john\",\"mathew\"] : 25, [\"andy\",\"roberts\"]: 32} ==> list cannot be a key (\"unhashable\"), use a tuple instead\n",
    "\n",
    "9apple = 20 ==> variable name cannot start with a digit\n",
    "\n",
    "You get the general idea about what constitutes a syntax error. You have to fix them before you can proceed.\n",
    "\n",
    "What about exceptions that occur at runtime? For example, look at the following snippet:\n",
    "\n",
    "age = int(input(\"Enter your age as a whole number: \"))\n",
    "print(\"Your age is\", age)\n",
    "\n",
    "This snippet does not have syntax errors. But, an exception can occur if the user enters a floating point number (e.g., 5.5 --> \"I am 5.5 years old!\").\n",
    "For example, int(\"5.5\") would raise an exception at runtime. It is your responsibility as a developer to anticipate such exceptions and deal with them. Given below is a list of frequently encountered exceptions.\n",
    "\n",
    "IOError => nonexistent file\n",
    "IndexError => nonexistent element\n",
    "KeyError => dictionary key not found\n",
    "NameError => invalid variable/function name\n",
    "SyntaxError\n",
    "TypeError => function sent to inappropriate type\n",
    "ValueError => right type but invalid value\n",
    "ZeroDivisionError => self-explanatory (you are trying to divide by 0)\n",
    "\n",
    "This is where exception handling comes in. Let us look at some examples..\n",
    "\n"
   ]
  },
  {
   "cell_type": "code",
   "execution_count": 6,
   "metadata": {},
   "outputs": [
    {
     "name": "stdout",
     "output_type": "stream",
     "text": [
      "Enter your age as a whole number/integer: 5.5\n"
     ]
    },
    {
     "ename": "ValueError",
     "evalue": "invalid literal for int() with base 10: '5.5'",
     "output_type": "error",
     "traceback": [
      "\u001b[0;31m---------------------------------------------------------------------------\u001b[0m",
      "\u001b[0;31mValueError\u001b[0m                                Traceback (most recent call last)",
      "\u001b[0;32m<ipython-input-6-dfd15f024823>\u001b[0m in \u001b[0;36m<module>\u001b[0;34m()\u001b[0m\n\u001b[1;32m      1\u001b[0m \u001b[0;31m#let us look at the example from above\u001b[0m\u001b[0;34m\u001b[0m\u001b[0;34m\u001b[0m\u001b[0m\n\u001b[0;32m----> 2\u001b[0;31m \u001b[0mage\u001b[0m \u001b[0;34m=\u001b[0m \u001b[0mint\u001b[0m\u001b[0;34m(\u001b[0m\u001b[0minput\u001b[0m\u001b[0;34m(\u001b[0m\u001b[0;34m\"Enter your age as a whole number/integer: \"\u001b[0m\u001b[0;34m)\u001b[0m\u001b[0;34m)\u001b[0m\u001b[0;34m\u001b[0m\u001b[0m\n\u001b[0m\u001b[1;32m      3\u001b[0m \u001b[0mprint\u001b[0m\u001b[0;34m(\u001b[0m\u001b[0;34m\"You are\"\u001b[0m\u001b[0;34m,\u001b[0m \u001b[0mage\u001b[0m\u001b[0;34m,\u001b[0m \u001b[0;34m\" years old\"\u001b[0m\u001b[0;34m)\u001b[0m\u001b[0;34m\u001b[0m\u001b[0m\n",
      "\u001b[0;31mValueError\u001b[0m: invalid literal for int() with base 10: '5.5'"
     ]
    }
   ],
   "source": [
    "#let us look at the example from above\n",
    "age = int(input(\"Enter your age as a whole number/integer: \"))\n",
    "print(\"You are\", age, \" years old\")"
   ]
  },
  {
   "cell_type": "markdown",
   "metadata": {},
   "source": [
    "Notice that we got a ValueError because only an integer string (e.g., \"5\") can be converted to an int. 5.5 is a float and therefore cannot be cast to an integer. Likewise, int(\"five\") will also give you a ValueError. Let us see how we can handle this."
   ]
  },
  {
   "cell_type": "code",
   "execution_count": 7,
   "metadata": {},
   "outputs": [
    {
     "name": "stdout",
     "output_type": "stream",
     "text": [
      "Enter your age as a whole number/integer: 5.5\n",
      "Invalid input. You must enter an integer\n"
     ]
    }
   ],
   "source": [
    "try:\n",
    "    age = int(input(\"Enter your age as a whole number/integer: \"))\n",
    "    print(\"You are\", age, \" years old\")\n",
    "except ValueError: #if a ValueError occurs\n",
    "    print(\"Invalid input. You must enter an integer\")"
   ]
  },
  {
   "cell_type": "code",
   "execution_count": 21,
   "metadata": {},
   "outputs": [
    {
     "name": "stdout",
     "output_type": "stream",
     "text": [
      "Enter your age as a whole number/integer: 12.3\n",
      "invalid literal for int() with base 10: '12.3'\n",
      "Invalid input. You must enter an integer\n"
     ]
    }
   ],
   "source": [
    "#you can also display the error as follows\n",
    "try:\n",
    "    age = int(input(\"Enter your age as a whole number/integer: \"))\n",
    "    print(\"You are\", age, \" years old\")\n",
    "except ValueError as v: #if a ValueError occurs\n",
    "    print(v) #displays the specific error\n",
    "    print(\"Invalid input. You must enter an integer\")"
   ]
  },
  {
   "cell_type": "markdown",
   "metadata": {},
   "source": [
    "That is much better, isn't it? What if we wanted to keep prompting the user for age until he or she enters a valid value? Let us try it..."
   ]
  },
  {
   "cell_type": "code",
   "execution_count": 8,
   "metadata": {},
   "outputs": [
    {
     "name": "stdout",
     "output_type": "stream",
     "text": [
      "Enter your age as a whole number/integer: five\n",
      "Invalid input. You must enter an integer\n",
      "Enter your age as a whole number/integer: 5.5\n",
      "Invalid input. You must enter an integer\n",
      "Enter your age as a whole number/integer: 12\n",
      "You are 12  years old\n"
     ]
    }
   ],
   "source": [
    "while True:\n",
    "    try:\n",
    "        age = int(input(\"Enter your age as a whole number/integer: \"))\n",
    "        print(\"You are\", age, \" years old\")\n",
    "        break #break out of the loop as correct value was entered\n",
    "    except ValueError: #if a ValueError occurs\n",
    "        print(\"Invalid input. You must enter an integer\")"
   ]
  },
  {
   "cell_type": "markdown",
   "metadata": {},
   "source": [
    "The code shown above will only catch ValueErrors. If we change it to the following, it will catch all types of exceptions."
   ]
  },
  {
   "cell_type": "code",
   "execution_count": 9,
   "metadata": {},
   "outputs": [
    {
     "name": "stdout",
     "output_type": "stream",
     "text": [
      "Enter your age as a whole number/integer: 5\n",
      "You are 5  years old\n"
     ]
    }
   ],
   "source": [
    "while True:\n",
    "    try:\n",
    "        age = int(input(\"Enter your age as a whole number/integer: \"))\n",
    "        print(\"You are\", age, \" years old\")\n",
    "        break #break out of the loop as correct value was entered\n",
    "    except: #if a ValueError occurs\n",
    "        print(\"Invalid input. You must enter an integer\")"
   ]
  },
  {
   "cell_type": "code",
   "execution_count": 10,
   "metadata": {},
   "outputs": [
    {
     "name": "stdout",
     "output_type": "stream",
     "text": [
      "Enter numerator integer: 5\n",
      "Enter denominator integer: 4\n"
     ]
    }
   ],
   "source": [
    "#Consider the following code\n",
    "result = {} #a dictionary - key is a tuple of two integers and value is the first number divided by the second\n",
    "try:\n",
    "    a = int(input(\"Enter numerator integer: \"))\n",
    "    b = int(input(\"Enter denominator integer: \"))\n",
    "    score = a / b\n",
    "    result[(a,b)] = score\n",
    "except:\n",
    "    print(\"Something went wrong\")\n",
    "\n",
    "#let us run this"
   ]
  },
  {
   "cell_type": "code",
   "execution_count": 11,
   "metadata": {},
   "outputs": [
    {
     "data": {
      "text/plain": [
       "{(5, 4): 1.25}"
      ]
     },
     "execution_count": 11,
     "metadata": {},
     "output_type": "execute_result"
    }
   ],
   "source": [
    "result"
   ]
  },
  {
   "cell_type": "markdown",
   "metadata": {},
   "source": [
    "What are the things that can go wrong in this snippet? First, the user may not enter an integer, in which case we will get a ValueError. Sceond, the user may enter a 0 as the denominator. a / b would then give use a ZeroDivisionError. If we really need to distinguish between these two errors, we have to rewrite the code as follows."
   ]
  },
  {
   "cell_type": "code",
   "execution_count": 12,
   "metadata": {},
   "outputs": [
    {
     "name": "stdout",
     "output_type": "stream",
     "text": [
      "Enter numerator integer: 5.2\n",
      "Invalid input. It must be an integer\n"
     ]
    }
   ],
   "source": [
    "#Consider the following code\n",
    "result = {} #a dictionary - key is a tuple of two integers and value is the first number divided by the second\n",
    "try:\n",
    "    a = int(input(\"Enter numerator integer: \"))\n",
    "    b = int(input(\"Enter denominator integer: \"))\n",
    "    score = a / b\n",
    "    result[(a,b)] = score\n",
    "except ValueError:\n",
    "    print(\"Invalid input. It must be an integer\")\n",
    "except ZeroDivisionError:\n",
    "    print(\"You cannot divide by 0\")\n",
    "except: #for all other exceptions\n",
    "    print(\"Something went wrong\")\n",
    "#let us run this"
   ]
  },
  {
   "cell_type": "code",
   "execution_count": 13,
   "metadata": {},
   "outputs": [
    {
     "name": "stdout",
     "output_type": "stream",
     "text": [
      "Enter numerator integer: 5\n",
      "Enter denominator integer: 0\n",
      "You cannot divide by 0\n"
     ]
    }
   ],
   "source": [
    "#Same code as above, but we will create a ZeroDivisionError this time\n",
    "result = {} #a dictionary - key is a tuple of two integers and value is the first number divided by the second\n",
    "try:\n",
    "    a = int(input(\"Enter numerator integer: \"))\n",
    "    b = int(input(\"Enter denominator integer: \"))\n",
    "    score = a / b\n",
    "    result[(a,b)] = score\n",
    "except ValueError:\n",
    "    print(\"Invalid input. It must be an integer\")\n",
    "except ZeroDivisionError:\n",
    "    print(\"You cannot divide by 0\")\n",
    "except: #for all other exceptions\n",
    "    print(\"Something went wrong\")\n",
    "#let us run this"
   ]
  },
  {
   "cell_type": "code",
   "execution_count": 19,
   "metadata": {},
   "outputs": [
    {
     "name": "stdout",
     "output_type": "stream",
     "text": [
      "Enter numerator integer: 5.8\n",
      "Either a value error or a zero division error\n"
     ]
    }
   ],
   "source": [
    "#We could combine ValueError and ZeroDivisionError as follows:\n",
    "result = {} #a dictionary - key is a tuple of two integers and value is the first number divided by the second\n",
    "try:\n",
    "    a = int(input(\"Enter numerator integer: \"))\n",
    "    b = int(input(\"Enter denominator integer: \"))\n",
    "    score = a / b\n",
    "    result[(a,b)] = score\n",
    "except (ValueError, ZeroDivisionError): #for all other exceptions\n",
    "    print(\"Either a value error or a zero division error\")\n",
    "except:\n",
    "    print(\"Unknown error\")\n"
   ]
  },
  {
   "cell_type": "code",
   "execution_count": 24,
   "metadata": {},
   "outputs": [
    {
     "name": "stdout",
     "output_type": "stream",
     "text": [
      "Enter numerator integer: 3\n",
      "Enter denominator integer: 8\n",
      "3 / 8  is: 0.375\n"
     ]
    }
   ],
   "source": [
    "#We can use \"else\" to display or do something if the try block works\n",
    "result = {} #a dictionary - key is a tuple of two integers and value is the first number divided by the second\n",
    "try:\n",
    "    a = int(input(\"Enter numerator integer: \"))\n",
    "    b = int(input(\"Enter denominator integer: \"))\n",
    "    score = a / b\n",
    "    result[(a,b)] = score\n",
    "except (ValueError, ZeroDivisionError): #for all other exceptions\n",
    "    print(\"Either a value error or a zero division error\")\n",
    "except:\n",
    "    print(\"Unknown error\")\n",
    "else:\n",
    "    print(a, \"/\", b, \" is:\", score) #only displays when there are no exceptions"
   ]
  },
  {
   "cell_type": "code",
   "execution_count": 27,
   "metadata": {},
   "outputs": [
    {
     "name": "stdout",
     "output_type": "stream",
     "text": [
      "Enter numerator integer: 6\n",
      "Enter denominator integer: 4\n",
      "6 / 4  is: 1.5\n",
      "We are done\n"
     ]
    }
   ],
   "source": [
    "#There is a \"finally\" block that can be added to do some cleanup\n",
    "#tasks. The block is executed regardless of whether the try block works\n",
    "#or not\n",
    "result = {} #a dictionary - key is a tuple of two integers and value is the first number divided by the second\n",
    "try:\n",
    "    a = int(input(\"Enter numerator integer: \"))\n",
    "    b = int(input(\"Enter denominator integer: \"))\n",
    "    score = a / b\n",
    "    result[(a,b)] = score\n",
    "except (ValueError, ZeroDivisionError): #for all other exceptions\n",
    "    print(\"Either a value error or a zero division error\")\n",
    "except:\n",
    "    print(\"Unknown error\")\n",
    "else:\n",
    "    print(a, \"/\", b, \" is:\", score) #only displays when there are no exceptions\n",
    "finally: #this block is ALWAYS executed\n",
    "    #do some cleanup operations\n",
    "    print(\"We are done\")"
   ]
  },
  {
   "cell_type": "markdown",
   "metadata": {},
   "source": [
    "Check to ensure that finally executes even when there is an exception."
   ]
  }
 ],
 "metadata": {
  "kernelspec": {
   "display_name": "Python 3",
   "language": "python",
   "name": "python3"
  },
  "language_info": {
   "codemirror_mode": {
    "name": "ipython",
    "version": 3
   },
   "file_extension": ".py",
   "mimetype": "text/x-python",
   "name": "python",
   "nbconvert_exporter": "python",
   "pygments_lexer": "ipython3",
   "version": "3.6.5"
  }
 },
 "nbformat": 4,
 "nbformat_minor": 2
}
