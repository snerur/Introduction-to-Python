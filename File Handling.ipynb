{
 "cells": [
  {
   "cell_type": "markdown",
   "metadata": {},
   "source": [
    "File Handling\n",
    "\n",
    "@Authors: Sridhar Nerur, Samuel Jayarajan and Mahyar Vaghefi\n",
    "\n",
    "By now, you should be comfortable with variables, strings, arithmetic operations, lists, sets, tuples, dictionaries, and functions. After completing this notebook, you will know how to read from and write to files. The notebook also shows you how to read in xlsx and csv files using Pandas, a very powerful library that is extensively used in data science.\n",
    "\n",
    "A text file typically consists of a sequence of characters. It is normally stored in secondary memory and has to be retrieved and loaded into main memory for processing. The entire file can be read in as a string, or one may choose to extract just a few characters. We often find the newline character (\"\\n\") embedded in the text. That is, a file may consist of many lines of text. We can also retrieve a line at a time, or all the lines at once.\n",
    "\n",
    "Python provides a function called open() (surprise!) to access the contents of a file. Specifically, open() provides a \"handle\" to the file, allowing us to perform various operations on it. A typical sequence of operations would be:\n",
    "\n",
    "1. Open the file for reading or writing\n",
    "2. Read from or write to the file\n",
    "3. Close the file\n",
    "\n",
    "The open() function:\n",
    "The open() function requires the filename and has a few other parameters that can be set. The contents of a file can be in bytes (b) or strings (default). The following examples show how the open() function can be used.\n",
    "\n",
    "Example 1 (open to read a file):\n",
    "open(\"readme.txt\") ---> opens the file \"readme.txt\" for reading, which is the default mode\n",
    "OR\n",
    "open(\"readme.txt\", \"r\") ---> same as above, but \"r\" (reading) mode is explicitly provided\n",
    "\n",
    "Of course, this assumes that the file \"readme.txt\" exists in the current directory. If it is in a different directory, you need to specify the path as follows:\n",
    "\n",
    "open(\"temp/readme.txt\") --> look for the file in temp, a sub-directory in the current directory\n",
    "OR\n",
    "open(\"/Users/user_name/temp/readme.txt\") --> complete path\n",
    "\n",
    "If you wish to read the contents of the file as a byte stream, you can do the following:\n",
    "open(\"readme.txt\", \"rb\")\n",
    "\n",
    "Example 2 (open to write to a file):\n",
    "open(\"new_file.txt\", \"w\") --> open a file called \"new_file.txt\" for writing as a string. \n",
    "\n",
    "NOTE: If you already have a file called \"new_file.txt\", it will be truncated and you will lose its contents.\n",
    "\n",
    "open(\"new_file.txt\", \"wb\") --> same as above, except that you are writing out a byte stream.\n",
    "\n",
    "NOTE: You must close the file handle for the contents to be written to your file. See example:\n",
    "\n",
    "outfile = open(\"new_file.txt\", \"wb\")\n",
    "txt = \"This is a test\"\n",
    "outfile.write(txt)\n",
    "outfile.close() #VERY IMPORTANT TO CLOSE THE FILE\n",
    "\n",
    "MODES YOU CAN USE\n",
    "\n",
    "r  --> Read Mode (this is the default); file should exist\n",
    "w  --> Write Mode; if files exists, it will be truncated to size 0\n",
    "r+ --> Read/write; files should exist; anything you write to it will be appended\n",
    "a  --> Append mode; anything you write will be appended to the file\n",
    "t  --> Text mode (this is the default)\n",
    "b  --> Binary mode\n",
    "\n",
    "SUMMARY OF FILE HANDLING METHODS\n",
    "\n",
    "close()\n",
    "read([size]) => if size is not provided, all the characters from current position to End-of-File (EOF) are returned\n",
    "readline([size]) => size characters from current line are returned; if not provided, the entire line is returned\n",
    "readlines() => reads all the lines into a list (note: \\n will be included)\n",
    "write(output)\n",
    "writelines(output)\n",
    "\n",
    "Let us try some these commands.....I have a file called quotes.txt that I will be using to show you how some of the methods work.\n"
   ]
  },
  {
   "cell_type": "code",
   "execution_count": 18,
   "metadata": {},
   "outputs": [
    {
     "data": {
      "text/plain": [
       "\"To err is human but to screw up things you need a computer.\\nIf education is expensive, try ignorance.\\n\\nWhen beggars die there are no comets seen.\\nThe heavens themselves blaze forth the death of princes.\\n--Shakespeare\\nCowards die many times before their deaths.\\nThe valiant never taste of death but once.\\n--Shakespeare\\n\\n“The moving finger writes; and, having writ, moves on: nor all thy piety nor wit shall lure it back to cancel half a line, nor all thy tears wash out a word of it.\\n-- Omar Khayyam\\n\\n“Tis all a Chequer-board of nights and days\\nWhere Destiny with men for Pieces plays:\\nHither and thither moves, and mates,and slays,\\nAnd one by one back in the closet lays.”\\n\\n― Omar Khayyam\\n\\n“The boast of heraldry, the pomp of power, And all that beauty, all that wealth e'er gave, Awaits alike the inevitable hour. The paths of glory lead but to the grave.”\\n-- Thomas Gray\\n\""
      ]
     },
     "execution_count": 18,
     "metadata": {},
     "output_type": "execute_result"
    }
   ],
   "source": [
    "f = open(\"/Users/snerur/quotes.txt\", \"r\") #note: the second parameter is not needed\n",
    "txt = f.read() #read the entire file from the beginning to the end\n",
    "txt"
   ]
  },
  {
   "cell_type": "markdown",
   "metadata": {},
   "source": [
    "Note the \"\\n\" character in the text. They represent newline characters. When you use the print statement, a newline will be inserted where the \\n appears, as shown below."
   ]
  },
  {
   "cell_type": "code",
   "execution_count": 19,
   "metadata": {},
   "outputs": [
    {
     "name": "stdout",
     "output_type": "stream",
     "text": [
      "To err is human but to screw up things you need a computer.\n",
      "If education is expensive, try ignorance.\n",
      "\n",
      "When beggars die there are no comets seen.\n",
      "The heavens themselves blaze forth the death of princes.\n",
      "--Shakespeare\n",
      "Cowards die many times before their deaths.\n",
      "The valiant never taste of death but once.\n",
      "--Shakespeare\n",
      "\n",
      "“The moving finger writes; and, having writ, moves on: nor all thy piety nor wit shall lure it back to cancel half a line, nor all thy tears wash out a word of it.\n",
      "-- Omar Khayyam\n",
      "\n",
      "“Tis all a Chequer-board of nights and days\n",
      "Where Destiny with men for Pieces plays:\n",
      "Hither and thither moves, and mates,and slays,\n",
      "And one by one back in the closet lays.”\n",
      "\n",
      "― Omar Khayyam\n",
      "\n",
      "“The boast of heraldry, the pomp of power, And all that beauty, all that wealth e'er gave, Awaits alike the inevitable hour. The paths of glory lead but to the grave.”\n",
      "-- Thomas Gray\n",
      "\n"
     ]
    }
   ],
   "source": [
    "print(txt)"
   ]
  },
  {
   "cell_type": "markdown",
   "metadata": {},
   "source": [
    "When a file handle is obtained using the open() function, the cursor will be at the beginning of the file (at byte 0). When you use the f.read() command, the cursor advances one character at a time and the entire file is read in as a string. So, after the f.read() command is executed, the cursor will be at the end of the file. If you try f.read() again, you will get an empty string (see the cell below)."
   ]
  },
  {
   "cell_type": "code",
   "execution_count": 20,
   "metadata": {},
   "outputs": [
    {
     "data": {
      "text/plain": [
       "''"
      ]
     },
     "execution_count": 20,
     "metadata": {},
     "output_type": "execute_result"
    }
   ],
   "source": [
    "f.read()"
   ]
  },
  {
   "cell_type": "code",
   "execution_count": 21,
   "metadata": {},
   "outputs": [
    {
     "data": {
      "text/plain": [
       "\"To err is human but to screw up things you need a computer.\\nIf education is expensive, try ignorance.\\n\\nWhen beggars die there are no comets seen.\\nThe heavens themselves blaze forth the death of princes.\\n--Shakespeare\\nCowards die many times before their deaths.\\nThe valiant never taste of death but once.\\n--Shakespeare\\n\\n“The moving finger writes; and, having writ, moves on: nor all thy piety nor wit shall lure it back to cancel half a line, nor all thy tears wash out a word of it.\\n-- Omar Khayyam\\n\\n“Tis all a Chequer-board of nights and days\\nWhere Destiny with men for Pieces plays:\\nHither and thither moves, and mates,and slays,\\nAnd one by one back in the closet lays.”\\n\\n― Omar Khayyam\\n\\n“The boast of heraldry, the pomp of power, And all that beauty, all that wealth e'er gave, Awaits alike the inevitable hour. The paths of glory lead but to the grave.”\\n-- Thomas Gray\\n\""
      ]
     },
     "execution_count": 21,
     "metadata": {},
     "output_type": "execute_result"
    }
   ],
   "source": [
    "#You can move the cursor back to the beginning of the file by using the\n",
    "#seek method\n",
    "f.seek(0)\n",
    "#now try the f.read() command --- it should work\n",
    "f.read()"
   ]
  },
  {
   "cell_type": "code",
   "execution_count": 22,
   "metadata": {},
   "outputs": [],
   "source": [
    "f.close() #will close the file"
   ]
  },
  {
   "cell_type": "code",
   "execution_count": 23,
   "metadata": {},
   "outputs": [
    {
     "data": {
      "text/plain": [
       "['To err is human but to screw up things you need a computer.\\n',\n",
       " 'If education is expensive, try ignorance.\\n',\n",
       " '\\n',\n",
       " 'When beggars die there are no comets seen.\\n',\n",
       " 'The heavens themselves blaze forth the death of princes.\\n',\n",
       " '--Shakespeare\\n',\n",
       " 'Cowards die many times before their deaths.\\n',\n",
       " 'The valiant never taste of death but once.\\n',\n",
       " '--Shakespeare\\n',\n",
       " '\\n',\n",
       " '“The moving finger writes; and, having writ, moves on: nor all thy piety nor wit shall lure it back to cancel half a line, nor all thy tears wash out a word of it.\\n',\n",
       " '-- Omar Khayyam\\n',\n",
       " '\\n',\n",
       " '“Tis all a Chequer-board of nights and days\\n',\n",
       " 'Where Destiny with men for Pieces plays:\\n',\n",
       " 'Hither and thither moves, and mates,and slays,\\n',\n",
       " 'And one by one back in the closet lays.”\\n',\n",
       " '\\n',\n",
       " '― Omar Khayyam\\n',\n",
       " '\\n',\n",
       " \"“The boast of heraldry, the pomp of power, And all that beauty, all that wealth e'er gave, Awaits alike the inevitable hour. The paths of glory lead but to the grave.”\\n\",\n",
       " '-- Thomas Gray\\n']"
      ]
     },
     "execution_count": 23,
     "metadata": {},
     "output_type": "execute_result"
    }
   ],
   "source": [
    "#let us try to read in the lines\n",
    "f = open(\"/Users/snerur/quotes.txt\")\n",
    "lines = f.readlines()\n",
    "lines"
   ]
  },
  {
   "cell_type": "markdown",
   "metadata": {},
   "source": [
    "Note that the readlines() method reads all the lines into a list. Also, note that the newline character (\"\\n\") is part of the line. Let us try readline() to read in just a line."
   ]
  },
  {
   "cell_type": "code",
   "execution_count": 25,
   "metadata": {},
   "outputs": [
    {
     "data": {
      "text/plain": [
       "'To err is human but to screw up things you need a computer.\\n'"
      ]
     },
     "execution_count": 25,
     "metadata": {},
     "output_type": "execute_result"
    }
   ],
   "source": [
    "f.close()\n",
    "f = open(\"/Users/snerur/quotes.txt\")\n",
    "line = f.readline() #reads a line and advances the cursor to the next line\n",
    "line #will be a string"
   ]
  },
  {
   "cell_type": "code",
   "execution_count": 26,
   "metadata": {},
   "outputs": [
    {
     "data": {
      "text/plain": [
       "'If education is expe'"
      ]
     },
     "execution_count": 26,
     "metadata": {},
     "output_type": "execute_result"
    }
   ],
   "source": [
    "#the cursor is now at the beginning of the second line\n",
    "#let us read the first 20 characters from the current line\n",
    "line2_20characters = f.readline(20)\n",
    "line2_20characters"
   ]
  },
  {
   "cell_type": "code",
   "execution_count": 32,
   "metadata": {},
   "outputs": [
    {
     "data": {
      "text/plain": [
       "'To err is human but '"
      ]
     },
     "execution_count": 32,
     "metadata": {},
     "output_type": "execute_result"
    }
   ],
   "source": [
    "f.seek(0) #move the cursor back to the beginning of the file\n",
    "#let us now display the first 20 characters of first line\n",
    "f.read(20) #this reads in 20 characters and the cursor will be at the 21st character\n"
   ]
  },
  {
   "cell_type": "code",
   "execution_count": 33,
   "metadata": {},
   "outputs": [
    {
     "data": {
      "text/plain": [
       "'to screw up things you ne'"
      ]
     },
     "execution_count": 33,
     "metadata": {},
     "output_type": "execute_result"
    }
   ],
   "source": [
    "#display the next 25 characters\n",
    "f.read(25)"
   ]
  },
  {
   "cell_type": "code",
   "execution_count": 34,
   "metadata": {},
   "outputs": [],
   "source": [
    "#let us close the file\n",
    "f.close()"
   ]
  },
  {
   "cell_type": "markdown",
   "metadata": {},
   "source": [
    "Note that we have to remember to close the file every time. A better way to handle files is as follows (and this is what we would recommend).\n",
    "\n",
    "with open(\"......\", \"r\") as infile:\n",
    "    txt = infile.read()\n",
    "    Do something with txt\n",
    "\n",
    "Note the indentation after the first line. THe indentation creates a block that scopes the file. The moment you exit the block (by going back to the beginning of the line), the file is automatically closed. \n",
    "\n",
    "Let us use this to add a new quote to the quotes.txt file."
   ]
  },
  {
   "cell_type": "code",
   "execution_count": 36,
   "metadata": {},
   "outputs": [],
   "source": [
    "quote = \"\"\"Life isn't about finding yourself. Life is about creating yourself. \\\n",
    "\\n-- George Bernard Shaw\"\"\"\n",
    "with open(\"/Users/snerur/quotes.txt\", \"a+\") as outfile:\n",
    "    outfile.write(quote)"
   ]
  },
  {
   "cell_type": "code",
   "execution_count": 37,
   "metadata": {},
   "outputs": [
    {
     "name": "stdout",
     "output_type": "stream",
     "text": [
      "To err is human but to screw up things you need a computer.\n",
      "If education is expensive, try ignorance.\n",
      "\n",
      "When beggars die there are no comets seen.\n",
      "The heavens themselves blaze forth the death of princes.\n",
      "--Shakespeare\n",
      "Cowards die many times before their deaths.\n",
      "The valiant never taste of death but once.\n",
      "--Shakespeare\n",
      "\n",
      "“The moving finger writes; and, having writ, moves on: nor all thy piety nor wit shall lure it back to cancel half a line, nor all thy tears wash out a word of it.\n",
      "-- Omar Khayyam\n",
      "\n",
      "“Tis all a Chequer-board of nights and days\n",
      "Where Destiny with men for Pieces plays:\n",
      "Hither and thither moves, and mates,and slays,\n",
      "And one by one back in the closet lays.”\n",
      "\n",
      "― Omar Khayyam\n",
      "\n",
      "“The boast of heraldry, the pomp of power, And all that beauty, all that wealth e'er gave, Awaits alike the inevitable hour. The paths of glory lead but to the grave.”\n",
      "-- Thomas Gray\n",
      "Life isn't about finding yourself. Life is about creating yourself. \n",
      "-- George Bernard Shaw\n"
     ]
    }
   ],
   "source": [
    "#let us check to see if our new quote has been added\n",
    "with open(\"/Users/snerur/quotes.txt\") as infile:\n",
    "    txt = infile.read()\n",
    "print(txt) #note that the file will be closed automatically"
   ]
  },
  {
   "cell_type": "markdown",
   "metadata": {},
   "source": [
    "In the snippet where we wrote the new quote to the file, why didn't we use \"w+\" as the mode? Remember that \"w\" will wipe out the contents of the file. Therefore, we used \"a+\" which will allow us to append to the file."
   ]
  },
  {
   "cell_type": "code",
   "execution_count": 38,
   "metadata": {},
   "outputs": [
    {
     "name": "stdout",
     "output_type": "stream",
     "text": [
      "23\n"
     ]
    }
   ],
   "source": [
    "#How many lines does the file have?\n",
    "#One easy way to do it is to count the number of occurrences of \"\\n\"\n",
    "lines = txt.count(\"\\n\")\n",
    "print(lines)"
   ]
  },
  {
   "cell_type": "code",
   "execution_count": 39,
   "metadata": {},
   "outputs": [
    {
     "name": "stdout",
     "output_type": "stream",
     "text": [
      "Number of words in file is:  172\n"
     ]
    }
   ],
   "source": [
    "#How many words do we have in the file?\n",
    "#One way to do find out is to split the string to get the words \n",
    "#into a list and then get the length of the list\n",
    "words = txt.split()\n",
    "print(\"Number of words in file is: \", len(words))"
   ]
  },
  {
   "cell_type": "code",
   "execution_count": 40,
   "metadata": {},
   "outputs": [
    {
     "name": "stdout",
     "output_type": "stream",
     "text": [
      "{'To': 1, 'err': 1, 'is': 3, 'human': 1, 'but': 3, 'to': 3, 'screw': 1, 'up': 1, 'things': 1, 'you': 1, 'need': 1, 'a': 4, 'computer.': 1, 'If': 1, 'education': 1, 'expensive,': 1, 'try': 1, 'ignorance.': 1, 'When': 1, 'beggars': 1, 'die': 2, 'there': 1, 'are': 1, 'no': 1, 'comets': 1, 'seen.': 1, 'The': 3, 'heavens': 1, 'themselves': 1, 'blaze': 1, 'forth': 1, 'the': 5, 'death': 2, 'of': 7, 'princes.': 1, '--Shakespeare': 2, 'Cowards': 1, 'many': 1, 'times': 1, 'before': 1, 'their': 1, 'deaths.': 1, 'valiant': 1, 'never': 1, 'taste': 1, 'once.': 1, '“The': 2, 'moving': 1, 'finger': 1, 'writes;': 1, 'and,': 1, 'having': 1, 'writ,': 1, 'moves': 1, 'on:': 1, 'nor': 3, 'all': 5, 'thy': 2, 'piety': 1, 'wit': 1, 'shall': 1, 'lure': 1, 'it': 1, 'back': 2, 'cancel': 1, 'half': 1, 'line,': 1, 'tears': 1, 'wash': 1, 'out': 1, 'word': 1, 'it.': 1, '--': 3, 'Omar': 2, 'Khayyam': 2, '“Tis': 1, 'Chequer-board': 1, 'nights': 1, 'and': 3, 'days': 1, 'Where': 1, 'Destiny': 1, 'with': 1, 'men': 1, 'for': 1, 'Pieces': 1, 'plays:': 1, 'Hither': 1, 'thither': 1, 'moves,': 1, 'mates,and': 1, 'slays,': 1, 'And': 2, 'one': 2, 'by': 1, 'in': 1, 'closet': 1, 'lays.”': 1, '―': 1, 'boast': 1, 'heraldry,': 1, 'pomp': 1, 'power,': 1, 'that': 2, 'beauty,': 1, 'wealth': 1, \"e'er\": 1, 'gave,': 1, 'Awaits': 1, 'alike': 1, 'inevitable': 1, 'hour.': 1, 'paths': 1, 'glory': 1, 'lead': 1, 'grave.”': 1, 'Thomas': 1, 'Gray': 1, 'Life': 2, \"isn't\": 1, 'about': 2, 'finding': 1, 'yourself.': 2, 'creating': 1, 'George': 1, 'Bernard': 1, 'Shaw': 1}\n"
     ]
    }
   ],
   "source": [
    "#Let us get the frequency of each word in the file\n",
    "#We will create a dictionary with word as the key and frequency of \n",
    "#occurrence as the value\n",
    "word_counts = {} #empty dictionary\n",
    "for word in words:\n",
    "    word_counts[word] = word_counts.get(word, 0) + 1 #remember the get() method?\n",
    "print(word_counts)    "
   ]
  },
  {
   "cell_type": "markdown",
   "metadata": {},
   "source": [
    "Now that we know how to read from and write to text files, let us turn our attention to xlsx/csv files. We will use a package called Pandas for this purpose. This is a very very basic introduction to Pandas. \n",
    "\n",
    "In this notebook, we will show you how to read from a spreadsheet and then examine the contents. Pandas stores everything in a structure called \"Dataframe\", which is a tabular format that resembles tables in a database. We will use a file called \"iris.csv\", a csv file that is often used to teach data science. The way you read from a csv file is as follows:\n",
    "\n",
    "import pandas as pd\n",
    "df = pd.read_csv(\"iris.csv\", sep = \",\") #sep is the field separator, comma by default\n",
    "\n",
    "To read from an excel file, we use read_excel instead of read_csv. "
   ]
  },
  {
   "cell_type": "code",
   "execution_count": 42,
   "metadata": {},
   "outputs": [
    {
     "data": {
      "text/html": [
       "<div>\n",
       "<style scoped>\n",
       "    .dataframe tbody tr th:only-of-type {\n",
       "        vertical-align: middle;\n",
       "    }\n",
       "\n",
       "    .dataframe tbody tr th {\n",
       "        vertical-align: top;\n",
       "    }\n",
       "\n",
       "    .dataframe thead th {\n",
       "        text-align: right;\n",
       "    }\n",
       "</style>\n",
       "<table border=\"1\" class=\"dataframe\">\n",
       "  <thead>\n",
       "    <tr style=\"text-align: right;\">\n",
       "      <th></th>\n",
       "      <th>sepallength</th>\n",
       "      <th>sepalwidth</th>\n",
       "      <th>petallength</th>\n",
       "      <th>petalwidth</th>\n",
       "      <th>class</th>\n",
       "    </tr>\n",
       "  </thead>\n",
       "  <tbody>\n",
       "    <tr>\n",
       "      <th>0</th>\n",
       "      <td>5.1</td>\n",
       "      <td>3.5</td>\n",
       "      <td>1.4</td>\n",
       "      <td>0.2</td>\n",
       "      <td>Iris-setosa</td>\n",
       "    </tr>\n",
       "    <tr>\n",
       "      <th>1</th>\n",
       "      <td>4.9</td>\n",
       "      <td>3.0</td>\n",
       "      <td>1.4</td>\n",
       "      <td>0.2</td>\n",
       "      <td>Iris-setosa</td>\n",
       "    </tr>\n",
       "    <tr>\n",
       "      <th>2</th>\n",
       "      <td>4.7</td>\n",
       "      <td>3.2</td>\n",
       "      <td>1.3</td>\n",
       "      <td>0.2</td>\n",
       "      <td>Iris-setosa</td>\n",
       "    </tr>\n",
       "    <tr>\n",
       "      <th>3</th>\n",
       "      <td>4.6</td>\n",
       "      <td>3.1</td>\n",
       "      <td>1.5</td>\n",
       "      <td>0.2</td>\n",
       "      <td>Iris-setosa</td>\n",
       "    </tr>\n",
       "    <tr>\n",
       "      <th>4</th>\n",
       "      <td>5.0</td>\n",
       "      <td>3.6</td>\n",
       "      <td>1.4</td>\n",
       "      <td>0.2</td>\n",
       "      <td>Iris-setosa</td>\n",
       "    </tr>\n",
       "  </tbody>\n",
       "</table>\n",
       "</div>"
      ],
      "text/plain": [
       "   sepallength  sepalwidth  petallength  petalwidth        class\n",
       "0          5.1         3.5          1.4         0.2  Iris-setosa\n",
       "1          4.9         3.0          1.4         0.2  Iris-setosa\n",
       "2          4.7         3.2          1.3         0.2  Iris-setosa\n",
       "3          4.6         3.1          1.5         0.2  Iris-setosa\n",
       "4          5.0         3.6          1.4         0.2  Iris-setosa"
      ]
     },
     "execution_count": 42,
     "metadata": {},
     "output_type": "execute_result"
    }
   ],
   "source": [
    "import pandas as pd\n",
    "df = pd.read_csv(\"/Users/snerur/Dropbox/sparkExamples/iris.csv\")\n",
    "df.head() #display the first five rows of the dataframe"
   ]
  },
  {
   "cell_type": "markdown",
   "metadata": {},
   "source": [
    "The iris dataset consists of four predictors or independent variables (sepallength, sepalwidth, petallength, and petalwidth) and a target variable called \"class\". The goal is to predict the class (species of a flower) based on the four predictors. To see the different species in the \"class\" column, we can do the following."
   ]
  },
  {
   "cell_type": "code",
   "execution_count": 43,
   "metadata": {},
   "outputs": [
    {
     "data": {
      "text/plain": [
       "array(['Iris-setosa', 'Iris-versicolor', 'Iris-virginica'], dtype=object)"
      ]
     },
     "execution_count": 43,
     "metadata": {},
     "output_type": "execute_result"
    }
   ],
   "source": [
    "df['class'].unique()"
   ]
  },
  {
   "cell_type": "markdown",
   "metadata": {},
   "source": [
    "df['class'] looks only at the \"class\" column. The unique() method in this example shows you the unique strings in the \"class\" column. As you can see, there are 3 of them. \n",
    "\n",
    "1. To see the values of any column, say petallength, we do the following:\n",
    "df['petallength']\n",
    "2. To see more than one column (say, sepallength and petalwidth), we do the following:\n",
    "df[['sepallength', 'petalwidth']]\n",
    "3. To get some descriptive statistics about the columns, you can do the following:\n",
    "df.describe()\n",
    "4. If you wish to get all the column names, you can do the following:\n",
    "df.columns\n",
    "\n",
    "Let us try some of these....."
   ]
  },
  {
   "cell_type": "code",
   "execution_count": 44,
   "metadata": {},
   "outputs": [
    {
     "data": {
      "text/plain": [
       "0      1.4\n",
       "1      1.4\n",
       "2      1.3\n",
       "3      1.5\n",
       "4      1.4\n",
       "      ... \n",
       "145    5.2\n",
       "146    5.0\n",
       "147    5.2\n",
       "148    5.4\n",
       "149    5.1\n",
       "Name: petallength, Length: 150, dtype: float64"
      ]
     },
     "execution_count": 44,
     "metadata": {},
     "output_type": "execute_result"
    }
   ],
   "source": [
    "df['petallength']"
   ]
  },
  {
   "cell_type": "code",
   "execution_count": 45,
   "metadata": {},
   "outputs": [
    {
     "data": {
      "text/html": [
       "<div>\n",
       "<style scoped>\n",
       "    .dataframe tbody tr th:only-of-type {\n",
       "        vertical-align: middle;\n",
       "    }\n",
       "\n",
       "    .dataframe tbody tr th {\n",
       "        vertical-align: top;\n",
       "    }\n",
       "\n",
       "    .dataframe thead th {\n",
       "        text-align: right;\n",
       "    }\n",
       "</style>\n",
       "<table border=\"1\" class=\"dataframe\">\n",
       "  <thead>\n",
       "    <tr style=\"text-align: right;\">\n",
       "      <th></th>\n",
       "      <th>sepallength</th>\n",
       "      <th>petalwidth</th>\n",
       "    </tr>\n",
       "  </thead>\n",
       "  <tbody>\n",
       "    <tr>\n",
       "      <th>0</th>\n",
       "      <td>5.1</td>\n",
       "      <td>0.2</td>\n",
       "    </tr>\n",
       "    <tr>\n",
       "      <th>1</th>\n",
       "      <td>4.9</td>\n",
       "      <td>0.2</td>\n",
       "    </tr>\n",
       "    <tr>\n",
       "      <th>2</th>\n",
       "      <td>4.7</td>\n",
       "      <td>0.2</td>\n",
       "    </tr>\n",
       "    <tr>\n",
       "      <th>3</th>\n",
       "      <td>4.6</td>\n",
       "      <td>0.2</td>\n",
       "    </tr>\n",
       "    <tr>\n",
       "      <th>4</th>\n",
       "      <td>5.0</td>\n",
       "      <td>0.2</td>\n",
       "    </tr>\n",
       "    <tr>\n",
       "      <th>...</th>\n",
       "      <td>...</td>\n",
       "      <td>...</td>\n",
       "    </tr>\n",
       "    <tr>\n",
       "      <th>145</th>\n",
       "      <td>6.7</td>\n",
       "      <td>2.3</td>\n",
       "    </tr>\n",
       "    <tr>\n",
       "      <th>146</th>\n",
       "      <td>6.3</td>\n",
       "      <td>1.9</td>\n",
       "    </tr>\n",
       "    <tr>\n",
       "      <th>147</th>\n",
       "      <td>6.5</td>\n",
       "      <td>2.0</td>\n",
       "    </tr>\n",
       "    <tr>\n",
       "      <th>148</th>\n",
       "      <td>6.2</td>\n",
       "      <td>2.3</td>\n",
       "    </tr>\n",
       "    <tr>\n",
       "      <th>149</th>\n",
       "      <td>5.9</td>\n",
       "      <td>1.8</td>\n",
       "    </tr>\n",
       "  </tbody>\n",
       "</table>\n",
       "<p>150 rows × 2 columns</p>\n",
       "</div>"
      ],
      "text/plain": [
       "     sepallength  petalwidth\n",
       "0            5.1         0.2\n",
       "1            4.9         0.2\n",
       "2            4.7         0.2\n",
       "3            4.6         0.2\n",
       "4            5.0         0.2\n",
       "..           ...         ...\n",
       "145          6.7         2.3\n",
       "146          6.3         1.9\n",
       "147          6.5         2.0\n",
       "148          6.2         2.3\n",
       "149          5.9         1.8\n",
       "\n",
       "[150 rows x 2 columns]"
      ]
     },
     "execution_count": 45,
     "metadata": {},
     "output_type": "execute_result"
    }
   ],
   "source": [
    "df[['sepallength', 'petalwidth']]"
   ]
  },
  {
   "cell_type": "code",
   "execution_count": 46,
   "metadata": {},
   "outputs": [
    {
     "data": {
      "text/html": [
       "<div>\n",
       "<style scoped>\n",
       "    .dataframe tbody tr th:only-of-type {\n",
       "        vertical-align: middle;\n",
       "    }\n",
       "\n",
       "    .dataframe tbody tr th {\n",
       "        vertical-align: top;\n",
       "    }\n",
       "\n",
       "    .dataframe thead th {\n",
       "        text-align: right;\n",
       "    }\n",
       "</style>\n",
       "<table border=\"1\" class=\"dataframe\">\n",
       "  <thead>\n",
       "    <tr style=\"text-align: right;\">\n",
       "      <th></th>\n",
       "      <th>sepallength</th>\n",
       "      <th>sepalwidth</th>\n",
       "      <th>petallength</th>\n",
       "      <th>petalwidth</th>\n",
       "    </tr>\n",
       "  </thead>\n",
       "  <tbody>\n",
       "    <tr>\n",
       "      <th>count</th>\n",
       "      <td>150.000000</td>\n",
       "      <td>150.000000</td>\n",
       "      <td>150.000000</td>\n",
       "      <td>150.000000</td>\n",
       "    </tr>\n",
       "    <tr>\n",
       "      <th>mean</th>\n",
       "      <td>5.843333</td>\n",
       "      <td>3.054000</td>\n",
       "      <td>3.758667</td>\n",
       "      <td>1.198667</td>\n",
       "    </tr>\n",
       "    <tr>\n",
       "      <th>std</th>\n",
       "      <td>0.828066</td>\n",
       "      <td>0.433594</td>\n",
       "      <td>1.764420</td>\n",
       "      <td>0.763161</td>\n",
       "    </tr>\n",
       "    <tr>\n",
       "      <th>min</th>\n",
       "      <td>4.300000</td>\n",
       "      <td>2.000000</td>\n",
       "      <td>1.000000</td>\n",
       "      <td>0.100000</td>\n",
       "    </tr>\n",
       "    <tr>\n",
       "      <th>25%</th>\n",
       "      <td>5.100000</td>\n",
       "      <td>2.800000</td>\n",
       "      <td>1.600000</td>\n",
       "      <td>0.300000</td>\n",
       "    </tr>\n",
       "    <tr>\n",
       "      <th>50%</th>\n",
       "      <td>5.800000</td>\n",
       "      <td>3.000000</td>\n",
       "      <td>4.350000</td>\n",
       "      <td>1.300000</td>\n",
       "    </tr>\n",
       "    <tr>\n",
       "      <th>75%</th>\n",
       "      <td>6.400000</td>\n",
       "      <td>3.300000</td>\n",
       "      <td>5.100000</td>\n",
       "      <td>1.800000</td>\n",
       "    </tr>\n",
       "    <tr>\n",
       "      <th>max</th>\n",
       "      <td>7.900000</td>\n",
       "      <td>4.400000</td>\n",
       "      <td>6.900000</td>\n",
       "      <td>2.500000</td>\n",
       "    </tr>\n",
       "  </tbody>\n",
       "</table>\n",
       "</div>"
      ],
      "text/plain": [
       "       sepallength  sepalwidth  petallength  petalwidth\n",
       "count   150.000000  150.000000   150.000000  150.000000\n",
       "mean      5.843333    3.054000     3.758667    1.198667\n",
       "std       0.828066    0.433594     1.764420    0.763161\n",
       "min       4.300000    2.000000     1.000000    0.100000\n",
       "25%       5.100000    2.800000     1.600000    0.300000\n",
       "50%       5.800000    3.000000     4.350000    1.300000\n",
       "75%       6.400000    3.300000     5.100000    1.800000\n",
       "max       7.900000    4.400000     6.900000    2.500000"
      ]
     },
     "execution_count": 46,
     "metadata": {},
     "output_type": "execute_result"
    }
   ],
   "source": [
    "#get descriptive statistics\n",
    "df.describe()"
   ]
  },
  {
   "cell_type": "code",
   "execution_count": 47,
   "metadata": {},
   "outputs": [
    {
     "data": {
      "text/html": [
       "<div>\n",
       "<style scoped>\n",
       "    .dataframe tbody tr th:only-of-type {\n",
       "        vertical-align: middle;\n",
       "    }\n",
       "\n",
       "    .dataframe tbody tr th {\n",
       "        vertical-align: top;\n",
       "    }\n",
       "\n",
       "    .dataframe thead th {\n",
       "        text-align: right;\n",
       "    }\n",
       "</style>\n",
       "<table border=\"1\" class=\"dataframe\">\n",
       "  <thead>\n",
       "    <tr style=\"text-align: right;\">\n",
       "      <th></th>\n",
       "      <th>count</th>\n",
       "      <th>mean</th>\n",
       "      <th>std</th>\n",
       "      <th>min</th>\n",
       "      <th>25%</th>\n",
       "      <th>50%</th>\n",
       "      <th>75%</th>\n",
       "      <th>max</th>\n",
       "    </tr>\n",
       "  </thead>\n",
       "  <tbody>\n",
       "    <tr>\n",
       "      <th>sepallength</th>\n",
       "      <td>150.0</td>\n",
       "      <td>5.843333</td>\n",
       "      <td>0.828066</td>\n",
       "      <td>4.3</td>\n",
       "      <td>5.1</td>\n",
       "      <td>5.80</td>\n",
       "      <td>6.4</td>\n",
       "      <td>7.9</td>\n",
       "    </tr>\n",
       "    <tr>\n",
       "      <th>sepalwidth</th>\n",
       "      <td>150.0</td>\n",
       "      <td>3.054000</td>\n",
       "      <td>0.433594</td>\n",
       "      <td>2.0</td>\n",
       "      <td>2.8</td>\n",
       "      <td>3.00</td>\n",
       "      <td>3.3</td>\n",
       "      <td>4.4</td>\n",
       "    </tr>\n",
       "    <tr>\n",
       "      <th>petallength</th>\n",
       "      <td>150.0</td>\n",
       "      <td>3.758667</td>\n",
       "      <td>1.764420</td>\n",
       "      <td>1.0</td>\n",
       "      <td>1.6</td>\n",
       "      <td>4.35</td>\n",
       "      <td>5.1</td>\n",
       "      <td>6.9</td>\n",
       "    </tr>\n",
       "    <tr>\n",
       "      <th>petalwidth</th>\n",
       "      <td>150.0</td>\n",
       "      <td>1.198667</td>\n",
       "      <td>0.763161</td>\n",
       "      <td>0.1</td>\n",
       "      <td>0.3</td>\n",
       "      <td>1.30</td>\n",
       "      <td>1.8</td>\n",
       "      <td>2.5</td>\n",
       "    </tr>\n",
       "  </tbody>\n",
       "</table>\n",
       "</div>"
      ],
      "text/plain": [
       "             count      mean       std  min  25%   50%  75%  max\n",
       "sepallength  150.0  5.843333  0.828066  4.3  5.1  5.80  6.4  7.9\n",
       "sepalwidth   150.0  3.054000  0.433594  2.0  2.8  3.00  3.3  4.4\n",
       "petallength  150.0  3.758667  1.764420  1.0  1.6  4.35  5.1  6.9\n",
       "petalwidth   150.0  1.198667  0.763161  0.1  0.3  1.30  1.8  2.5"
      ]
     },
     "execution_count": 47,
     "metadata": {},
     "output_type": "execute_result"
    }
   ],
   "source": [
    "#you can get the transpose of the previous output by doing this...\n",
    "df.describe().T #T is for transpose"
   ]
  },
  {
   "cell_type": "markdown",
   "metadata": {},
   "source": [
    "As you can see, the describe() method gives you the number of observations, mean, standard deviation, minimum value, maximum value, and the 25th, 50th, and 75th percentiles. Pretty neat, isn't it.\n",
    "There's more...if we wish to display records that have more than average \"sepalwidth\" (i.e., more than 3.054 as shown above), we can do the following."
   ]
  },
  {
   "cell_type": "code",
   "execution_count": 48,
   "metadata": {},
   "outputs": [
    {
     "data": {
      "text/html": [
       "<div>\n",
       "<style scoped>\n",
       "    .dataframe tbody tr th:only-of-type {\n",
       "        vertical-align: middle;\n",
       "    }\n",
       "\n",
       "    .dataframe tbody tr th {\n",
       "        vertical-align: top;\n",
       "    }\n",
       "\n",
       "    .dataframe thead th {\n",
       "        text-align: right;\n",
       "    }\n",
       "</style>\n",
       "<table border=\"1\" class=\"dataframe\">\n",
       "  <thead>\n",
       "    <tr style=\"text-align: right;\">\n",
       "      <th></th>\n",
       "      <th>sepallength</th>\n",
       "      <th>sepalwidth</th>\n",
       "      <th>petallength</th>\n",
       "      <th>petalwidth</th>\n",
       "      <th>class</th>\n",
       "    </tr>\n",
       "  </thead>\n",
       "  <tbody>\n",
       "    <tr>\n",
       "      <th>0</th>\n",
       "      <td>5.1</td>\n",
       "      <td>3.5</td>\n",
       "      <td>1.4</td>\n",
       "      <td>0.2</td>\n",
       "      <td>Iris-setosa</td>\n",
       "    </tr>\n",
       "    <tr>\n",
       "      <th>2</th>\n",
       "      <td>4.7</td>\n",
       "      <td>3.2</td>\n",
       "      <td>1.3</td>\n",
       "      <td>0.2</td>\n",
       "      <td>Iris-setosa</td>\n",
       "    </tr>\n",
       "    <tr>\n",
       "      <th>3</th>\n",
       "      <td>4.6</td>\n",
       "      <td>3.1</td>\n",
       "      <td>1.5</td>\n",
       "      <td>0.2</td>\n",
       "      <td>Iris-setosa</td>\n",
       "    </tr>\n",
       "    <tr>\n",
       "      <th>4</th>\n",
       "      <td>5.0</td>\n",
       "      <td>3.6</td>\n",
       "      <td>1.4</td>\n",
       "      <td>0.2</td>\n",
       "      <td>Iris-setosa</td>\n",
       "    </tr>\n",
       "    <tr>\n",
       "      <th>5</th>\n",
       "      <td>5.4</td>\n",
       "      <td>3.9</td>\n",
       "      <td>1.7</td>\n",
       "      <td>0.4</td>\n",
       "      <td>Iris-setosa</td>\n",
       "    </tr>\n",
       "    <tr>\n",
       "      <th>...</th>\n",
       "      <td>...</td>\n",
       "      <td>...</td>\n",
       "      <td>...</td>\n",
       "      <td>...</td>\n",
       "      <td>...</td>\n",
       "    </tr>\n",
       "    <tr>\n",
       "      <th>140</th>\n",
       "      <td>6.7</td>\n",
       "      <td>3.1</td>\n",
       "      <td>5.6</td>\n",
       "      <td>2.4</td>\n",
       "      <td>Iris-virginica</td>\n",
       "    </tr>\n",
       "    <tr>\n",
       "      <th>141</th>\n",
       "      <td>6.9</td>\n",
       "      <td>3.1</td>\n",
       "      <td>5.1</td>\n",
       "      <td>2.3</td>\n",
       "      <td>Iris-virginica</td>\n",
       "    </tr>\n",
       "    <tr>\n",
       "      <th>143</th>\n",
       "      <td>6.8</td>\n",
       "      <td>3.2</td>\n",
       "      <td>5.9</td>\n",
       "      <td>2.3</td>\n",
       "      <td>Iris-virginica</td>\n",
       "    </tr>\n",
       "    <tr>\n",
       "      <th>144</th>\n",
       "      <td>6.7</td>\n",
       "      <td>3.3</td>\n",
       "      <td>5.7</td>\n",
       "      <td>2.5</td>\n",
       "      <td>Iris-virginica</td>\n",
       "    </tr>\n",
       "    <tr>\n",
       "      <th>148</th>\n",
       "      <td>6.2</td>\n",
       "      <td>3.4</td>\n",
       "      <td>5.4</td>\n",
       "      <td>2.3</td>\n",
       "      <td>Iris-virginica</td>\n",
       "    </tr>\n",
       "  </tbody>\n",
       "</table>\n",
       "<p>67 rows × 5 columns</p>\n",
       "</div>"
      ],
      "text/plain": [
       "     sepallength  sepalwidth  petallength  petalwidth           class\n",
       "0            5.1         3.5          1.4         0.2     Iris-setosa\n",
       "2            4.7         3.2          1.3         0.2     Iris-setosa\n",
       "3            4.6         3.1          1.5         0.2     Iris-setosa\n",
       "4            5.0         3.6          1.4         0.2     Iris-setosa\n",
       "5            5.4         3.9          1.7         0.4     Iris-setosa\n",
       "..           ...         ...          ...         ...             ...\n",
       "140          6.7         3.1          5.6         2.4  Iris-virginica\n",
       "141          6.9         3.1          5.1         2.3  Iris-virginica\n",
       "143          6.8         3.2          5.9         2.3  Iris-virginica\n",
       "144          6.7         3.3          5.7         2.5  Iris-virginica\n",
       "148          6.2         3.4          5.4         2.3  Iris-virginica\n",
       "\n",
       "[67 rows x 5 columns]"
      ]
     },
     "execution_count": 48,
     "metadata": {},
     "output_type": "execute_result"
    }
   ],
   "source": [
    "df[df['sepalwidth'] > 3.054]"
   ]
  },
  {
   "cell_type": "markdown",
   "metadata": {},
   "source": [
    "67 of the 150 observations have more than average sepalwidth. Just a few more things before we wrap up..."
   ]
  },
  {
   "cell_type": "code",
   "execution_count": 49,
   "metadata": {},
   "outputs": [
    {
     "data": {
      "text/html": [
       "<div>\n",
       "<style scoped>\n",
       "    .dataframe tbody tr th:only-of-type {\n",
       "        vertical-align: middle;\n",
       "    }\n",
       "\n",
       "    .dataframe tbody tr th {\n",
       "        vertical-align: top;\n",
       "    }\n",
       "\n",
       "    .dataframe thead th {\n",
       "        text-align: right;\n",
       "    }\n",
       "</style>\n",
       "<table border=\"1\" class=\"dataframe\">\n",
       "  <thead>\n",
       "    <tr style=\"text-align: right;\">\n",
       "      <th></th>\n",
       "      <th>sepallength</th>\n",
       "      <th>sepalwidth</th>\n",
       "      <th>petallength</th>\n",
       "      <th>petalwidth</th>\n",
       "    </tr>\n",
       "  </thead>\n",
       "  <tbody>\n",
       "    <tr>\n",
       "      <th>sepallength</th>\n",
       "      <td>1.000000</td>\n",
       "      <td>-0.109369</td>\n",
       "      <td>0.871754</td>\n",
       "      <td>0.817954</td>\n",
       "    </tr>\n",
       "    <tr>\n",
       "      <th>sepalwidth</th>\n",
       "      <td>-0.109369</td>\n",
       "      <td>1.000000</td>\n",
       "      <td>-0.420516</td>\n",
       "      <td>-0.356544</td>\n",
       "    </tr>\n",
       "    <tr>\n",
       "      <th>petallength</th>\n",
       "      <td>0.871754</td>\n",
       "      <td>-0.420516</td>\n",
       "      <td>1.000000</td>\n",
       "      <td>0.962757</td>\n",
       "    </tr>\n",
       "    <tr>\n",
       "      <th>petalwidth</th>\n",
       "      <td>0.817954</td>\n",
       "      <td>-0.356544</td>\n",
       "      <td>0.962757</td>\n",
       "      <td>1.000000</td>\n",
       "    </tr>\n",
       "  </tbody>\n",
       "</table>\n",
       "</div>"
      ],
      "text/plain": [
       "             sepallength  sepalwidth  petallength  petalwidth\n",
       "sepallength     1.000000   -0.109369     0.871754    0.817954\n",
       "sepalwidth     -0.109369    1.000000    -0.420516   -0.356544\n",
       "petallength     0.871754   -0.420516     1.000000    0.962757\n",
       "petalwidth      0.817954   -0.356544     0.962757    1.000000"
      ]
     },
     "execution_count": 49,
     "metadata": {},
     "output_type": "execute_result"
    }
   ],
   "source": [
    "df.corr() #get the correlations among the variables"
   ]
  },
  {
   "cell_type": "code",
   "execution_count": 51,
   "metadata": {},
   "outputs": [
    {
     "data": {
      "text/plain": [
       "<matplotlib.axes._subplots.AxesSubplot at 0x136b353c8>"
      ]
     },
     "execution_count": 51,
     "metadata": {},
     "output_type": "execute_result"
    },
    {
     "data": {
      "image/png": "[encoded data removed]",
      "text/plain": [
       "<Figure size 432x288 with 2 Axes>"
      ]
     },
     "metadata": {},
     "output_type": "display_data"
    }
   ],
   "source": [
    "#Don't like the output? Want a heatmap instead? Let us use seaborn\n",
    "import seaborn as sns #NOTE: the package seaborn has to be installed\n",
    "#You may install seaborn by typing: pip install seaborn at the command prompt\n",
    "sns.heatmap(df.corr())"
   ]
  },
  {
   "cell_type": "code",
   "execution_count": 54,
   "metadata": {},
   "outputs": [
    {
     "data": {
      "text/plain": [
       "<matplotlib.axes._subplots.AxesSubplot at 0x136e22518>"
      ]
     },
     "execution_count": 54,
     "metadata": {},
     "output_type": "execute_result"
    },
    {
     "data": {
      "image/png": "[encoded data removed]",
      "text/plain": [
       "<Figure size 432x288 with 1 Axes>"
      ]
     },
     "metadata": {},
     "output_type": "display_data"
    }
   ],
   "source": [
    "#Looks like sepallength is highly correlated with both\n",
    "#petallength and petalwidth. Let us plot them....\n",
    "df.plot(x = 'sepallength', y = 'petalwidth', kind = 'scatter')\n"
   ]
  },
  {
   "cell_type": "code",
   "execution_count": 58,
   "metadata": {},
   "outputs": [
    {
     "data": {
      "text/plain": [
       "array([[<matplotlib.axes._subplots.AxesSubplot object at 0x1378f70b8>,\n",
       "        <matplotlib.axes._subplots.AxesSubplot object at 0x137b3a080>,\n",
       "        <matplotlib.axes._subplots.AxesSubplot object at 0x137b6fda0>,\n",
       "        <matplotlib.axes._subplots.AxesSubplot object at 0x137d07390>],\n",
       "       [<matplotlib.axes._subplots.AxesSubplot object at 0x137d35940>,\n",
       "        <matplotlib.axes._subplots.AxesSubplot object at 0x137d66ef0>,\n",
       "        <matplotlib.axes._subplots.AxesSubplot object at 0x137da44e0>,\n",
       "        <matplotlib.axes._subplots.AxesSubplot object at 0x137dd4ac8>],\n",
       "       [<matplotlib.axes._subplots.AxesSubplot object at 0x137dd4b00>,\n",
       "        <matplotlib.axes._subplots.AxesSubplot object at 0x137e43630>,\n",
       "        <matplotlib.axes._subplots.AxesSubplot object at 0x137e76be0>,\n",
       "        <matplotlib.axes._subplots.AxesSubplot object at 0x137eb41d0>],\n",
       "       [<matplotlib.axes._subplots.AxesSubplot object at 0x137ee3780>,\n",
       "        <matplotlib.axes._subplots.AxesSubplot object at 0x137f16d30>,\n",
       "        <matplotlib.axes._subplots.AxesSubplot object at 0x137f54320>,\n",
       "        <matplotlib.axes._subplots.AxesSubplot object at 0x137f828d0>]],\n",
       "      dtype=object)"
      ]
     },
     "execution_count": 58,
     "metadata": {},
     "output_type": "execute_result"
    },
    {
     "data": {
      "image/png": "[encoded data removed]",
      "text/plain": [
       "<Figure size 576x576 with 16 Axes>"
      ]
     },
     "metadata": {},
     "output_type": "display_data"
    }
   ],
   "source": [
    "#if you want to look at plots of all relationships, you can use\n",
    "#a scatter matrix as follows\n",
    "from pandas.plotting import scatter_matrix\n",
    "scatter_matrix(df, figsize = (8, 8))"
   ]
  },
  {
   "cell_type": "markdown",
   "metadata": {},
   "source": [
    "Almost done. Just one last thing. How do we write a dataframe to a spreadsheet or a csv file? We will show you how to quickly create a dataframe and write it to an excel sheet."
   ]
  },
  {
   "cell_type": "code",
   "execution_count": 59,
   "metadata": {},
   "outputs": [
    {
     "data": {
      "text/html": [
       "<div>\n",
       "<style scoped>\n",
       "    .dataframe tbody tr th:only-of-type {\n",
       "        vertical-align: middle;\n",
       "    }\n",
       "\n",
       "    .dataframe tbody tr th {\n",
       "        vertical-align: top;\n",
       "    }\n",
       "\n",
       "    .dataframe thead th {\n",
       "        text-align: right;\n",
       "    }\n",
       "</style>\n",
       "<table border=\"1\" class=\"dataframe\">\n",
       "  <thead>\n",
       "    <tr style=\"text-align: right;\">\n",
       "      <th></th>\n",
       "      <th>User</th>\n",
       "      <th>Movie</th>\n",
       "      <th>Rating</th>\n",
       "    </tr>\n",
       "  </thead>\n",
       "  <tbody>\n",
       "    <tr>\n",
       "      <th>0</th>\n",
       "      <td>George</td>\n",
       "      <td>The Jungle Book</td>\n",
       "      <td>4.0</td>\n",
       "    </tr>\n",
       "    <tr>\n",
       "      <th>1</th>\n",
       "      <td>Peter</td>\n",
       "      <td>ET</td>\n",
       "      <td>3.5</td>\n",
       "    </tr>\n",
       "    <tr>\n",
       "      <th>2</th>\n",
       "      <td>Nancy</td>\n",
       "      <td>21</td>\n",
       "      <td>5.0</td>\n",
       "    </tr>\n",
       "    <tr>\n",
       "      <th>3</th>\n",
       "      <td>Peter</td>\n",
       "      <td>Star Wars</td>\n",
       "      <td>2.0</td>\n",
       "    </tr>\n",
       "  </tbody>\n",
       "</table>\n",
       "</div>"
      ],
      "text/plain": [
       "     User            Movie  Rating\n",
       "0  George  The Jungle Book     4.0\n",
       "1   Peter               ET     3.5\n",
       "2   Nancy               21     5.0\n",
       "3   Peter        Star Wars     2.0"
      ]
     },
     "execution_count": 59,
     "metadata": {},
     "output_type": "execute_result"
    }
   ],
   "source": [
    "movie_reviews = {'User': ['George', 'Peter', 'Nancy', 'Peter'],\n",
    "                 'Movie': ['The Jungle Book', 'ET', '21', 'Star Wars'],\n",
    "                 'Rating': [4.0, 3.5, 5.0, 2.0]}\n",
    "#Note that the lists are of the same length - these are the records\n",
    "#Let us put this dictionary in a tabular format using a DataFrame\n",
    "movie_df = pd.DataFrame(movie_reviews)\n",
    "movie_df"
   ]
  },
  {
   "cell_type": "code",
   "execution_count": null,
   "metadata": {},
   "outputs": [],
   "source": [
    "#Writing the dataframe to external files\n",
    "movie_df.to_excel(\"movie_reviews.xlsx\")\n",
    "movie_df.to_csv(\"movie_reviews.csv\")"
   ]
  },
  {
   "cell_type": "markdown",
   "metadata": {},
   "source": [
    "A Note on Pickle\n",
    "\n",
    "Python has a module called \"pickle\" that allows one to convert a Python object hierarchy to a byte stream. It can also convert a serialized Python object hierarchy stored as bytes in a file back to the Python object hierarchy. See https://docs.python.org/3/library/pickle.html for details.\n",
    "\n",
    "The following examples demonstrate how pickle and \"unpickle\" work."
   ]
  },
  {
   "cell_type": "code",
   "execution_count": 61,
   "metadata": {},
   "outputs": [],
   "source": [
    "import pickle\n",
    "\n",
    "games = [\"cricket\", \"tennis\", \"soccer\"]\n",
    "physicists = [\"Einstein\", \"Planck\", \"Bohr\"]\n",
    "\n",
    "with open(\"my_lists.dat\", \"wb\") as outfile:\n",
    "    pickle.dump(games, outfile) #serializes games and stores it as bytes\n",
    "    pickle.dump(physicists, outfile) #same with physicists\n",
    "\n",
    "#Your directory should now have a file called my_lists.dat"
   ]
  },
  {
   "cell_type": "code",
   "execution_count": 63,
   "metadata": {},
   "outputs": [
    {
     "name": "stdout",
     "output_type": "stream",
     "text": [
      "['cricket', 'tennis', 'soccer']\n",
      "['Einstein', 'Planck', 'Bohr']\n"
     ]
    }
   ],
   "source": [
    "#let us read the two lists back\n",
    "with open(\"my_lists.dat\", \"rb\") as infile:\n",
    "    my_games = pickle.load(infile)\n",
    "    my_physicists = pickle.load(infile)\n",
    "print(my_games)\n",
    "print(my_physicists)"
   ]
  }
 ],
 "metadata": {
  "kernelspec": {
   "display_name": "Python 3",
   "language": "python",
   "name": "python3"
  },
  "language_info": {
   "codemirror_mode": {
    "name": "ipython",
    "version": 3
   },
   "file_extension": ".py",
   "mimetype": "text/x-python",
   "name": "python",
   "nbconvert_exporter": "python",
   "pygments_lexer": "ipython3",
   "version": "3.6.5"
  }
 },
 "nbformat": 4,
 "nbformat_minor": 2
}
