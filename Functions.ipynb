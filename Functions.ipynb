{
 "cells": [
  {
   "cell_type": "markdown",
   "metadata": {},
   "source": [
    "Functions\n",
    "\n",
    "@Authors: Sridhar Nerur, Samuel Jayarajan, and Mahyar Vaghefi\n",
    "\n",
    "A function in Python and other languages is often written to accomplish a specific task. There are many built-in functions in Python as well as functions available in libraries/packages (e.g., math) that simplify programming. Given below are some examples of functions.\n",
    "\n",
    "len([1, 2, 3]) --> 3\n",
    "len function gives the length of the argument - a list in this case\n",
    "\n",
    "len(\"hello\") --> 5 (argument is a string in this example)\n",
    "\n",
    "sum([1, 2, 3, 4]) --> 10 (argument is a list)\n",
    "\n",
    "min(8, 3) --> 3. (min returns minimum of two numbers)\n",
    "\n",
    "math.sqrt(5) --> 2.23606797749979 (5 is the argument)\n",
    "math.pow(2, 3) --> 8.0 (2 and 3 are arguments)\n",
    "\n",
    "print(\"Hello World!\") --> Hello World!\n",
    "\n",
    "print() --> displays a blank line (Note that this time there is no argument)\n",
    "\n",
    "What can we infer from these examples?\n",
    "1. Functions perform specific tasks - finding minimum/maximum, summing, printing, finding length, and so forth.\n",
    "2. Functions are cohesive - they are very focused; it is never a good idea to have functions that do multiple things. For example, in a banking application, you should have separate functions for withdrawal and deposits.\n",
    "3. Functions take zero or more arguments.\n",
    "4. Functions may or may not return values. For example, the math.sqrt function returns a value, but you could have functions that perform a task without returning anything (we will see examples of these later).\n",
    "\n",
    "Why use functions?\n",
    "1. Functions can be used to organize your programs. When written well, they make your programs easier to read and maintain.\n",
    "2. They can be built and tested independently (and, therefore, in parallel).\n",
    "3. Functions can be reused. Indeed, it is a good idea to build a library of functions that you use over and over again. They can be used to accelerate development.\n",
    "4. Functions can be used by others without knowing how exactly they were written.\n",
    "\n",
    "The anotamy of a function is:\n",
    "\n",
    "def function_name([parameters]):\n",
    "    Body of function\n",
    "    \n",
    "Note that some functions return values while others don't.\n",
    "\n",
    "Time to code......"
   ]
  },
  {
   "cell_type": "code",
   "execution_count": 7,
   "metadata": {},
   "outputs": [],
   "source": [
    "def sum(a, b): #a and b are called parameters; sum is the name of the function\n",
    "    \"\"\"Adds two numbers and returns sum\"\"\"\n",
    "    return a + b #return explicitly returns a value - (a + b) in this case\n"
   ]
  },
  {
   "cell_type": "code",
   "execution_count": 8,
   "metadata": {},
   "outputs": [
    {
     "data": {
      "text/plain": [
       "38"
      ]
     },
     "execution_count": 8,
     "metadata": {},
     "output_type": "execute_result"
    }
   ],
   "source": [
    "#The function sum has two parameters, namely, a and b...let us try it\n",
    "sum(15, 23)"
   ]
  },
  {
   "cell_type": "code",
   "execution_count": 11,
   "metadata": {},
   "outputs": [
    {
     "name": "stdout",
     "output_type": "stream",
     "text": [
      "GoodBye\n",
      "[1, 2, 3, 4, 5, 6]\n"
     ]
    }
   ],
   "source": [
    "#What if we passed strings or lists, or anything that uses the \"+\" operator\n",
    "print(sum(\"Good\",\"Bye\")) #should concatenate \"Good\" and \"Bye\"\n",
    "print(sum([1,2,3],[4,5,6])) #should create a single list with all elements"
   ]
  },
  {
   "cell_type": "code",
   "execution_count": 13,
   "metadata": {},
   "outputs": [],
   "source": [
    "#Slightly more complex function\n",
    "def ask_yes_no(question):\n",
    "    \"\"\"Ask a yes or no question\"\"\"\n",
    "    response = None\n",
    "    while response not in (\"y\", \"n\"):\n",
    "        response = input(question).lower()\n",
    "    return response \n"
   ]
  },
  {
   "cell_type": "code",
   "execution_count": 14,
   "metadata": {},
   "outputs": [
    {
     "name": "stdout",
     "output_type": "stream",
     "text": [
      "Do you wish to continue? [y or n]: x\n",
      "Do you wish to continue? [y or n]: n\n"
     ]
    },
    {
     "data": {
      "text/plain": [
       "'n'"
      ]
     },
     "execution_count": 14,
     "metadata": {},
     "output_type": "execute_result"
    }
   ],
   "source": [
    "ask_yes_no(\"Do you wish to continue? [y or n]: \")"
   ]
  },
  {
   "cell_type": "markdown",
   "metadata": {},
   "source": [
    "Note that functions such as ask_yes_no() can be reused in a variety of situations that require the user to provide a yes or no answer."
   ]
  },
  {
   "cell_type": "code",
   "execution_count": 22,
   "metadata": {},
   "outputs": [],
   "source": [
    "#Let us look at a slightly more complex function for cleaning up \n",
    "import string #for getting punctuation and digits\n",
    "def preprocess_text(aString, punctuation = True, digits = False, stopwords = None):\n",
    "    cleaned_text = aString.lower() #good to normalize text\n",
    "    if punctuation: #do this if punctuation has to be removed\n",
    "        p = string.punctuation\n",
    "        table = str.maketrans(p, len(p) * \" \")\n",
    "        cleaned_text = cleaned_text.translate(table)\n",
    "    \n",
    "    if digits: #do this to remove digits\n",
    "        d = string.digits\n",
    "        table = str.maketrans(d, len(d) * \" \")\n",
    "        cleaned_text = cleaned_text.translate(table)\n",
    "    \n",
    "    if stopwords: #if this is not None\n",
    "        clean_words = [word for word in cleaned_text.split() if word not in stopwords]\n",
    "        cleaned_text = \" \".join(clean_words)\n",
    "    \n",
    "    return cleaned_text\n",
    "    "
   ]
  },
  {
   "cell_type": "code",
   "execution_count": 23,
   "metadata": {},
   "outputs": [
    {
     "data": {
      "text/plain": [
       "'2020 has been a terrible year  what a tragedy  so many lives lost  why did this happen '"
      ]
     },
     "execution_count": 23,
     "metadata": {},
     "output_type": "execute_result"
    }
   ],
   "source": [
    "s = \"2020 has been a terrible year. What a tragedy! So many lives lost. Why did this happen?\"\n",
    "preprocess_text(s) #I am using default settings"
   ]
  },
  {
   "cell_type": "markdown",
   "metadata": {},
   "source": [
    "Let us try to understand the function to preprocess text. The function takes four parameters, of which the last 3 have default values. When the string/text is sent as an argument to this function without other parameters, it is stripped of punctuation (because punctuation = True), but digits are ignored (because digits = False), and there are no stopwords to be removed (because stopwords = None). By the way, stopwords are words such as \"is\", \"of\", \"the\", and \"an\" that are generally not very useful in many text analytics applications.\n",
    "The default settings give us a lot of flexibility. Let us see a few different calls to the function."
   ]
  },
  {
   "cell_type": "code",
   "execution_count": 24,
   "metadata": {},
   "outputs": [
    {
     "data": {
      "text/plain": [
       "'     has been a terrible year. what a tragedy! so many lives lost. why did this happen?'"
      ]
     },
     "execution_count": 24,
     "metadata": {},
     "output_type": "execute_result"
    }
   ],
   "source": [
    "preprocess_text(s, punctuation = False, digits = True) #No punctuation and stopwords"
   ]
  },
  {
   "cell_type": "code",
   "execution_count": 25,
   "metadata": {},
   "outputs": [
    {
     "data": {
      "text/plain": [
       "'2020 terrible year what tragedy many lives lost why did happen'"
      ]
     },
     "execution_count": 25,
     "metadata": {},
     "output_type": "execute_result"
    }
   ],
   "source": [
    "stopwords = ['has','been','a','so','the','this'] #words to remove\n",
    "preprocess_text(s, stopwords = stopwords)"
   ]
  },
  {
   "cell_type": "code",
   "execution_count": 26,
   "metadata": {},
   "outputs": [
    {
     "data": {
      "text/plain": [
       "'terrible year what tragedy many lives lost why did happen'"
      ]
     },
     "execution_count": 26,
     "metadata": {},
     "output_type": "execute_result"
    }
   ],
   "source": [
    "#clean it all up\n",
    "preprocess_text(s, digits = True, stopwords = stopwords)"
   ]
  },
  {
   "cell_type": "code",
   "execution_count": 27,
   "metadata": {},
   "outputs": [],
   "source": [
    "#function with no parameters - it just displays a greeting\n",
    "def greeting():\n",
    "    print(\"Hello there! How are you?\")"
   ]
  },
  {
   "cell_type": "code",
   "execution_count": 28,
   "metadata": {},
   "outputs": [
    {
     "name": "stdout",
     "output_type": "stream",
     "text": [
      "Hello there! How are you?\n"
     ]
    }
   ],
   "source": [
    "greeting()"
   ]
  },
  {
   "cell_type": "code",
   "execution_count": 29,
   "metadata": {},
   "outputs": [
    {
     "name": "stdout",
     "output_type": "stream",
     "text": [
      "Hello there, Thomas Kuhn! How are you?\n"
     ]
    }
   ],
   "source": [
    "#let us make the function a little more flexible/personal\n",
    "def greeting(name):\n",
    "    print(\"Hello there, \" + name + \"! How are you?\")\n",
    "\n",
    "greeting(\"Thomas Kuhn\")"
   ]
  },
  {
   "cell_type": "code",
   "execution_count": 1,
   "metadata": {},
   "outputs": [],
   "source": [
    "#function to simulate the tossing of a coin\n",
    "import random\n",
    "def coin_flip():\n",
    "    return random.choice(['heads', 'tails']) #randomly chooses heads or tails\n"
   ]
  },
  {
   "cell_type": "code",
   "execution_count": 2,
   "metadata": {},
   "outputs": [
    {
     "name": "stdout",
     "output_type": "stream",
     "text": [
      "Number of heads:  520\n",
      "Number of tails:  480\n"
     ]
    }
   ],
   "source": [
    "#counters to keep track of heads and tails\n",
    "heads = 0\n",
    "tails = 0\n",
    "#let us call coin_flip() a thousand times\n",
    "for i in range(1000):\n",
    "    outcome = coin_flip()\n",
    "    if outcome == \"heads\":\n",
    "        heads += 1\n",
    "    else:\n",
    "        tails += 1\n",
    "\n",
    "print(\"Number of heads: \", heads)\n",
    "print(\"Number of tails: \", tails)"
   ]
  },
  {
   "cell_type": "code",
   "execution_count": 3,
   "metadata": {},
   "outputs": [],
   "source": [
    "#function to simulate the rolling of a die\n",
    "def roll_die():\n",
    "    return random.randint(1,6)"
   ]
  },
  {
   "cell_type": "code",
   "execution_count": 4,
   "metadata": {},
   "outputs": [
    {
     "name": "stdout",
     "output_type": "stream",
     "text": [
      "{1: 337, 2: 320, 3: 308, 4: 338, 5: 351, 6: 346}\n"
     ]
    }
   ],
   "source": [
    "#let us create a dictionary to keep track of the counts\n",
    "counts = {1:0, 2:0, 3:0, 4:0, 5:0, 6:0}\n",
    "#Let us roll the die 2000 times\n",
    "for i in range(2000):\n",
    "    number = roll_die()\n",
    "    counts[number] += 1\n",
    "\n",
    "print(counts)\n"
   ]
  },
  {
   "cell_type": "markdown",
   "metadata": {},
   "source": [
    "Not bad! Almost equal probability of getting any one of the numbers, right? Can we digress a little bit and plot a histogram showing the counts?"
   ]
  },
  {
   "cell_type": "code",
   "execution_count": 5,
   "metadata": {},
   "outputs": [],
   "source": [
    "#We generally use matplotlib to generate plots\n",
    "#Seaborn is also a good package for generating plots\n",
    "%matplotlib inline\n",
    "import matplotlib.pyplot as plt"
   ]
  },
  {
   "cell_type": "code",
   "execution_count": 10,
   "metadata": {},
   "outputs": [
    {
     "data": {
      "image/png": "[encoded data removed]",
      "text/plain": [
       "<Figure size 432x288 with 1 Axes>"
      ]
     },
     "metadata": {},
     "output_type": "display_data"
    }
   ],
   "source": [
    "plt.bar(list(counts.keys()), list(counts.values()))\n",
    "plt.xlabel(\"Number Returned By Die\")\n",
    "plt.ylabel(\"Counts\")\n",
    "plt.show()"
   ]
  },
  {
   "cell_type": "markdown",
   "metadata": {},
   "source": [
    "Local versus Global Variables\n",
    "\n",
    "Variables that you initialize within a function are called local functions. Their scope or lifetime does not extend beyond the function. In other words, once we exit the function (i.e., the function finishes its task) the local variable will cease to exist. An example is given below:\n",
    "\n",
    "Assume that you have no variable called x outside the functions you have created.\n",
    "\n",
    "def f():\n",
    "    x = 25\n",
    "    print(x)\n",
    "\n",
    "What happens when you call f()? The function initializes a local variable called x and assigns 25 to it. It then prints 25. What happend when you do the following after you call f()?\n",
    "\n",
    "print(x) --> x will not be available outside the function because it is local to x.\n",
    "\n",
    "Now, consider the following scenario:\n",
    "\n",
    "x = 10 #this is called a global variable because it is not inside a              #function\n",
    "\n",
    "def f():\n",
    "    x = 25\n",
    "    print(\"Inside the function: \", x)\n",
    "\n",
    "f() #what does this do? Will it print 25 or 10?\n",
    "print(\"Outside the function: \", x) #what does this print?\n",
    "\n",
    "Let us find out ...."
   ]
  },
  {
   "cell_type": "code",
   "execution_count": 11,
   "metadata": {},
   "outputs": [
    {
     "name": "stdout",
     "output_type": "stream",
     "text": [
      "Inside the function:  25\n",
      "Outside the function:  10\n"
     ]
    }
   ],
   "source": [
    "x = 10 #this is called a global variable because it is not inside a function             #function\n",
    "\n",
    "def f():\n",
    "    x = 25\n",
    "    print(\"Inside the function: \", x)\n",
    "\n",
    "f() #what does this do? Will it print 25 or 10?\n",
    "print(\"Outside the function: \", x) #what does this print?"
   ]
  },
  {
   "cell_type": "markdown",
   "metadata": {},
   "source": [
    "Now, do you see the difference between local and global variables? In this case, we say that the local variable x is shadowing the global variable x. But, what if you wanted to use your global x within the function? To do so, you would have to explicitly declare that the function should use the global x, as shown below.\n",
    "\n",
    "x = 10\n",
    "\n",
    "def f():\n",
    "    global x #ensures that the function uses the x declared outside\n",
    "    x = 25\n",
    "    print(\"Inside the function: \", x)\n",
    "\n",
    "f()\n",
    "\n",
    "print(\"Outside the function: \", x)\n",
    "\n",
    "Let us try this."
   ]
  },
  {
   "cell_type": "code",
   "execution_count": 12,
   "metadata": {},
   "outputs": [
    {
     "name": "stdout",
     "output_type": "stream",
     "text": [
      "Inside the function:  25\n",
      "Outside the function:  25\n"
     ]
    }
   ],
   "source": [
    "x = 10\n",
    "\n",
    "def f():\n",
    "    global x #ensures that the function uses the x declared outside\n",
    "    x = 25\n",
    "    print(\"Inside the function: \", x)\n",
    "\n",
    "f()\n",
    "\n",
    "print(\"Outside the function: \", x)"
   ]
  },
  {
   "cell_type": "markdown",
   "metadata": {},
   "source": [
    "Note that the function used the global variable and changed it to 25, which was displayed by the print statement outside the function.\n",
    "\n",
    "Let us look at one more example to make sure we understand local and global variables.\n"
   ]
  },
  {
   "cell_type": "code",
   "execution_count": 2,
   "metadata": {},
   "outputs": [
    {
     "name": "stdout",
     "output_type": "stream",
     "text": [
      "Inside function f:  10\n",
      "Inside function g:  25\n",
      "After calling g:  10\n",
      "After calling h:  25\n"
     ]
    }
   ],
   "source": [
    "#shows the difference between local and global variables\n",
    "x = 10 #A global variable\n",
    "\n",
    "def f():\n",
    "    print(\"Inside function f: \", x) #The only x it knows is the global one\n",
    "\n",
    "f() #should display 10, the value of the global variable, x\n",
    "\n",
    "def g():\n",
    "    x = 25 #which x - global or local?\n",
    "    print(\"Inside function g: \", x)#should print 25\n",
    "\n",
    "g()\n",
    "\n",
    "print(\"After calling g: \", x) #global x, but has it been changed?\n",
    "\n",
    "def h():\n",
    "    global x\n",
    "    x = 25\n",
    "\n",
    "h()\n",
    "print(\"After calling h: \", x) #global x was changed inside h()"
   ]
  },
  {
   "cell_type": "markdown",
   "metadata": {},
   "source": [
    "Recursive functions\n",
    "\n",
    "A function that calls itself is called a recursive function. Let us see the motivation for a function to call itself. We will start with an iterative solution for computing factorial and then use a recusrive function to do the same thing."
   ]
  },
  {
   "cell_type": "code",
   "execution_count": 23,
   "metadata": {},
   "outputs": [
    {
     "name": "stdout",
     "output_type": "stream",
     "text": [
      "1\n",
      "720\n"
     ]
    }
   ],
   "source": [
    "#Computing factorial - an iterative solution\n",
    "def factorial(n):\n",
    "    if n == 0 or n == 1:\n",
    "        return 1\n",
    "    result = 1\n",
    "    while n > 1:\n",
    "        result *= n\n",
    "        n = n - 1\n",
    "    return result\n",
    "\n",
    "#let us test the function\n",
    "print(factorial(1)) #should print 1\n",
    "print(factorial(6)) #should print 720\n"
   ]
  },
  {
   "cell_type": "markdown",
   "metadata": {},
   "source": [
    "Good, it seems to work! Let us now use recursion to solve the same problem. The key to recursion is to:\n",
    "a) identify a stopping condition and\n",
    "b) find a way to express the function on both sides of an equation.\n",
    "\n",
    "What is the stopping condition for factorial? We know that when n is 0 or 1, the factorial is a 1. This then is your stopping rule. What about (b) (i.e., the second condition above) for factorial?\n",
    "\n",
    "We know that:\n",
    "factorial(n) = n * (n - 1) * (n - 2) * ... * 3 * 2 * 1\n",
    "(for example, factorial 5 = 5 * 4 * 3 * 2 * 1)\n",
    "But, (n - 1) * (n - 2) * ... 3 * 2 * 1 is factorial of (n - 1).\n",
    "Therefore,\n",
    "factorial(n) = n * factorial(n - 1)\n",
    "\n",
    "Since we know the stopping rule and the second condition, we can write our recursive function as follows.\n"
   ]
  },
  {
   "cell_type": "code",
   "execution_count": 22,
   "metadata": {},
   "outputs": [
    {
     "name": "stdout",
     "output_type": "stream",
     "text": [
      "1\n",
      "720\n"
     ]
    }
   ],
   "source": [
    "#recursive factorial function\n",
    "def factorial(n):\n",
    "    if n == 0 or n == 1:\n",
    "        return 1\n",
    "    return n * factorial(n - 1)\n",
    "\n",
    "#let us test the function\n",
    "print(factorial(1)) #should print 1\n",
    "print(factorial(6)) #should print 720"
   ]
  },
  {
   "cell_type": "markdown",
   "metadata": {},
   "source": [
    "In general, recursive functions will be much shorter and more elegant. However, they can take more time to execute. \n",
    "\n",
    "Here is one you can try out. Write a recursive function to compute the nth value of the Fibonacci series. The series looks like this:\n",
    "1 1 2 3 5 8 13 21 34 .....\n",
    "\n",
    "As you can see, the first two numbers in the series are 1s and every number thereafter is a sum of the previous two in the series. Sample runs are shown below:\n",
    "fibonacci(1) --> should return 1\n",
    "fibonacci(2) --> should return 1\n",
    "fibonacci(3) --> should return 2\n",
    "fibonacci(4) --> should return 3\n",
    "fibonacci(5) --> should return 5\n",
    "\n",
    "and so on and so forth."
   ]
  }
 ],
 "metadata": {
  "kernelspec": {
   "display_name": "Python 3",
   "language": "python",
   "name": "python3"
  },
  "language_info": {
   "codemirror_mode": {
    "name": "ipython",
    "version": 3
   },
   "file_extension": ".py",
   "mimetype": "text/x-python",
   "name": "python",
   "nbconvert_exporter": "python",
   "pygments_lexer": "ipython3",
   "version": "3.6.5"
  }
 },
 "nbformat": 4,
 "nbformat_minor": 2
}
