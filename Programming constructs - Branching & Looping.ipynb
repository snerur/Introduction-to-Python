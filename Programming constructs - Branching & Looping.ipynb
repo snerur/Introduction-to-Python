{
 "cells": [
  {
   "cell_type": "markdown",
   "metadata": {},
   "source": [
    "Programming constructs - Branching and Looping\n",
    "\n",
    "@Authors: Sridhar Nerur, Samuel Jayarajan, and Mahyar Vaghefi\n",
    "\n",
    "In this IPython notebook, we will learn to use branching (i.e., if ... else) and looping (i.e., iterating through code using while and for loops) statements. Let us start with if statements.\n",
    "\n",
    "The general form of the if statement is:\n",
    "\n",
    "if condition:\n",
    "\tdo something\n",
    "[elif] condition:\n",
    "\tdo something\n",
    "[else:]\n",
    "\tdo something\n",
    "\n",
    "Note that elif and else are optional. Also, the colons (\":\") are part of the syntax. \n",
    "Indentation is used to create “blocks” of code \n",
    "\n",
    "Conditions will always evaluate to True or False. \n",
    "0 is False; anything non-zero is True\n",
    "An empty string (“”) evaluates to False (which can happen when the user presses enter without entering any values in the textbox.\n",
    "\n",
    "The following conditional operators are normally used.\n",
    "\n",
    "==  checks for equality (Example: x == 5 returns True if x is 5)\n",
    "!=  returns True if the operands are not equal (Example: x != 5 returns       True if x is not equal to 5)\n",
    ">=  greater than or equal to (Example: x >= 5 returns True if x is greater     than or equal to 5)\n",
    "<=  less than or equal to (Example: x <= 5 returns True if x is less           than or equal to 5)\n",
    ">   greater than (Example: x > 5 returns True if x is greater than 5)\n",
    "<   less than (Example: x < 5 returns True if x is less than 5)\n",
    "\n",
    "The if statement is used to decide on a course of action based on conditions. For example, if it is \"sunny\" I might decide to play outside, otherwise I might decide to watch TV. The following snippet of code illustrates this. "
   ]
  },
  {
   "cell_type": "code",
   "execution_count": 3,
   "metadata": {},
   "outputs": [
    {
     "name": "stdout",
     "output_type": "stream",
     "text": [
      "How is the weather [sunny or rainy]? sunny\n",
      "I am going out to play\n"
     ]
    }
   ],
   "source": [
    "#you may remember the input statement from an earlier class\n",
    "weather_condition = input(\"How is the weather [sunny or rainy]? \")\n",
    "if weather_condition == \"sunny\":\n",
    "    print(\"I am going out to play\")\n",
    "else:\n",
    "    print(\"I will stay home and watch TV\")\n"
   ]
  },
  {
   "cell_type": "markdown",
   "metadata": {},
   "source": [
    "What if I had entered \"Sunny\" or \"SUNNY\"? Do you think my code would have worked? Of course not. Remember that Python is case sensitive. It is always a good idea to convert to lower or upper case before using such strings. Let us modify the previous code to handle that."
   ]
  },
  {
   "cell_type": "code",
   "execution_count": 4,
   "metadata": {},
   "outputs": [
    {
     "name": "stdout",
     "output_type": "stream",
     "text": [
      "How is the weather [sunny or rainy]? SUNny\n",
      "I am going out to play\n"
     ]
    }
   ],
   "source": [
    "weather_condition = input(\"How is the weather [sunny or rainy]? \")\n",
    "weather_condition = weather_condition.lower()\n",
    "if weather_condition == \"sunny\":\n",
    "    print(\"I am going out to play\")\n",
    "else:\n",
    "    print(\"I will stay home and watch TV\")"
   ]
  },
  {
   "cell_type": "markdown",
   "metadata": {},
   "source": [
    "I entered \"SUNny\" and it still worked. Let us try a few more things..."
   ]
  },
  {
   "cell_type": "code",
   "execution_count": 5,
   "metadata": {},
   "outputs": [
    {
     "name": "stdout",
     "output_type": "stream",
     "text": [
      "How is the weather [sunny or rainy]? rainy\n",
      "I will need an umbrella to go out\n"
     ]
    }
   ],
   "source": [
    "weather_condition = input(\"How is the weather [sunny or rainy]? \")\n",
    "weather_condition = weather_condition.lower()\n",
    "if weather_condition == \"sunny\":\n",
    "    print(\"I am going out to play\")\n",
    "elif weather_condition == \"rainy\":\n",
    "    print(\"I will need an umbrella to go out\")\n",
    "else:\n",
    "    print(\"I will stay home and watch TV\")"
   ]
  },
  {
   "cell_type": "markdown",
   "metadata": {},
   "source": [
    "Try entering something other than sunny or rainy (say, frigid) and see what happens. Note that else and elif are optional. The simplest form of the if statement is as follows:\n",
    "\n",
    "age = int(input(\"Enter your age: \"))\n",
    "if age > 10:\n",
    "    print(\"You are growing up!\")\n",
    "\n",
    "Let us look at another example before we discuss while loops."
   ]
  },
  {
   "cell_type": "code",
   "execution_count": 7,
   "metadata": {},
   "outputs": [
    {
     "name": "stdout",
     "output_type": "stream",
     "text": [
      "Youngster: Can I vote?\n",
      "Computer: How old are you? 12\n",
      "Computer: Sorry. You have to grow up!\n"
     ]
    }
   ],
   "source": [
    "# A conversation between a youngster and a computer program\n",
    "print(\"Youngster: Can I vote?\")\n",
    "age = int(input(\"Computer: How old are you? \"))\n",
    "#computer uses a rule to decide...\n",
    "if age >= 21:\n",
    "    print(\"Computer: I suppose you are old enough to vote\")\n",
    "else:\n",
    "    print(\"Computer: Sorry. You have to grow up!\")"
   ]
  },
  {
   "cell_type": "markdown",
   "metadata": {},
   "source": [
    "Let us move on to while loops. The general form of the while loop is:\n",
    "Syntax:\n",
    "while condition:\n",
    "\tdo something\n",
    "\n",
    "While condition is true, the block of code (do something) will execute\n",
    "Example:\n",
    "i = 1\n",
    "while i <= 10:\n",
    "    print(i)\n",
    "    i += 1\n",
    "\n",
    "What does this display? Try it out..."
   ]
  },
  {
   "cell_type": "code",
   "execution_count": 8,
   "metadata": {},
   "outputs": [
    {
     "name": "stdout",
     "output_type": "stream",
     "text": [
      "1\n",
      "2\n",
      "3\n",
      "4\n",
      "5\n",
      "6\n",
      "7\n",
      "8\n",
      "9\n",
      "10\n"
     ]
    }
   ],
   "source": [
    "i = 1\n",
    "while i <= 10:\n",
    "    print(i)\n",
    "    i += 1"
   ]
  },
  {
   "cell_type": "markdown",
   "metadata": {},
   "source": [
    "It is easy to see that this snippet does the following:\n",
    "Step 1: The variable i is initialized to 1\n",
    "Step 2: Check to see if i is less than or equal to 10 - if true go to step 3\n",
    "    Step 3: print the value of i\n",
    "    Step 4: increment i by 1 (NOTE: this is a very important step)\n",
    "    GO TO Step 2\n",
    "    \n",
    "REPEAT 2, 3, and 4 until i exceeds 10\n",
    "\n",
    "What do you think will happen if we omit Step 4 (i.e., i += 1)? Yes, you will have an endless loop that keeps printing 1, the value that i was initialized to.\n",
    "\n",
    "Let us look at a few more examples."
   ]
  },
  {
   "cell_type": "code",
   "execution_count": 9,
   "metadata": {},
   "outputs": [
    {
     "name": "stdout",
     "output_type": "stream",
     "text": [
      "Enter starting number: 5\n",
      "5\n",
      "4\n",
      "3\n",
      "2\n",
      "1\n",
      "Blast off!\n"
     ]
    }
   ],
   "source": [
    "#Simple countdown program\n",
    "#Will countdown from an integer value entered by the user\n",
    "number = int(input(\"Enter starting number: \"))\n",
    "while number > 0:\n",
    "    print(number) #part of loop\n",
    "    number -= 1   #part of loop\n",
    "print(\"Blast off!\") #prints when you exit the loop"
   ]
  },
  {
   "cell_type": "code",
   "execution_count": null,
   "metadata": {},
   "outputs": [],
   "source": [
    "Let us pause for 1 second after printing every number...."
   ]
  },
  {
   "cell_type": "code",
   "execution_count": 12,
   "metadata": {},
   "outputs": [
    {
     "name": "stdout",
     "output_type": "stream",
     "text": [
      "Enter starting number: 5\n",
      "5\n",
      "4\n",
      "3\n",
      "2\n",
      "1\n",
      "Blast off!\n"
     ]
    }
   ],
   "source": [
    "import time\n",
    "number = int(input(\"Enter starting number: \"))\n",
    "while number > 0:\n",
    "    print(number) \n",
    "    time.sleep(1) #pauses for 1 second\n",
    "    number -= 1  \n",
    "print(\"Blast off!\") #prints when you exit the loop"
   ]
  },
  {
   "cell_type": "markdown",
   "metadata": {},
   "source": [
    "What if we wanted to print the numbers and \"Blast Off!\" on the same line?"
   ]
  },
  {
   "cell_type": "code",
   "execution_count": 13,
   "metadata": {},
   "outputs": [
    {
     "name": "stdout",
     "output_type": "stream",
     "text": [
      "Enter starting number: 5\n",
      "5 4 3 2 1 Blast off!\n"
     ]
    }
   ],
   "source": [
    "import time\n",
    "number = int(input(\"Enter starting number: \"))\n",
    "while number > 0:\n",
    "    print(number, end = \" \") #end by default is \\n or newline \n",
    "    time.sleep(1) #pauses for 1 second\n",
    "    number -= 1  \n",
    "print(\"Blast off!\") #prints when you exit the loop"
   ]
  },
  {
   "cell_type": "markdown",
   "metadata": {},
   "source": [
    "As mentioned in the comment next to the print, the print function uses \\n or a newline character after it displays something. By using the \"end\" parameter, we can specify a different character (e.g., a space, semi-colon, colon, comma, etc.) that should be used after the display. In the example above, we are using a space.  "
   ]
  },
  {
   "cell_type": "code",
   "execution_count": 22,
   "metadata": {},
   "outputs": [
    {
     "name": "stdout",
     "output_type": "stream",
     "text": [
      "Enter an integer: 0\n",
      "Factorial of 0 is: 1\n"
     ]
    }
   ],
   "source": [
    "#let us write another program to illistrate how the while loop works\n",
    "#This snippet will read in a number and compute its factorial\n",
    "#Factorial of n = n * (n - 1) * (n - 2) * .. * 3 * 2 * 1\n",
    "#Example: Factorial of 5 is 5 * 4 * 3 * 2 * 1 = 120\n",
    "#The factorial of 0 or 1 is a 1\n",
    "number = int(input(\"Enter an integer: \"))\n",
    "n = number\n",
    "if number == 0 or number == 1:\n",
    "    result = 1\n",
    "else:\n",
    "    result = 1\n",
    "    while number > 1:\n",
    "        result = result * number\n",
    "        number = number - 1\n",
    "print(\"Factorial of \" + str(n) + \" is: \" + str(result))"
   ]
  },
  {
   "cell_type": "markdown",
   "metadata": {},
   "source": [
    "Note that we are using a while loop within an if statement. What is the \"or\" doing in our program? \"or\" is a logical operator that returns a True if either or both of its operands (i.e., conditions) are True. An explanation of all logical operators is given below:\n",
    "The three universal logical operators are \"or\", \"and\", and \"not\".\n",
    "\n",
    "The OR operator works as follows:\n",
    "condition1 or condition2 will result in True if either condition1 is True or condition2 is True, or both are True.\n",
    "Example: a = 5, b = 20\n",
    "(a > 5) or (b == 15) will evaluate to False because both conditions are False.\n",
    "(a < 8) or (b == 15) will evaluate to True because one of the conditions (a < 8) is True\n",
    "(a > 5) or (b == 20) will evaluate to True because (b == 20) is True\n",
    "(a < 8) or (b > 15) will evaluate to True because both conditions are True\n",
    "\n",
    "The AND operator works as follows:\n",
    "condition1 and condition2 will evaluate to True ONLY IF both conditions are True\n",
    "\n",
    "Example: a = 5, b = 20\n",
    "(a > 5) and (b == 15) will evaluate to False because both conditions are False.\n",
    "(a < 8) and (b == 15) will evaluate to False because one of the conditions (a < 8) is True but the other is not\n",
    "(a > 5) and (b == 20) will evaluate to False because (b == 20) is True but (a > 5) is not True\n",
    "(a < 8) and (b > 15) will evaluate to True because both conditions are True\n",
    "\n",
    "The NOT operator is used to negate a condition. For example, if condition1 is True, not(condition1) will be False. \n",
    "Concrete example:\n",
    "a = 5, b = 20\n",
    "not(a > 5) --> True because (a > 5) is False and not(False) is True\n",
    "not((a < 8) and (b > 15)) will evaluate to False because ((a < 8) and (b > 15)) is True and not(True) evaluates to False.\n",
    "\n",
    "Order of precedence:\n",
    "\"not\" is evaluated first, followed by \"and\" and \"or\"\n",
    "\n",
    "Let us look at some examples.\n"
   ]
  },
  {
   "cell_type": "code",
   "execution_count": 24,
   "metadata": {},
   "outputs": [
    {
     "name": "stdout",
     "output_type": "stream",
     "text": [
      "False\n",
      "True\n",
      "True\n",
      "True\n"
     ]
    }
   ],
   "source": [
    "a = 5\n",
    "b = 20\n",
    "print(((a > 5) or (b == 15))) #False\n",
    "print(((a > 3) or (b == 15))) #True\n",
    "print(((a > 5) or (b > 15))) #True\n",
    "print(((a < 8) or (b > 15))) #True"
   ]
  },
  {
   "cell_type": "code",
   "execution_count": 26,
   "metadata": {},
   "outputs": [
    {
     "name": "stdout",
     "output_type": "stream",
     "text": [
      "False\n",
      "False\n",
      "False\n",
      "True\n"
     ]
    }
   ],
   "source": [
    "a = 5\n",
    "b = 20\n",
    "print(((a > 5) and (b == 15))) #False\n",
    "print(((a > 3) and (b == 15))) #False\n",
    "print(((a > 5) and (b > 15))) #False\n",
    "print(((a < 8) and (b > 15))) #True"
   ]
  },
  {
   "cell_type": "code",
   "execution_count": 29,
   "metadata": {},
   "outputs": [
    {
     "name": "stdout",
     "output_type": "stream",
     "text": [
      "True\n",
      "True\n",
      "True\n",
      "False\n"
     ]
    }
   ],
   "source": [
    "a = 5\n",
    "b = 20\n",
    "print(not((a > 5) and (b == 15))) #True\n",
    "print(((a > 3) and not(b == 15))) #True\n",
    "print((not(a > 5) or (b < 15))) #True\n",
    "print(not((a < 8) or (b > 15))) #False"
   ]
  },
  {
   "cell_type": "code",
   "execution_count": 30,
   "metadata": {},
   "outputs": [
    {
     "data": {
      "text/plain": [
       "False"
      ]
     },
     "execution_count": 30,
     "metadata": {},
     "output_type": "execute_result"
    }
   ],
   "source": [
    "#What does the following give?\n",
    "a = 5\n",
    "b = 20\n",
    "c = 15\n",
    "(c < 10) or (b > 15) and (a > 8)\n"
   ]
  },
  {
   "cell_type": "markdown",
   "metadata": {},
   "source": [
    "Why is it False? The reason is that the \"and\" is avaluated first and then the \"or\" (remember the \"and\" has a higher order of precedence). If your intention was to have the \"and\" evaluated before the \"or\", you should use parenthesis as shown below:\n",
    "\n",
    "(c < 10) or ((b > 15) and (a > 8))\n",
    "\n",
    "Next, try the following:\n",
    "(c < 10) or (b > 15) and not(a > 8)\n",
    "\n",
    "What do you think you will get?"
   ]
  },
  {
   "cell_type": "code",
   "execution_count": 31,
   "metadata": {},
   "outputs": [
    {
     "name": "stdout",
     "output_type": "stream",
     "text": [
      "Guess a number between 1 and 10, inclusive: 3\n",
      "Sorry...try again: 4\n",
      "Sorry...try again: 6\n",
      "You got it!\n"
     ]
    }
   ],
   "source": [
    "#Let us write another one....a number guessing game\n",
    "#The user has to guess a number between 1 and 10, inclusive\n",
    "#Let us assume that the number to be guessed is 6 (our user is not supposed to know that!)\n",
    "number_to_be_guessed = 6\n",
    "#ask the user to guess the number\n",
    "user_input = int(input(\"Guess a number between 1 and 10, inclusive: \"))\n",
    "while user_input != number_to_be_guessed: #guess was wrong\n",
    "    user_input = int(input(\"Sorry...try again: \"))\n",
    "print(\"You got it!\")\n"
   ]
  },
  {
   "cell_type": "markdown",
   "metadata": {},
   "source": [
    "This is not much fun, as the number to be guessed is hard coded. The next time you run it, the number to be guessed will be the same. Can we make it more challenging? If yes, how?\n",
    "An easy solution is to randomly generate the number to be guessed. Thankfully, Python has a package that will be able to do that.\n",
    "\n",
    "First, we will import a package called random. Random has some useful methods. The two that we are interested in are randint() and randrange().\n",
    "randint(start, end) --> returns a random integer between start and end, inclusive\n",
    "For example, randint(1,6) will randomly generate 1, 2, 3, 4, 5, or 6.\n",
    "\n",
    "Specific examples of randrange() are given below:\n",
    "randrange(5) --> randomly returns a number between 0 and 4 (i.e., 1 less than the parameter 5), inclusive\n",
    "randrange(1, 7) --> randomly returns a number between 1 and 6, inclusive. To randomly generate an integer between 1 and 10, inclusive, you would do the following:\n",
    "randrange(1, 11) (of course, you could also use randint(1, 10))\n",
    "\n",
    "Some more useful methods in the random package are demonstrated below."
   ]
  },
  {
   "cell_type": "code",
   "execution_count": 46,
   "metadata": {},
   "outputs": [
    {
     "data": {
      "text/plain": [
       "1"
      ]
     },
     "execution_count": 46,
     "metadata": {},
     "output_type": "execute_result"
    }
   ],
   "source": [
    "#try this many times to see what numbers are generated\n",
    "import random\n",
    "random.randrange(5)\n",
    "#Also, uncomment the line below and run the cell\n",
    "#random.randrange(1, 7) "
   ]
  },
  {
   "cell_type": "code",
   "execution_count": 47,
   "metadata": {},
   "outputs": [
    {
     "data": {
      "text/plain": [
       "4"
      ]
     },
     "execution_count": 47,
     "metadata": {},
     "output_type": "execute_result"
    }
   ],
   "source": [
    "#run it several times\n",
    "random.randint(1, 6)"
   ]
  },
  {
   "cell_type": "code",
   "execution_count": 48,
   "metadata": {},
   "outputs": [
    {
     "data": {
      "text/plain": [
       "[4, 1, 7, 8, 3, 9, 6, 5, 2, 10]"
      ]
     },
     "execution_count": 48,
     "metadata": {},
     "output_type": "execute_result"
    }
   ],
   "source": [
    "#Let us look at two more useful random methods - shuffle and choice\n",
    "#Shuffle is used to randomly change the order of items in a container\n",
    "#Example:\n",
    "aList = [1, 2, 3, 4, 5, 6, 7, 8, 9, 10]\n",
    "#let us randomly change the order of numbers in aList\n",
    "random.shuffle(aList)\n",
    "aList"
   ]
  },
  {
   "cell_type": "markdown",
   "metadata": {},
   "source": [
    "Where would you use shuffle? Let us say you are writing a Blackjack program and you wish to shuffle your deck of cards. How would you do it? SHuffle, of course. Likewise, if you have a 1000 observations (i.e., sample of 1000) and you wish to change the sequence of your observations, you can use shuffle."
   ]
  },
  {
   "cell_type": "code",
   "execution_count": 49,
   "metadata": {},
   "outputs": [
    {
     "data": {
      "text/plain": [
       "'Pie'"
      ]
     },
     "execution_count": 49,
     "metadata": {},
     "output_type": "execute_result"
    }
   ],
   "source": [
    "#This cell shows you how to use random.choice to randomly choose from\n",
    "#a list of choices\n",
    "options = [\"Milk Shake\", \"Ice Cream\", \"Pie\", \"Pudding\", \"Cake\"]\n",
    "#let us randomly choose one from the options list\n",
    "random.choice(options)"
   ]
  },
  {
   "cell_type": "code",
   "execution_count": 52,
   "metadata": {},
   "outputs": [
    {
     "data": {
      "text/plain": [
       "['Pie', 'Ice Cream']"
      ]
     },
     "execution_count": 52,
     "metadata": {},
     "output_type": "execute_result"
    }
   ],
   "source": [
    "#you can choose more than one by using random.choices and providing\n",
    "#a parameter, as shown below. Note that it is random.choices and not\n",
    "#random.choice\n",
    "random.choices(options, k = 2) #randomly select two options"
   ]
  },
  {
   "cell_type": "markdown",
   "metadata": {},
   "source": [
    "Let us now modify out number guessing game...it should be more fun."
   ]
  },
  {
   "cell_type": "code",
   "execution_count": 53,
   "metadata": {},
   "outputs": [
    {
     "name": "stdout",
     "output_type": "stream",
     "text": [
      "Guess a number between 1 and 10, inclusive: 5\n",
      "Sorry...try again: 9\n",
      "Sorry...try again: 1\n",
      "Sorry...try again: 2\n",
      "Sorry...try again: 3\n",
      "Sorry...try again: 4\n",
      "Sorry...try again: 8\n",
      "Sorry...try again: 7\n",
      "You got it!\n"
     ]
    }
   ],
   "source": [
    "number_to_be_guessed = random.randint(1, 10)\n",
    "#ask the user to guess the number\n",
    "user_input = int(input(\"Guess a number between 1 and 10, inclusive: \"))\n",
    "while user_input != number_to_be_guessed: #guess was wrong\n",
    "    user_input = int(input(\"Sorry...try again: \"))\n",
    "print(\"You got it!\")"
   ]
  },
  {
   "cell_type": "markdown",
   "metadata": {},
   "source": [
    "Wow! It took me 8 attempts to guess it. Pretty bad, considering that there were only 10 numbers. It may be a good idea to provide some help to the user. One way to do it is to tell the user if her guess is too high or too low. Let us try it."
   ]
  },
  {
   "cell_type": "code",
   "execution_count": 54,
   "metadata": {},
   "outputs": [
    {
     "name": "stdout",
     "output_type": "stream",
     "text": [
      "Guess a number between 1 and 10, inclusive: 5\n",
      "Too high...try again: 3\n",
      "Too low...try again: 4\n",
      "You got it!\n"
     ]
    }
   ],
   "source": [
    "number_to_be_guessed = random.randint(1, 10)\n",
    "#ask the user to guess the number\n",
    "user_input = int(input(\"Guess a number between 1 and 10, inclusive: \"))\n",
    "while user_input != number_to_be_guessed: #guess was wrong\n",
    "    if user_input > number_to_be_guessed:\n",
    "        user_input = int(input(\"Too high...try again: \"))\n",
    "    else:\n",
    "        user_input = int(input(\"Too low...try again: \"))\n",
    "print(\"You got it!\")"
   ]
  },
  {
   "cell_type": "markdown",
   "metadata": {},
   "source": [
    "Let us now look at for loops. \"for\" loops are very convenient for iterating through containers such as lists, dictionaries, and sets. \n",
    "Consider the following example:\n",
    "aList = [\"dog\",\"cat\", \"mouse\", \"elephant\", \"aardvark\"]\n",
    "\n",
    "Suppose we wish to display all words in the list that start with a vowel. You could do it easily with a while loop as follows:\n",
    "\n",
    "i = 0\n",
    "while i < len(aList):\n",
    "    if aList[i][0].lower() in \"aeiou\":\n",
    "        print(aList[i])\n",
    "    i = i + 1 #or i += 1\n",
    "\n",
    "Here is another example. Suppose we wish to compute and display the square root of all even numbers under 100, not including 100. This is how we would do it with a while loop.\n",
    "\n",
    "import math\n",
    "i = 2\n",
    "while i < 100:\n",
    "    print(math.sqrt(i))\n",
    "    i += 2\n",
    "    \n",
    "A final example involves iterating through all the keys of a dictionary and performing some operation on the values associated with those keys.\n",
    "\n",
    "aDict = { ..... } #some dictionary with keys and values\n",
    "keys = list(aDict.keys())\n",
    "i = 0\n",
    "while i < len(aDict):\n",
    "    Do something with aDict[keys[i]] \n",
    "    i += 1\n",
    "\n",
    "The while loop helps us to accomplish our goals in each of these examples, but a for loop may be just as effective or perhaps even easier to use. The implementation of these 3 scenarios using for loops is provided below:\n",
    "\n",
    "While loop implementation:\n",
    "i = 0\n",
    "while i < len(aList):\n",
    "    if aList[i][0].lower() in \"aeiou\":\n",
    "        print(aList[i])\n",
    "    i = i + 1 #or i += 1\n",
    "\n",
    "For loop implementation:\n",
    "for word in aList:\n",
    "    if word[0].lower() in \"aeiou\":\n",
    "        print(word)\n",
    "\n",
    "As can seen, the for loop iterates through each element of the list automatically without our having to provide an index.\n",
    "\n",
    "Example 2:\n",
    "While loop implementation\n",
    "import math\n",
    "i = 2\n",
    "while i < 100:\n",
    "    print(math.sqrt(i))\n",
    "    i += 2\n",
    "\n",
    "For loop implementation\n",
    "import math\n",
    "for i in range(2, 100, 2):\n",
    "    print(math.sqrt(i))\n",
    "\n",
    "In this case, range(2, 100, 2) provides a list of even numbers starting from 2 and ending at 98 (i.e., [2, 4, 6, 8, ........, 98] ). The general form of the range command is:\n",
    "range([start], end, [step]) where start and step are optional. This creates a list of numbers from \"start\" to \"end - step\" in steps indicated in \"step\". The default \"step\" is 1. Examples are given below:\n",
    "range(5) --> [0, 1, 2, 3, 4]\n",
    "range(2, 5) --> [2, 3, 4]\n",
    "range(2, 10, 2) --> [2, 4, 6, 8] \n",
    "range(5, 2, -1) --> [5, 4, 3]\n",
    "\n",
    "Example 3:\n",
    "While implementation:\n",
    "aDict = { ..... } #some dictionary with keys and values\n",
    "keys = list(aDict.keys())\n",
    "i = 0\n",
    "while i < len(aDict):\n",
    "    Do something with aDict[keys[i]] \n",
    "    i += 1\n",
    "\n",
    "aDict = { ...... } #some dictionary with keys and values\n",
    "for key in aDict:\n",
    "    Do something with aDict[key]\n",
    "\n",
    "Note that the for loop provides an elegant way to accomplish what the while loop did using indexes."
   ]
  },
  {
   "cell_type": "code",
   "execution_count": 59,
   "metadata": {},
   "outputs": [
    {
     "data": {
      "text/plain": [
       "[5, 4, 3]"
      ]
     },
     "execution_count": 59,
     "metadata": {},
     "output_type": "execute_result"
    }
   ],
   "source": [
    "list(range(5, 2, -1))"
   ]
  },
  {
   "cell_type": "code",
   "execution_count": 60,
   "metadata": {},
   "outputs": [
    {
     "name": "stdout",
     "output_type": "stream",
     "text": [
      "Enter a list of numbers, e.g., [2, 5, 8 ]: [8, 4, 16, 23]\n",
      "64\n",
      "16\n",
      "256\n",
      "529\n"
     ]
    }
   ],
   "source": [
    "#Example using for loop\n",
    "#Let us sum of squares of a list of numbers that we read in from the keyboard\n",
    "numbers_list = eval(input(\"Enter a list of numbers, e.g., [2, 5, 8 ]: \"))\n",
    "#Note that we use eval to convert the string to a list\n",
    "for number in numbers_list:\n",
    "    print(number ** 2) #number squared\n",
    "    "
   ]
  },
  {
   "cell_type": "markdown",
   "metadata": {},
   "source": [
    "What if we wished to either break out of a loop or skip an iteration and move to the next one? Python's \"break\" command can be used to exit a loop, while the \"continue\" command may be used to move to the next iteration. These are demonstrated in the following cells."
   ]
  },
  {
   "cell_type": "code",
   "execution_count": 61,
   "metadata": {},
   "outputs": [
    {
     "name": "stdout",
     "output_type": "stream",
     "text": [
      "Guess a number between 1 and 10, inclusive: 5\n",
      "You got it!\n",
      "Do you wish to play again? [yes or no]: yes\n",
      "Guess a number between 1 and 10, inclusive: 5\n",
      "Too low...try again: 8\n",
      "Too high...try again: 7\n",
      "Too high...try again: 6\n",
      "You got it!\n",
      "Do you wish to play again? [yes or no]: no\n"
     ]
    }
   ],
   "source": [
    "#To illustrate how break works, let us modify our number guessing\n",
    "#program to give users the choice of continuing to play if they so desired.\n",
    "\n",
    "while True: #this will be an endless loop unless we break out of it\n",
    "    number_to_be_guessed = random.randint(1, 10)\n",
    "    #ask the user to guess the number\n",
    "    user_input = int(input(\"Guess a number between 1 and 10, inclusive: \"))\n",
    "    while user_input != number_to_be_guessed: #guess was wrong\n",
    "        if user_input > number_to_be_guessed:\n",
    "            user_input = int(input(\"Too high...try again: \"))\n",
    "        else:\n",
    "            user_input = int(input(\"Too low...try again: \"))\n",
    "    print(\"You got it!\")\n",
    "    user_response = input(\"Do you wish to play again? [yes or no]: \")\n",
    "    if user_response.lower() == \"no\": #we need to exit the loop\n",
    "        break\n",
    "        "
   ]
  },
  {
   "cell_type": "code",
   "execution_count": 63,
   "metadata": {},
   "outputs": [
    {
     "name": "stdout",
     "output_type": "stream",
     "text": [
      "34\n",
      "54\n",
      "66\n",
      "22\n",
      "24\n",
      "8\n"
     ]
    }
   ],
   "source": [
    "#This is to illustrate how continue works\n",
    "#Suppose we have an array of numbers from which we wish to display\n",
    "#only even numbers\n",
    "aList = [23, 34, 54, 57, 66, 22, 24, 1, 3, 8]\n",
    "#for loop that will display only even numbers\n",
    "for number in aList:\n",
    "    if number % 2 != 0: #if the number is not divisible by 2, it is odd\n",
    "        continue #go to the next number\n",
    "    print(number)"
   ]
  },
  {
   "cell_type": "code",
   "execution_count": 84,
   "metadata": {},
   "outputs": [
    {
     "name": "stdout",
     "output_type": "stream",
     "text": [
      "Enter an integer: 49\n",
      "49 is not a prime number\n"
     ]
    }
   ],
   "source": [
    "#This program reads in an integer and reports whether it is a prime\n",
    "#number or not\n",
    "#What is a prime number? It is any number that is divisible only by 1\n",
    "#and itself. Note that 1 is not a prime number\n",
    "import math\n",
    "number = int(input(\"Enter an integer: \"))\n",
    "if number == 1: \n",
    "   print(number, \"is not a prime number\")    \n",
    "else: #this else is for the if above\n",
    "   # We will iteratively divide number by 2, 3, 4, ....square root of number\n",
    "   # and break if it is divisible\n",
    "   for i in range(2, math.floor(math.sqrt(number)) + 1): \n",
    "       if (number % i) == 0: \n",
    "           print(number, \"is not a prime number\") \n",
    "           break\n",
    "   else: #This else is associated with the for loop not if\n",
    "       print(number, \"is a prime number\") \n",
    "  \n",
    " \n",
    "   "
   ]
  },
  {
   "cell_type": "code",
   "execution_count": 70,
   "metadata": {},
   "outputs": [
    {
     "name": "stdout",
     "output_type": "stream",
     "text": [
      "It takes 12 years for the balance to double\n"
     ]
    }
   ],
   "source": [
    "#Let us say you have $1000 in your bank account.\n",
    "#How many years will it take for the amount to double if it earns an \n",
    "#interest of 6%?\n",
    "interest_rate = 0.06\n",
    "balance = 1000.00\n",
    "double_balance = 2 * balance\n",
    "years = 0\n",
    "while balance < double_balance:\n",
    "    years += 1\n",
    "    interest_earned = balance * interest_rate\n",
    "    balance += interest_earned\n",
    "print(\"It takes \" + str(years) + \" years for the balance to double\")"
   ]
  },
  {
   "cell_type": "markdown",
   "metadata": {},
   "source": [
    "List Comprehension\n",
    "\n",
    "List Comprehension is an elegant way to construct a new list by using elements of an existing list. Let us look at some examples."
   ]
  },
  {
   "cell_type": "code",
   "execution_count": 85,
   "metadata": {},
   "outputs": [
    {
     "data": {
      "text/plain": [
       "[4, 9, 25, 64, 81, 121]"
      ]
     },
     "execution_count": 85,
     "metadata": {},
     "output_type": "execute_result"
    }
   ],
   "source": [
    "#Suppose we wish to construct a new list that contains the square of the \n",
    "#numbers in another list \n",
    "aList = [2, 3, 5, 8, 9, 11]\n",
    "new_list = [] #new_list will contain square of number in aList\n",
    "for number in aList:\n",
    "    new_list.append(number ** 2)\n",
    "new_list"
   ]
  },
  {
   "cell_type": "code",
   "execution_count": 86,
   "metadata": {},
   "outputs": [
    {
     "data": {
      "text/plain": [
       "[4, 9, 25, 64, 81, 121]"
      ]
     },
     "execution_count": 86,
     "metadata": {},
     "output_type": "execute_result"
    }
   ],
   "source": [
    "#Using List Comprehension to accomplish what we did in the previous cell\n",
    "new_list = [number ** 2 for number in aList]\n",
    "new_list"
   ]
  },
  {
   "cell_type": "code",
   "execution_count": 87,
   "metadata": {},
   "outputs": [
    {
     "data": {
      "text/plain": [
       "['apple', 'elephant', 'unicorn', 'owl']"
      ]
     },
     "execution_count": 87,
     "metadata": {},
     "output_type": "execute_result"
    }
   ],
   "source": [
    "#Example 2: Suppose we wish to create a list of words that start with\n",
    "#a vowel (using a bigger list of words)\n",
    "words = [\"apple\", \"ball\", \"cat\", \"elephant\", \"lion\", \"unicorn\", \"owl\"]\n",
    "new_words = [word for word in words if word[0] in \"aeiou\"]\n",
    "new_words"
   ]
  },
  {
   "cell_type": "code",
   "execution_count": 88,
   "metadata": {},
   "outputs": [
    {
     "data": {
      "text/plain": [
       "189"
      ]
     },
     "execution_count": 88,
     "metadata": {},
     "output_type": "execute_result"
    }
   ],
   "source": [
    "#A more complex example. Suppose we have two lists - x and y - and wish to\n",
    "#compute the sum of squared differences between corresponding elements of\n",
    "#x and y\n",
    "\n",
    "x = [10, 11, 15, 20, 30]\n",
    "y = [12, 11, 10, 8, 34]\n",
    "#we have sompute (10 - 12) squared + (11 - 11) squared + ....(30 -34) squared\n",
    "sum_of_squared_differences = sum([(a - b) ** 2 for a, b in zip(x,y)])\n",
    "sum_of_squared_differences"
   ]
  }
 ],
 "metadata": {
  "kernelspec": {
   "display_name": "Python 3",
   "language": "python",
   "name": "python3"
  },
  "language_info": {
   "codemirror_mode": {
    "name": "ipython",
    "version": 3
   },
   "file_extension": ".py",
   "mimetype": "text/x-python",
   "name": "python",
   "nbconvert_exporter": "python",
   "pygments_lexer": "ipython3",
   "version": "3.6.5"
  }
 },
 "nbformat": 4,
 "nbformat_minor": 2
}
