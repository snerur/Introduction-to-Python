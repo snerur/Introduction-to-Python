{
 "cells": [
  {
   "cell_type": "markdown",
   "metadata": {},
   "source": [
    "Classes, Objects, and Inheritance\n",
    "\n",
    "@Authors: Sridhar Nerur, Samuel Jayaraj, and Mahyar Vaghefi\n",
    "\n",
    "In this notebook, we will introduce you to abstract data types/classes, their instances (i.e., objects), and inheritance. The advent of languages like Smalltalk, followed by C++ and Java changed the way developers conceptualized and built software systems. Erstwhile approaches - referred to as structured systems development - privileged algorithms and functions to data. For example, when programmers developed systems using the structured paradigm, they visualized the system as a hierarchy of functions using diagrams (e.g., Data Flow Diagrams and structured charts). The process model, which emphasized actions and functions, was developed independent of the data model (e.g., entity relationship diagram). In other words, data and the functions that operated on the data were not seen as one encapsulated whole.\n",
    "\n",
    "The object-oriented paradigm, which places emphasis on the encapsulation of data and related functions, changed the way developers analyzed and designed software systems. Central to this paradigm is the notion of a class, which is an abstraction that combines/encapsulates data and related functions and usually maps on to real-world concepts of interest in the domain under development.  Examples of classes include Customers, Orders, Shipment, Invoice, Payment, Employees, Account, SavingAccount, Reservation, Renewal, and so forth. You may also think of a class as an abstraction that represents a set of instances or objects that have similar characteristics and behaviors.  \n",
    "\n",
    "I have used the term object several times without defining it. An object is an instance of a class. For example, my Savings Account at Bank XYZ is one occurrence of a Savings Account. This account is uniquely associated with me, has a certain balance, is subject to some rules (e.g., a minimum balance to be maintained) that apply equally to all savings accounts in Bank XYZ, and so on. My friend, Doug, may also have a savings account in the same bank. Doug's savings account would be identified by a unique id, would have its own balance, and would be linked to Doug and not me (as much as I would like to access his $$$!). These two instances of a Saving Account at Bank XYZ (i.e., my account and Doug's) are called SavingsAccount objects.\n",
    "\n",
    "An object has:\n",
    "a) Identity: This uniquely identifies an object.\n",
    "b) State: Defined by the values of its attributes and references to other objects.\n",
    "c) Behavior: These are actions that you can perform on an object. For example, you can withdraw money from or deposit money into an account.\n",
    "\n",
    "A class can be abstract or concrete. An abstract class is one that cannot be instantiated. That is, you cannot create an instance of that class. For example, in a banking application, the notion of Account is abstract, because you open a type of account (Savings or Checkings) not an Account. Of course, Savings and Checkings have the similar attributes and behaviors and are \"sub classes\" of Account that can be instantiated. Likewise, a Mammal class would be abstract (we see sub-classes of Mammal - Dogs, Persons, etc.) but a Dog, which is a mammal, can be instantiated. In contrast to an abstract class, concrete classes can be instantiated. The more abstract a class the more general it is, and the more concrete a class the more specialized it is.\n",
    "\n",
    "A couple of concepts before we start coding. First, we have something called inheritance, something that allows you to create sub-classes that acquire the attributes and methods of a super class. For example, a banking application could have a very general class called Account that has attributes that are common to types of accounts that the bank offers. The types of accounts - Savings Account, Checking Account, Money Manager Account, Loan Account - are more specialized accounts that not only share the attributes and behaviors of the super class (i.e., Account) but also may have their own characteristics (i.e., attributes and references) and methods. In this example, Account is abstract (more general) and the sub-classes Savings Account and Checking Account are both concrete, as those are the accounts we open in a bank.\n",
    "\n",
    "As one can see, inheritance allows reuse, helps to avoid duplication of code, and allows us to extend our application easily (for example, by adding a new sub-class). Inheritance also allows for polymorphism, a principle that allows a client to deal with any object without knowing which specific sub-class the object belongs to. For example, a client that handles transactions on an account doesn't have to know whether the object it is handling is a Savings Account object or a Checking ACcount instance.\n",
    "\n",
    "Now that we have the key concepts out of the way, let us see how Python provides support for object-oriented concepts. We will see two examples. The first will be a single container class that behaves like a Queue. Items are added to the end of the queue and are processed/serviced in sequence from the beginning of the queue. The second example will involve a small banking class with Account, Saving Account, and Checking Account."
   ]
  },
  {
   "cell_type": "code",
   "execution_count": 7,
   "metadata": {},
   "outputs": [],
   "source": [
    "#A Queue Class - we will use a list to manage the queue. It will have\n",
    "#the following methods: add_to_queue() will add an element to the end\n",
    "#of the queue; process_next() will pop the first element of queue and\n",
    "#move the second item to the beginning of the queue; isEmpty() will \n",
    "#check to see if our queue is empty\n",
    "class Queue:\n",
    "    def __init__(self, aList = []):\n",
    "        self.aList = aList #list to manage our queue\n",
    "        \n",
    "    def add_to_queue(self, anItem):\n",
    "        self.aList.append(anItem)\n",
    "    \n",
    "    def process_next(self):\n",
    "        #first make sure it is not empty\n",
    "        if not self.IsEmpty():\n",
    "            return self.aList.pop(0)\n",
    "        return \"Queue is empty - nothing to process\" #Exception?\n",
    "    \n",
    "    def isEmpty(self):\n",
    "        return len(self.aList) == 0 #queue is empty if its list has 0 length\n",
    "    "
   ]
  },
  {
   "cell_type": "markdown",
   "metadata": {},
   "source": [
    "Explanation:\n",
    "\n",
    "1. We always start with: class ClassName: or class ClassName(SuperClass):\n",
    "In our example, we are inheriting from the root class of Python called object. So, we could have also started our class as follows:\n",
    "class Queue(object):\n",
    "\n",
    "2. The __init__() [Note that it has two leading and two trailing underscores] is a special method that is onvoked when we try to create an instance of the class (i.e., when we try to create an object). The first paramter of __init__() is always \"self\", which is a reference to the current object. One may pass other parameters depending on the class being created. The __init__() methods serves as a constructor.\n",
    "\n",
    "3. Note that all the other methods in thr Queue class have \"self\" as their first parameter. Every instance method - a method that is associated with the instance and not the ENTIRE class - will have \"self\" as the first parameter. In contrast, there are what are known as class methods or static methods that should have no reference to self. We will see this later.\n",
    "\n",
    "Let us try to create some instances of our queue and see if the methods work.\n"
   ]
  },
  {
   "cell_type": "code",
   "execution_count": 8,
   "metadata": {},
   "outputs": [
    {
     "data": {
      "text/plain": [
       "<__main__.Queue at 0x103799940>"
      ]
     },
     "execution_count": 8,
     "metadata": {},
     "output_type": "execute_result"
    }
   ],
   "source": [
    "q = Queue()\n",
    "q"
   ]
  },
  {
   "cell_type": "markdown",
   "metadata": {},
   "source": [
    "Did it do something? Create an empty Queue perhaps. It would be nice to do a print(q) to print out the entire queue. We will see how to do that shortly."
   ]
  },
  {
   "cell_type": "code",
   "execution_count": 9,
   "metadata": {},
   "outputs": [
    {
     "data": {
      "text/plain": [
       "<__main__.Queue at 0x103799940>"
      ]
     },
     "execution_count": 9,
     "metadata": {},
     "output_type": "execute_result"
    }
   ],
   "source": [
    "#let add some items\n",
    "q.add_to_queue(\"Doug\")\n",
    "q.add_to_queue(\"Peter\")\n",
    "q.add_to_queue(\"Nancy\")\n",
    "q"
   ]
  },
  {
   "cell_type": "code",
   "execution_count": 10,
   "metadata": {},
   "outputs": [
    {
     "name": "stdout",
     "output_type": "stream",
     "text": [
      "<__main__.Queue object at 0x103799940>\n"
     ]
    }
   ],
   "source": [
    "#how about print\n",
    "print(q)"
   ]
  },
  {
   "cell_type": "markdown",
   "metadata": {},
   "source": [
    "Nothing again! Let us modify our queue and add a few useful methods. Here are a few special methods we will add - note that special methods have leading and trailing double underscores:\n",
    "\n",
    "__len__() --> this will allow us to get the length our queue\n",
    "\n",
    "__str__() --> returns a string representation of our queue. This will allow us to use print() to display the queue\n",
    "\n",
    "__repr__() --> gives a canonical representation of the object; happens when you try to see q as in the previous cell\n",
    "\n",
    "__add__() --> will allow us to add two queues\n",
    "\n"
   ]
  },
  {
   "cell_type": "code",
   "execution_count": 32,
   "metadata": {},
   "outputs": [],
   "source": [
    "class Queue:\n",
    "    def __init__(self, aList = []):\n",
    "        self.aList = aList #list to manage our queue\n",
    "        \n",
    "    def add_to_queue(self, anItem):\n",
    "        self.aList.append(anItem)\n",
    "    \n",
    "    def process_next(self):\n",
    "        #first make sure it is not empty\n",
    "        if not self.IsEmpty():\n",
    "            return self.aList.pop(0)\n",
    "        return \"Queue is empty - nothing to process\" #Exception?\n",
    "    \n",
    "    def isEmpty(self):\n",
    "        return len(self.aList) == 0 #queue is empty if its list has 0 length\n",
    "    \n",
    "    def __len__(self):\n",
    "        return len(self.aList) #length of our list is the length of our queue\n",
    "    \n",
    "    def __str__(self):\n",
    "        return str(self.aList)\n",
    "    \n",
    "    def __repr__(self):\n",
    "        return \"Queue: \" + str(self.aList)\n",
    "    \n",
    "    def __add__(self, anotherQueue):\n",
    "        self.aList.extend(anotherQueue.aList)\n",
    "        return self.aList\n",
    "\n"
   ]
  },
  {
   "cell_type": "code",
   "execution_count": 33,
   "metadata": {},
   "outputs": [
    {
     "name": "stdout",
     "output_type": "stream",
     "text": [
      "['John', 'Mary']\n"
     ]
    }
   ],
   "source": [
    "#testing our new Queue\n",
    "queue = Queue() #q is our Queue object\n",
    "queue.add_to_queue(\"John\")\n",
    "queue.add_to_queue(\"Mary\")\n",
    "print(queue)"
   ]
  },
  {
   "cell_type": "code",
   "execution_count": 34,
   "metadata": {},
   "outputs": [
    {
     "data": {
      "text/plain": [
       "Queue: ['John', 'Mary']"
      ]
     },
     "execution_count": 34,
     "metadata": {},
     "output_type": "execute_result"
    }
   ],
   "source": [
    "#How about just q?\n",
    "queue"
   ]
  },
  {
   "cell_type": "markdown",
   "metadata": {},
   "source": [
    "Note print(queue) is the same as print(queue.__str__()) and queue by itself is queue.__repr__()."
   ]
  },
  {
   "cell_type": "code",
   "execution_count": 36,
   "metadata": {},
   "outputs": [
    {
     "name": "stdout",
     "output_type": "stream",
     "text": [
      "['John', 'Mary']\n"
     ]
    }
   ],
   "source": [
    "print(queue.__str__())"
   ]
  },
  {
   "cell_type": "code",
   "execution_count": 37,
   "metadata": {},
   "outputs": [
    {
     "data": {
      "text/plain": [
       "\"Queue: ['John', 'Mary']\""
      ]
     },
     "execution_count": 37,
     "metadata": {},
     "output_type": "execute_result"
    }
   ],
   "source": [
    "queue.__repr__()"
   ]
  },
  {
   "cell_type": "code",
   "execution_count": 38,
   "metadata": {},
   "outputs": [
    {
     "data": {
      "text/plain": [
       "2"
      ]
     },
     "execution_count": 38,
     "metadata": {},
     "output_type": "execute_result"
    }
   ],
   "source": [
    "#Get the length of the queue\n",
    "len(queue)"
   ]
  },
  {
   "cell_type": "code",
   "execution_count": 39,
   "metadata": {},
   "outputs": [
    {
     "name": "stdout",
     "output_type": "stream",
     "text": [
      "['John', 'Mary', 'Peter', 'Doug', 'Nancy']\n"
     ]
    }
   ],
   "source": [
    "#Let us try the add method\n",
    "q1 = Queue([\"Peter\", \"Doug\", \"Nancy\"])\n",
    "print(queue + q1)"
   ]
  },
  {
   "cell_type": "code",
   "execution_count": 40,
   "metadata": {},
   "outputs": [
    {
     "data": {
      "text/plain": [
       "Queue: ['John', 'Mary', 'Peter', 'Doug', 'Nancy']"
      ]
     },
     "execution_count": 40,
     "metadata": {},
     "output_type": "execute_result"
    }
   ],
   "source": [
    "queue"
   ]
  },
  {
   "cell_type": "markdown",
   "metadata": {},
   "source": [
    "Looks like all our methods are working...actually, we haven't tested all our methods. I will leave that as an exercise. Let us try to display all elements of the queue using a for loop."
   ]
  },
  {
   "cell_type": "code",
   "execution_count": 41,
   "metadata": {},
   "outputs": [
    {
     "ename": "TypeError",
     "evalue": "'Queue' object is not iterable",
     "output_type": "error",
     "traceback": [
      "\u001b[0;31m---------------------------------------------------------------------------\u001b[0m",
      "\u001b[0;31mTypeError\u001b[0m                                 Traceback (most recent call last)",
      "\u001b[0;32m<ipython-input-41-d80253e06c27>\u001b[0m in \u001b[0;36m<module>\u001b[0;34m()\u001b[0m\n\u001b[0;32m----> 1\u001b[0;31m \u001b[0;32mfor\u001b[0m \u001b[0mitem\u001b[0m \u001b[0;32min\u001b[0m \u001b[0mqueue\u001b[0m\u001b[0;34m:\u001b[0m\u001b[0;34m\u001b[0m\u001b[0m\n\u001b[0m\u001b[1;32m      2\u001b[0m     \u001b[0mprint\u001b[0m\u001b[0;34m(\u001b[0m\u001b[0mitem\u001b[0m\u001b[0;34m)\u001b[0m\u001b[0;34m\u001b[0m\u001b[0m\n",
      "\u001b[0;31mTypeError\u001b[0m: 'Queue' object is not iterable"
     ]
    }
   ],
   "source": [
    "for item in queue:\n",
    "    print(item)"
   ]
  },
  {
   "cell_type": "markdown",
   "metadata": {},
   "source": [
    "OOPS! Our Queue is not an iterable object. What it means is that we have to implement two methods: __iter__() and __next__(). Let me demonstrate how iter and next work with a regular list before we implement it in our Queue class."
   ]
  },
  {
   "cell_type": "code",
   "execution_count": 42,
   "metadata": {},
   "outputs": [
    {
     "data": {
      "text/plain": [
       "'cricket'"
      ]
     },
     "execution_count": 42,
     "metadata": {},
     "output_type": "execute_result"
    }
   ],
   "source": [
    "games = [\"cricket\", \"basketball\", \"hockey\", \"soccer\"]\n",
    "#get an iterator -- this works because a list class implements __iter__()\n",
    "iterator = iter(games)\n",
    "#now use the iterator to get the next item\n",
    "next(iterator)"
   ]
  },
  {
   "cell_type": "code",
   "execution_count": 43,
   "metadata": {},
   "outputs": [
    {
     "data": {
      "text/plain": [
       "'basketball'"
      ]
     },
     "execution_count": 43,
     "metadata": {},
     "output_type": "execute_result"
    }
   ],
   "source": [
    "#try next again to get the next game\n",
    "next(iterator)"
   ]
  },
  {
   "cell_type": "code",
   "execution_count": 52,
   "metadata": {},
   "outputs": [],
   "source": [
    "#Let us modify our Queue class to implement the __iter__() and \n",
    "#__next__() methods\n",
    "class Queue:\n",
    "    def __init__(self, aList = []):\n",
    "        self.aList = aList #list to manage our queue\n",
    "        \n",
    "    def add_to_queue(self, anItem):\n",
    "        self.aList.append(anItem)\n",
    "    \n",
    "    def process_next(self):\n",
    "        #first make sure it is not empty\n",
    "        if not self.IsEmpty():\n",
    "            return self.aList.pop(0)\n",
    "        return \"Queue is empty - nothing to process\" #Exception?\n",
    "    \n",
    "    def isEmpty(self):\n",
    "        return len(self.aList) == 0 #queue is empty if its list has 0 length\n",
    "    \n",
    "    def __len__(self):\n",
    "        return len(self.aList) #length of our list is the length of our queue\n",
    "    \n",
    "    def __str__(self):\n",
    "        return str(self.aList)\n",
    "    \n",
    "    def __repr__(self):\n",
    "        return \"Queue: \" + str(self.aList)\n",
    "    \n",
    "    def __add__(self, anotherQueue):\n",
    "        self.aList.extend(anotherQueue.aList)\n",
    "        return self.aList\n",
    "    \n",
    "    def __iter__(self):\n",
    "        self.index = -1\n",
    "        return self #the object serves as an iterator\n",
    "    \n",
    "    def __next__(self):\n",
    "        self.index += 1 #get the next index\n",
    "        if self.index < len(self.aList):\n",
    "            return self.aList[self.index]\n",
    "        raise StopIteration   #marks the end of our queue\n",
    "        \n"
   ]
  },
  {
   "cell_type": "code",
   "execution_count": 53,
   "metadata": {},
   "outputs": [],
   "source": [
    "#Let us see if this modified class can behave like an iterator\n",
    "q = Queue([\"Andy\", \"Mike\", \"Collin\", \"Maya\", \"Jane\"])\n",
    "iterator = iter(q)"
   ]
  },
  {
   "cell_type": "code",
   "execution_count": 54,
   "metadata": {},
   "outputs": [
    {
     "data": {
      "text/plain": [
       "'Andy'"
      ]
     },
     "execution_count": 54,
     "metadata": {},
     "output_type": "execute_result"
    }
   ],
   "source": [
    "next(iterator)"
   ]
  },
  {
   "cell_type": "code",
   "execution_count": 55,
   "metadata": {},
   "outputs": [
    {
     "data": {
      "text/plain": [
       "'Mike'"
      ]
     },
     "execution_count": 55,
     "metadata": {},
     "output_type": "execute_result"
    }
   ],
   "source": [
    "next(iterator)"
   ]
  },
  {
   "cell_type": "code",
   "execution_count": 56,
   "metadata": {},
   "outputs": [
    {
     "name": "stdout",
     "output_type": "stream",
     "text": [
      "Andy\n",
      "Mike\n",
      "Collin\n",
      "Maya\n",
      "Jane\n"
     ]
    }
   ],
   "source": [
    "#let us try a for loop\n",
    "for item in q:\n",
    "    print(item)"
   ]
  },
  {
   "cell_type": "markdown",
   "metadata": {},
   "source": [
    "Looks like our Queue class is working as expected. Try all the methods to make sure that there are no errors. \n",
    "\n",
    "Let us move on to a more business-like problem. We will create the following classes:\n",
    "\n",
    "Customer - a simple customer class with customer_id, name, and address\n",
    "\n",
    "Account  - this will be an abstract class. We will use a simple method\n",
    "to automatically increment our Account id. Other attributes will include:\n",
    "balance - to keep track of the balance in the account\n",
    "aCustomer - a reference to the Customer associated with the account\n",
    "We could add other methods but for now this should do. An account has behaviors - withdraw() and deposit() (we will not worry about other transactions, such as transferring money between accounts and the like.\n",
    "\n",
    "SavingsAccount - will inherit methods from Account. In addition, it will have a minimum balance.\n",
    "\n",
    "CheckingAccount - will inherit methods from Account and - in this example - will be exactly like its super class (i.e., the Account class)\n",
    "\n",
    "However, before we build the application, let us look at some sample classes and objects that we can create from them."
   ]
  },
  {
   "cell_type": "code",
   "execution_count": 11,
   "metadata": {},
   "outputs": [],
   "source": [
    "class Student:\n",
    "    \"\"\"Student class consists of the following attributes or\n",
    "       instance variables: student_id, student_name, major,\n",
    "       age, address. The class also contains the following\n",
    "       operations/methods: getName(), setAddress(),\n",
    "       getMajor(), __str__(). \n",
    "       The method __init__() is called a constructor\"\"\"\n",
    "    def __init__(self, student_id, name, major, age, address):\n",
    "        self.student_id = student_id\n",
    "        self.student_name = name\n",
    "        self.major = major\n",
    "        self.age = age\n",
    "        self.address = address\n",
    "    \n",
    "    def getName(self):#returns the name of the student\n",
    "        return self.student_name\n",
    "    \n",
    "    def setAddress(self, new_address):\n",
    "        self.address = new_address\n",
    "        print(\"Address has changed to:\", self.address)\n",
    "    \n",
    "    def getMajor(self):\n",
    "        return self.major\n",
    "    \n",
    "    def __str__(self): #like toString() in Java\n",
    "        display = \"Student ID: \" + self.student_id + \\\n",
    "                  \"\\nName: \" + self.student_name + \\\n",
    "                  \"\\nAddress: \" + self.address + \\\n",
    "                  \"\\nAge: \" + str(self.age) + \\\n",
    "                  \"\\nMajor: \" + self.major\n",
    "        return display"
   ]
  },
  {
   "cell_type": "markdown",
   "metadata": {},
   "source": [
    "Notes:\n",
    "class Student: can also be written as class Student(object):\n",
    "def__init__() method will create a student object. This is the first method that gets called when you instantiate an object\n",
    "It is very common to have set and get methods (also called setters and getters) to set values or have values returned.\n",
    "The __str_() method returns a string that can be used to print an object\n",
    "\n",
    "What we have is a template or an abstraction? Let us use it to create some objects."
   ]
  },
  {
   "cell_type": "code",
   "execution_count": 8,
   "metadata": {},
   "outputs": [
    {
     "name": "stdout",
     "output_type": "stream",
     "text": [
      "Student ID: 111\n",
      "Name: Doug Walters\n",
      "Address: 1414 Melbourne Ave\n",
      "Age: 45\n",
      "Major: INSY\n"
     ]
    }
   ],
   "source": [
    "student_1 = Student(\"111\",\"Doug Walters\",\"INSY\", 45, \"1414 Melbourne Ave\")\n",
    "#let us try some methods\n",
    "print(student_1) #calls __str__()"
   ]
  },
  {
   "cell_type": "code",
   "execution_count": 9,
   "metadata": {},
   "outputs": [
    {
     "name": "stdout",
     "output_type": "stream",
     "text": [
      "Doug Walters INSY\n"
     ]
    }
   ],
   "source": [
    "print(student_1.getName(), student_1.getMajor())"
   ]
  },
  {
   "cell_type": "code",
   "execution_count": 10,
   "metadata": {},
   "outputs": [
    {
     "name": "stdout",
     "output_type": "stream",
     "text": [
      "Address has changed to: 111 Hemlock Street\n",
      "Student ID: 111\n",
      "Name: Doug Walters\n",
      "Address: 111 Hemlock Street\n",
      "Age: 45\n",
      "Major: INSY\n"
     ]
    }
   ],
   "source": [
    "student_1.setAddress(\"111 Hemlock Street\")\n",
    "print(student_1)"
   ]
  },
  {
   "cell_type": "markdown",
   "metadata": {},
   "source": [
    "Demonstrating a hierarchy and inheritance - Let us use the example of Account, Savings Account, and Checking Account. We will also introduce you to the notion of static or class variables and class methods.\n",
    "\n",
    "In our previous example, attributes such as name, address, age, id, and major describe a specific instance (i.e., object) in the real world. For example, the student we created has the id \"111\", name of \"Doug Walters\", has 45 as is age, and so forth. These are properties of the specific object NOT the class. Hence, these variables are called instance variables.\n",
    "\n",
    "In contrast to instance variables, class variables are those that are SHARED by ALL instances or objects of a class. A good example of this is the minimum balance to be maintained in an Account. The minimum balance is not going to be different for for different customers. All account holders would be subject to the same minimum balance. Therefore, all account objects (instances of the account) would share the same minimum balance. We would refer to minimum balance as a class variable or a static variable. Because it is a class variable, YOU DO NOT need an instance or object to access it. \n",
    "\n",
    "A method that deals ONLY with class variables is called a class or static method. Note that such a method will have no reference to self."
   ]
  },
  {
   "cell_type": "code",
   "execution_count": 24,
   "metadata": {},
   "outputs": [],
   "source": [
    "#An abstract class called Account - you don't open an account; rather,\n",
    "#you open a type of account (e.g., savings or checking)\n",
    "class Account:\n",
    "    #some static variables - minimum_balance and accounts\n",
    "    #accounts is just a counter to keep track of the number of\n",
    "    #accounts created\n",
    "    minimum_balance = 350.00 #NOTE: THERE IS NO REFERENCE TO self\n",
    "    accounts = 0\n",
    "    \n",
    "    def __init__(self, balance = 0.0):\n",
    "        Account.accounts = Account.accounts + 1 #increment accounts created\n",
    "        self.account_id = str(Account.accounts)\n",
    "        self.balance = balance\n",
    "        \n",
    "    #static methods to get and set minimum balance\n",
    "    @staticmethod\n",
    "    def get_minimum_balance():\n",
    "        return Account.minimum_balance\n",
    "    \n",
    "    @staticmethod\n",
    "    def set_minimum_balance(value):\n",
    "        Account.minimum_balance = value\n",
    "        \n",
    "    def withdraw(self, amount):\n",
    "        balance_left = self.balance - amount\n",
    "        if balance_left < Account.minimum_balance:\n",
    "            print(\"You must have at least $\" + str(Account.minimum_balance))\n",
    "            print(\"Withdrawal cancelled\")\n",
    "        else:\n",
    "            self.balance = balance_left\n",
    "        print(\"Withdraw Transaction was successful.Your new balance is $\" +\n",
    "              str(self.balance))\n",
    "    \n",
    "    def deposit(self, amount):\n",
    "        self.balance += amount\n",
    "        print(\"Deposit was successful. New balance is $\" + str(self.balance))\n",
    "    \n",
    "    def __str__(self):\n",
    "        return \"\\n\\nAccount Details\\n\" + \\\n",
    "               \"\\nAccount_id: \" + self.account_id + \\\n",
    "               \"\\nBalance: $\" + str(self.balance)"
   ]
  },
  {
   "cell_type": "code",
   "execution_count": 25,
   "metadata": {},
   "outputs": [
    {
     "name": "stdout",
     "output_type": "stream",
     "text": [
      "You must have at least $350.0\n",
      "Withdrawal cancelled\n",
      "Withdraw Transaction was successful.Your new balance is $100\n",
      "Deposit was successful. New balance is $1600.0\n",
      "350.0\n",
      "500.0\n",
      "\n",
      "\n",
      "Account Details\n",
      "\n",
      "Account_id: 1\n",
      "Balance: $1600.0\n"
     ]
    }
   ],
   "source": [
    "a = Account(100)\n",
    "a.withdraw(50)\n",
    "a.deposit(1500.00)\n",
    "print(Account.get_minimum_balance())\n",
    "Account.set_minimum_balance(500.00)\n",
    "print(Account.get_minimum_balance())\n",
    "print(a)"
   ]
  },
  {
   "cell_type": "code",
   "execution_count": 26,
   "metadata": {},
   "outputs": [
    {
     "name": "stdout",
     "output_type": "stream",
     "text": [
      "\n",
      "\n",
      "Account Details\n",
      "\n",
      "Account_id: 1\n",
      "Balance: $1000000\n"
     ]
    }
   ],
   "source": [
    "#Is there a problem with our implementation?\n",
    "#Can we do this? That is, can we change the balance without going\n",
    "#through a transaction such as withdraw or deposit?\n",
    "a.balance = 1000000\n",
    "print(a)"
   ]
  },
  {
   "cell_type": "markdown",
   "metadata": {},
   "source": [
    "Exposing the balance in this manner is clearly not desirable. The solution is to make balance private. In Python, you can make a variable private by using two underscores in front of the name (e.g., __balance). While there are ways to still alter balance in Python, it is decidedly better than our previous implementation. Here is the altered class....But, we need to create a \"property\" that will allow us to get and set balance."
   ]
  },
  {
   "cell_type": "code",
   "execution_count": 33,
   "metadata": {},
   "outputs": [],
   "source": [
    "#modified account\n",
    "class Account:\n",
    "    #some static variables - minimum_balance and accounts\n",
    "    #accounts is just a counter to keep track of the number of\n",
    "    #accounts created\n",
    "    minimum_balance = 350.00 #NOTE: THERE IS NO REFERENCE TO self\n",
    "    accounts = 0\n",
    "    \n",
    "    def __init__(self, balance = 0.0):\n",
    "        Account.accounts = Account.accounts + 1 #increment accounts created\n",
    "        self.account_id = str(Account.accounts)\n",
    "        self.__balance = balance\n",
    "        \n",
    "    #static methods to get and set minimum balance\n",
    "    @staticmethod\n",
    "    def get_minimum_balance():\n",
    "        return Account.minimum_balance\n",
    "    \n",
    "    @staticmethod\n",
    "    def set_minimum_balance(value):\n",
    "        Account.minimum_balance = value\n",
    "    \n",
    "    @property\n",
    "    def balance(self):\n",
    "        return self.__balance\n",
    "    \n",
    "    @balance.setter\n",
    "    def balance(self, amount):\n",
    "        self.__balance = amount\n",
    "        \n",
    "    def withdraw(self, amount):\n",
    "        balance_left = self.balance - amount\n",
    "        if balance_left < Account.minimum_balance:\n",
    "            print(\"You must have at least $\" + str(Account.minimum_balance))\n",
    "            print(\"Withdrawal cancelled\")\n",
    "        else:\n",
    "            self.balance = balance_left\n",
    "        print(\"Withdraw Transaction was successful.Your new balance is $\" +\n",
    "              str(self.balance))\n",
    "    \n",
    "    def deposit(self, amount):\n",
    "        self.balance += amount\n",
    "        print(\"Deposit was successful. New balance is $\" + str(self.balance))\n",
    "    \n",
    "    def __str__(self):\n",
    "        return \"\\n\\nAccount Details\\n\" + \\\n",
    "               \"\\nAccount_id: \" + self.account_id + \\\n",
    "               \"\\nBalance: $\" + str(self.balance)"
   ]
  },
  {
   "cell_type": "code",
   "execution_count": 6,
   "metadata": {},
   "outputs": [
    {
     "name": "stdout",
     "output_type": "stream",
     "text": [
      "\n",
      "\n",
      "Account Details\n",
      "\n",
      "Account_id: 1\n",
      "Balance: $50000\n"
     ]
    }
   ],
   "source": [
    "#Let us see if we can change balance\n",
    "a = Account()\n",
    "a.balance = 50000\n",
    "print(a)"
   ]
  },
  {
   "cell_type": "code",
   "execution_count": 25,
   "metadata": {},
   "outputs": [],
   "source": [
    "#Let us create Savings Account the inherits from Account\n",
    "class Savings(Account):\n",
    "    def __init__(self, balance = 0.0):\n",
    "        Account.__init__(self, balance)\n",
    "        \n",
    "    \n",
    "    #override the withdraw method\n",
    "    def withdraw(self, amount):\n",
    "        balance_left = self.balance - amount\n",
    "        if balance_left >= 0:\n",
    "            self.balance -= amount\n",
    "            print(\"Withdraw successful! New balance is $\" + str(self.balance))\n",
    "        else:\n",
    "            print(\"Withdraw failed! You must have a balance of at least 0\")\n",
    "    \n",
    "    def __str__(self):\n",
    "        return \"Account Type: Savings\\n\" + Account.__str__(self)"
   ]
  },
  {
   "cell_type": "code",
   "execution_count": 26,
   "metadata": {},
   "outputs": [
    {
     "name": "stdout",
     "output_type": "stream",
     "text": [
      "Withdraw successful! New balance is $0\n",
      "Account Type: Savings\n",
      "\n",
      "\n",
      "Account Details\n",
      "\n",
      "Account_id: 7\n",
      "Balance: $0\n"
     ]
    }
   ],
   "source": [
    "s = Savings(100)\n",
    "s.withdraw(100)\n",
    "print(s)"
   ]
  },
  {
   "cell_type": "code",
   "execution_count": 34,
   "metadata": {},
   "outputs": [],
   "source": [
    "#Let us create Checking Account the inherits from Account and behaves\n",
    "#exactly like Account\n",
    "class Checking(Account):\n",
    "    def __init__(self, balance = 0.0):\n",
    "        Account.__init__(self, balance)\n",
    "        \n",
    "    \n",
    "    def __str__(self):\n",
    "        return \"Account Type: Checking\\n\" + Account.__str__(self)"
   ]
  },
  {
   "cell_type": "code",
   "execution_count": 36,
   "metadata": {},
   "outputs": [
    {
     "name": "stdout",
     "output_type": "stream",
     "text": [
      "You must have at least $350.0\n",
      "Withdrawal cancelled\n",
      "Withdraw Transaction was successful.Your new balance is $500.0\n",
      "Account Type: Checking\n",
      "\n",
      "\n",
      "Account Details\n",
      "\n",
      "Account_id: 2\n",
      "Balance: $500.0\n"
     ]
    }
   ],
   "source": [
    "c = Checking(500.00)\n",
    "c.withdraw(300.00)\n",
    "print(c)"
   ]
  },
  {
   "cell_type": "markdown",
   "metadata": {},
   "source": [
    "What happens when the subclass does not have an __init__() method?\n",
    "\n",
    "The super class's __init__() will automatically be called. Let us look at an example.\n",
    "\n",
    "However, if your subclass has an __init__() method, always called the super class's __init__() method to ensure that variables defined in the super class get initialized."
   ]
  },
  {
   "cell_type": "code",
   "execution_count": 38,
   "metadata": {},
   "outputs": [
    {
     "name": "stdout",
     "output_type": "stream",
     "text": [
      "20 23\n"
     ]
    }
   ],
   "source": [
    "class A:\n",
    "    def __init__(self, x = 10):\n",
    "        self.x = x\n",
    "        self.y = 23\n",
    "        \n",
    "class B(A): #B inherits from A\n",
    "    def f():\n",
    "        print(\"Useless function\")\n",
    "\n",
    "b = B(20) # what happens here? A's __init__() is automatically called\n",
    "print(b.x, b.y)\n",
    "        "
   ]
  },
  {
   "cell_type": "code",
   "execution_count": 39,
   "metadata": {},
   "outputs": [
    {
     "ename": "AttributeError",
     "evalue": "'B' object has no attribute 'x'",
     "output_type": "error",
     "traceback": [
      "\u001b[0;31m---------------------------------------------------------------------------\u001b[0m",
      "\u001b[0;31mAttributeError\u001b[0m                            Traceback (most recent call last)",
      "\u001b[0;32m<ipython-input-39-20b918ba2865>\u001b[0m in \u001b[0;36m<module>\u001b[0;34m()\u001b[0m\n\u001b[1;32m     12\u001b[0m \u001b[0;34m\u001b[0m\u001b[0m\n\u001b[1;32m     13\u001b[0m \u001b[0mb\u001b[0m \u001b[0;34m=\u001b[0m \u001b[0mB\u001b[0m\u001b[0;34m(\u001b[0m\u001b[0;36m20\u001b[0m\u001b[0;34m)\u001b[0m \u001b[0;31m# what happens here? A's __init__() IS NOT CALLED\u001b[0m\u001b[0;34m\u001b[0m\u001b[0m\n\u001b[0;32m---> 14\u001b[0;31m \u001b[0mprint\u001b[0m\u001b[0;34m(\u001b[0m\u001b[0mb\u001b[0m\u001b[0;34m.\u001b[0m\u001b[0mx\u001b[0m\u001b[0;34m,\u001b[0m \u001b[0mb\u001b[0m\u001b[0;34m.\u001b[0m\u001b[0my\u001b[0m\u001b[0;34m)\u001b[0m\u001b[0;34m\u001b[0m\u001b[0m\n\u001b[0m\u001b[1;32m     15\u001b[0m \u001b[0;34m\u001b[0m\u001b[0m\n",
      "\u001b[0;31mAttributeError\u001b[0m: 'B' object has no attribute 'x'"
     ]
    }
   ],
   "source": [
    "class A:\n",
    "    def __init__(self, x = 10):\n",
    "        self.x = x\n",
    "        self.y = 23\n",
    "        \n",
    "class B(A): #B inherits from A\n",
    "    def __init__(self, y = 10):\n",
    "        self.y = y\n",
    "        \n",
    "    def f():\n",
    "        print(\"Useless function\")\n",
    "\n",
    "b = B(20) # what happens here? A's __init__() IS NOT CALLED\n",
    "print(b.x, b.y)\n",
    "        "
   ]
  },
  {
   "cell_type": "markdown",
   "metadata": {},
   "source": [
    "Do you see why the error occurred? Because, B has its own __init__(), it has to call A's __init__() to have its x variable set."
   ]
  }
 ],
 "metadata": {
  "kernelspec": {
   "display_name": "Python 3",
   "language": "python",
   "name": "python3"
  },
  "language_info": {
   "codemirror_mode": {
    "name": "ipython",
    "version": 3
   },
   "file_extension": ".py",
   "mimetype": "text/x-python",
   "name": "python",
   "nbconvert_exporter": "python",
   "pygments_lexer": "ipython3",
   "version": "3.6.5"
  }
 },
 "nbformat": 4,
 "nbformat_minor": 2
}
