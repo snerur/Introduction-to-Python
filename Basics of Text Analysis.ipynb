{
 "cells": [
  {
   "cell_type": "markdown",
   "metadata": {},
   "source": [
    "Basics of Text Analysis\n",
    "\n",
    "@Authors: Sridhar Nerur, Samuel Jayarajan and Mahyar Vaghefi\n",
    "\n",
    "Data may be structured or unstructured. The iris dataset that you saw in an earlier section would be an example of structured data. You may recall that we had four numeric predictors and a categorical (i.e., 3 species of flowers) target variable. Such structured data can be subjected to quantitative analysis with little or no effort. Unstructured data, on the other hand, is much more difficult to analyze as there is no apparent structure to which we can apply our quantitative techniques. Videos and raw text (such as annual reports, IPO prospectuses, product reviews, academic papers, contracts, etc.) have to be given some structure before they can be analyzed.\n",
    "\n",
    "Natural Language Processing (NLP) and image processing have dominated the conversation in the AI world lately. Myriad techniques have emerged to deal with unstructured data. It has been claimed that about 80% of the data in existence is unstructured. The question then is, how can we draw actionable insight and business value from text, videos, images, conversations, and other forms of unstructured data. This notebook gives you a glimpse of the things that you can do with text.\n",
    "\n",
    "The following topics will be covered in this notebook:\n",
    "\n",
    "1. Preprocessing text - normalizing, removing digits and punctuation, removing stopwords, and lemmatizing\n",
    "2. Getting word counts and creating a word cloud.\n",
    "3. Part-of-speech (POS) analysis\n",
    "4. Named Entity Recognition\n",
    "5. Extracting noun phrases\n",
    "6. Unigrams, bigrams, and trigrams\n",
    "6. Text similarity\n",
    "8. Sentiment Analysis\n",
    "9. Readability of text\n",
    "\n",
    "Note that several useful modules for text analysis will be used in this notebook. The three main ones are:\n",
    "Spacy (pip install spacy)\n",
    "NLTK (pip install nltk)\n",
    "Textblob (pip install textblob)\n",
    "\n",
    "For spacy, it is also useful to download core language models such as en_core_web_lg as follows:\n",
    "\n",
    "python -m spacy download en_core_web_lg\n",
    "\n",
    "This notebook will not cover topic modelling, text calssification, and other advanced text analytics techniques."
   ]
  },
  {
   "cell_type": "code",
   "execution_count": 3,
   "metadata": {},
   "outputs": [],
   "source": [
    "#Preprocessing text --- let us write a method to do this\n",
    "def parse(txt, punct = True, numbers = True, stemmer = False, lemmatize = True, stopword_list = []):\n",
    "    \"\"\"parameter list = text, punct, numbers, stemmer\"\"\"\n",
    "    txt = txt.lower()\n",
    "    #remove punctuation if necessary\n",
    "    import string\n",
    "    if punct:\n",
    "        p = string.punctuation\n",
    "        tbl = str.maketrans(p, len(p) * \" \")\n",
    "        txt = txt.translate(tbl)\n",
    "    if numbers:\n",
    "        d = string.digits\n",
    "        tbl = str.maketrans(d, len(d) * \" \")\n",
    "        txt = txt.translate(tbl)\n",
    "    \n",
    "    #remove stopwords\n",
    "    import nltk\n",
    "    stopwords = nltk.corpus.stopwords.words('english')\n",
    "    stopwords.extend(stopword_list)\n",
    "    word_list = [word for word in txt.split() if word not in stopwords and len(word) > 2]\n",
    "    \n",
    "    \n",
    "    #lemmatize by default\n",
    "    import spacy\n",
    "    if lemmatize:\n",
    "        txt = \" \".join(word_list)\n",
    "        nlp_en = spacy.load('en_core_web_lg')\n",
    "        docs = nlp_en(txt)\n",
    "        word_list = [doc.lemma_ for doc in docs]\n",
    "    \n",
    "    #stem if necessary\n",
    "    if stemmer:\n",
    "        s = nltk.PorterStemmer()\n",
    "        word_list = [s.stem(word) for word in word_list]\n",
    "    \n",
    "    \n",
    "    txt = \" \".join(word_list)\n",
    "    txt = txt.replace(\"-PRON-\",\"\")\n",
    "    txt = txt.replace(\"PRON\",\"\")\n",
    "    \n",
    "    return txt\n",
    "    "
   ]
  },
  {
   "cell_type": "markdown",
   "metadata": {},
   "source": [
    "The method shown above uses several Python modules - string to get punctuation and digits, nltk for stopwords and stemming, and spacy for lemmatization. Here is a decsription of the method:\n",
    "\n",
    "1. Normalize the text with txt.lower().\n",
    "2. If punctuation has to be removed (it is the default), use maketrans and translate to remove punctuation.\n",
    "3. If digits have to be removed (it is the default), we will again use maketrans and translate to remove digits.\n",
    "Note that steps 2 and 3 can be easily combined. In fact, you could use regex (which we briefly discussed in the notebook on strings) to remove digits and punctuation as follows:\n",
    "\n",
    "import re\n",
    "\n",
    "pattern = re.compile(\"[^\\d!\\\"#$%&\\'()*+,-./:;<=>?@[\\\\]^_`{|}~]+\")\n",
    "\n",
    "txt = \"\".join(re.findall(pattern, txt))\n",
    "\n",
    "4. We can eliminate meaningless and/or irrelevant words - called stopwords - by retaining only those words that are not in the stopwords list. Basic stopwords were obtained from nltk. Both sklearn and spacy have stopword lists as well. Notice that the user can also provide domain-specific stopwords.\n",
    "5. Lemmatization is the process of reducing words to their root while ensuring that the root word is a valid entry in a dictionary. Stemming, on the other hand, may reduce the word to a root form that may be hard to decipher. We perform lemmatization using spacy. One may also use nltk for this purpose.\n",
    "6. Stemming is performed using nltk's PorterStemmer.\n",
    "\n",
    "The replace statements (to replace \"-PRON-\" and \"PRON\" with \"\") are necessary because spacy's lemmatization uses -PRON-/PRON as lemmas for pronouns (such as \"I\", \"we\", etc.)."
   ]
  },
  {
   "cell_type": "code",
   "execution_count": 4,
   "metadata": {},
   "outputs": [
    {
     "data": {
      "text/plain": [
       "'meeting place minute take hour waste'"
      ]
     },
     "execution_count": 4,
     "metadata": {},
     "output_type": "execute_result"
    }
   ],
   "source": [
    "#Let us test our method\n",
    "s = \"A meeting is a place where minutes are taken and hours are wasted!!\"\n",
    "parse(s) #using defaults"
   ]
  },
  {
   "cell_type": "code",
   "execution_count": 6,
   "metadata": {},
   "outputs": [
    {
     "data": {
      "text/plain": [
       "'meeting minute hour waste'"
      ]
     },
     "execution_count": 6,
     "metadata": {},
     "output_type": "execute_result"
    }
   ],
   "source": [
    "#Let us add our stopwords\n",
    "stopwords = ['place', 'taken']\n",
    "parse(s, stopword_list = stopwords)"
   ]
  },
  {
   "cell_type": "code",
   "execution_count": 12,
   "metadata": {},
   "outputs": [
    {
     "data": {
      "text/plain": [
       "'it was the best of times it was the worst of times it was the\\nage of wisdom it was the age of foolishness it was the epoch of belief\\nit was the epoch of incredulity it was the season of light it was the\\nseason of darkness it was the spring of hope it was the winter of\\ndespair we had everything before us we had nothing before us we were\\nall going direct to heaven we were all going direct the other wayin\\nshort the period was so far like the present period that some of its\\nnoisiest authorities insisted on its being received for good or for\\nevil in the superlative degree of comparison only\\nthere were a king with a large jaw and a queen with a plain face on the\\nthrone of england there were a king with a large jaw and a queen with\\na fair face on the throne of france in both countries it was clearer\\nthan crystal to the lords of the state preserves of loaves and fishes\\nthat things in general were settled for ever'"
      ]
     },
     "execution_count": 12,
     "metadata": {},
     "output_type": "execute_result"
    }
   ],
   "source": [
    "#we will use the following paragraphs to generate word counts and a \n",
    "#word cloud. Can you guess which book it is from?\n",
    "s = \"\"\"It was the best of times, it was the worst of times, it was the\n",
    "age of wisdom, it was the age of foolishness, it was the epoch of belief,\n",
    "it was the epoch of incredulity, it was the season of Light, it was the\n",
    "season of Darkness, it was the spring of hope, it was the winter of\n",
    "despair, we had everything before us, we had nothing before us, we were\n",
    "all going direct to Heaven, we were all going direct the other way--in\n",
    "short, the period was so far like the present period, that some of its\n",
    "noisiest authorities insisted on its being received, for good or for\n",
    "evil, in the superlative degree of comparison only.\n",
    "There were a king with a large jaw and a queen with a plain face, on the\n",
    "throne of England; there were a king with a large jaw and a queen with\n",
    "a fair face, on the throne of France. In both countries it was clearer\n",
    "than crystal to the lords of the State preserves of loaves and fishes,\n",
    "that things in general were settled for ever.\"\"\"\n",
    "\n",
    "#First, change text to lowercase\n",
    "s = s.lower()\n",
    "\n",
    "#let us get rid of punctuation\n",
    "import re\n",
    "pattern = re.compile(\"[^!\\\"#$%&\\'()*+,-./:;<=>?@[\\\\]^_`{|}~]+\")\n",
    "s = \"\".join(re.findall(pattern, s))\n",
    "\n",
    "#Let us look at the string now\n",
    "s"
   ]
  },
  {
   "cell_type": "code",
   "execution_count": 13,
   "metadata": {},
   "outputs": [],
   "source": [
    "#Let us replace new line characters with spaces\n",
    "s = s.replace(\"\\n\",\" \")"
   ]
  },
  {
   "cell_type": "code",
   "execution_count": 14,
   "metadata": {},
   "outputs": [],
   "source": [
    "#Word counts and word cloud\n",
    "#A few imports.....\n",
    "import nltk\n",
    "\n",
    "#Next, let us convert the string to a list of words\n",
    "words = nltk.word_tokenize(s)\n"
   ]
  },
  {
   "cell_type": "code",
   "execution_count": 15,
   "metadata": {},
   "outputs": [
    {
     "data": {
      "text/plain": [
       "['it', 'was', 'the', 'best', 'of', 'times', 'it', 'was', 'the', 'worst']"
      ]
     },
     "execution_count": 15,
     "metadata": {},
     "output_type": "execute_result"
    }
   ],
   "source": [
    "#let us take a look....\n",
    "words[:10]"
   ]
  },
  {
   "cell_type": "code",
   "execution_count": 17,
   "metadata": {},
   "outputs": [
    {
     "data": {
      "text/plain": [
       "[('the', 18),\n",
       " ('of', 16),\n",
       " ('was', 12),\n",
       " ('it', 11),\n",
       " ('a', 8),\n",
       " ('were', 5),\n",
       " ('we', 4),\n",
       " ('with', 4),\n",
       " ('on', 3),\n",
       " ('for', 3)]"
      ]
     },
     "execution_count": 17,
     "metadata": {},
     "output_type": "execute_result"
    }
   ],
   "source": [
    "#Here is an easy way to get word counts\n",
    "word_frequencies = nltk.FreqDist(words)\n",
    "#Let us look at the 10 most frequent words\n",
    "word_frequencies.most_common(10)"
   ]
  },
  {
   "cell_type": "code",
   "execution_count": 20,
   "metadata": {},
   "outputs": [
    {
     "data": {
      "image/png": "[encoded data removed]",
      "text/plain": [
       "<Figure size 432x288 with 1 Axes>"
      ]
     },
     "metadata": {},
     "output_type": "display_data"
    },
    {
     "data": {
      "text/plain": [
       "<matplotlib.axes._subplots.AxesSubplot at 0x1665e9e10>"
      ]
     },
     "execution_count": 20,
     "metadata": {},
     "output_type": "execute_result"
    }
   ],
   "source": [
    "#nltk's FreqDist is really nice. You can even plot the top n words\n",
    "#as follows\n",
    "word_frequencies.plot(25)"
   ]
  },
  {
   "cell_type": "markdown",
   "metadata": {},
   "source": [
    "Note that this shape is typical of word frequency counts. That is, you will have some words that occur very frequently, while most others do not occur very often."
   ]
  },
  {
   "cell_type": "code",
   "execution_count": 18,
   "metadata": {},
   "outputs": [
    {
     "data": {
      "text/plain": [
       "[('the', 18),\n",
       " ('of', 16),\n",
       " ('was', 12),\n",
       " ('it', 11),\n",
       " ('a', 8),\n",
       " ('were', 5),\n",
       " ('we', 4),\n",
       " ('with', 4),\n",
       " ('on', 3),\n",
       " ('for', 3)]"
      ]
     },
     "execution_count": 18,
     "metadata": {},
     "output_type": "execute_result"
    }
   ],
   "source": [
    "#What if we did not have nltk? How would you get the word counts?\n",
    "from collections import Counter\n",
    "c = Counter(words)\n",
    "c.most_common(10)"
   ]
  },
  {
   "cell_type": "markdown",
   "metadata": {},
   "source": [
    "Word clouds are useful for visually representing dominant words that appear in text. There is a Python module called \"wordcloud\" (surprise!) that can be easily used for this purpose (see https://github.com/amueller/word_cloud). However, let us have some fun by writing one ourselves. Of course, the code given below is not original. It is adapted from a wonderful book called \"Data Science from Scratch\" by Joel Grus. It is a great book for those who wish to get into data science. Details of the book are given below:\n",
    "\n",
    "Data Science from Scratch by Joel Grus, O'Reilly Media, Inc., 2015 (ISBN: 978-1-491-90142-7)."
   ]
  },
  {
   "cell_type": "code",
   "execution_count": 52,
   "metadata": {},
   "outputs": [
    {
     "data": {
      "image/png": "[encoded data removed]",
      "text/plain": [
       "<Figure size 432x288 with 1 Axes>"
      ]
     },
     "metadata": {},
     "output_type": "display_data"
    }
   ],
   "source": [
    "import matplotlib.pyplot as plt\n",
    " \n",
    "def text_size(count):\n",
    "    return 8 + (count / 18) * 30 #More frequent words will have larger fonts\n",
    "#let us create some arbitrary coordinates\n",
    "import random\n",
    "coordinates = set()\n",
    "while len(coordinates) < len(c):\n",
    "    x = random.randint(2,390)\n",
    "    y = random.randint(2,390)\n",
    "    coordinates.add((x,y))\n",
    "    \n",
    "\n",
    "for i, word in enumerate(c):\n",
    "    plt.text(list(coordinates)[i][0], list(coordinates)[i][1],\n",
    "             word, ha = 'center', va = 'center', \n",
    "             color = random.choice(['r','g','b']), \n",
    "             size = text_size(c[word]))\n",
    "   \n",
    "plt.axis([0, 400, 0, 400])\n",
    "plt.xticks([])\n",
    "plt.yticks([])\n",
    "plt.show()\n"
   ]
  },
  {
   "cell_type": "markdown",
   "metadata": {},
   "source": [
    "This is clearly not the kind of word cloud you might have had in mind. Nevertheless, it gives you an idea of how one might create a word cloud. Experiment with it."
   ]
  },
  {
   "cell_type": "code",
   "execution_count": 21,
   "metadata": {},
   "outputs": [
    {
     "data": {
      "text/plain": [
       "[('Python', 'PROPN'),\n",
       " ('is', 'AUX'),\n",
       " ('by', 'ADP'),\n",
       " ('far', 'ADV'),\n",
       " ('the', 'DET'),\n",
       " ('easiest', 'ADJ'),\n",
       " ('and', 'CCONJ'),\n",
       " ('most', 'ADV'),\n",
       " ('versatile', 'ADJ'),\n",
       " ('language', 'NOUN'),\n",
       " ('I', 'PRON'),\n",
       " ('have', 'AUX'),\n",
       " ('encountered', 'VERB'),\n",
       " ('.', 'PUNCT')]"
      ]
     },
     "execution_count": 21,
     "metadata": {},
     "output_type": "execute_result"
    }
   ],
   "source": [
    "#Part of Speech Analysis -- to determine the part-of-speech of words that\n",
    "#are used\n",
    "import spacy #we will use spacy in this example\n",
    "# Load the large English model\n",
    "nlp = spacy.load('en_core_web_lg')\n",
    "s = \"Python is by far the easiest and most versatile language I have encountered.\"\n",
    "# Use spacy (i.e., nlp) to turn the string into a spacy doc\n",
    "doc = nlp(s)\n",
    "\n",
    "# doc will contain tokens/words that we need to iterate over to\n",
    "#get their parts of speech\n",
    "[(token.text, token.pos_) for token in doc]"
   ]
  },
  {
   "cell_type": "code",
   "execution_count": 22,
   "metadata": {},
   "outputs": [
    {
     "data": {
      "text/plain": [
       "[('Python', 'NNP'),\n",
       " ('is', 'VBZ'),\n",
       " ('by', 'IN'),\n",
       " ('far', 'RB'),\n",
       " ('the', 'DT'),\n",
       " ('easiest', 'JJS'),\n",
       " ('and', 'CC'),\n",
       " ('most', 'RBS'),\n",
       " ('versatile', 'JJ'),\n",
       " ('language', 'NN'),\n",
       " ('I', 'PRP'),\n",
       " ('have', 'VBP'),\n",
       " ('encountered', 'VBN')]"
      ]
     },
     "execution_count": 22,
     "metadata": {},
     "output_type": "execute_result"
    }
   ],
   "source": [
    "#Let us use nltk to get the POS tags\n",
    "#Convert the previous string to words\n",
    "words = s[:-1].split() #I am ignoring the last character, a period\n",
    "nltk.pos_tag(words)"
   ]
  },
  {
   "cell_type": "markdown",
   "metadata": {},
   "source": [
    "Not surprisingly, we get very similar results. Spacy and nltk use somewhat different annotations. For example, spacy used \"PROPN\" while nltk uses \"NNP\" for proper nouns. \"is\" was marked as \"AUX\" (an auxiliary verb) in spacy but \"VBZ\" (third person singular verb). Spacy's annotation may be found at the following site:\n",
    "\n",
    "https://spacy.io/api/annotation\n",
    "\n",
    "NLTK's pos tag list is given below (thanks to: https://medium.com/@muddaprince456/categorizing-and-pos-tagging-with-nltk-python-28f2bc9312c3)\n",
    "\n",
    "CC coordinating conjunction\n",
    "CD cardinal digit\n",
    "DT determiner\n",
    "EX existential there (like: “there is” … think of it like “there exists”)\n",
    "FW foreign word\n",
    "IN preposition/subordinating conjunction\n",
    "JJ adjective ‘big’\n",
    "JJR adjective, comparative ‘bigger’\n",
    "JJS adjective, superlative ‘biggest’\n",
    "LS list marker 1)\n",
    "MD modal could, will\n",
    "NN noun, singular ‘desk’\n",
    "NNS noun plural ‘desks’\n",
    "NNP proper noun, singular ‘Harrison’\n",
    "NNPS proper noun, plural ‘Americans’\n",
    "PDT predeterminer ‘all the kids’\n",
    "POS possessive ending parent’s\n",
    "PRP personal pronoun I, he, she\n",
    "PRP$ possessive pronoun my, his, hers\n",
    "RB adverb very, silently,\n",
    "RBR adverb, comparative better\n",
    "RBS adverb, superlative best\n",
    "RP particle give up\n",
    "TO, to go ‘to’ the store.\n",
    "UH interjection, errrrrrrrm\n",
    "VB verb, base form take\n",
    "VBD verb, past tense, took\n",
    "VBG verb, gerund/present participle taking\n",
    "VBN verb, past participle is taken\n",
    "VBP verb, sing. present, known-3d take\n",
    "VBZ verb, 3rd person sing. present takes\n",
    "WDT wh-determiner which\n",
    "WP wh-pronoun who, what\n",
    "WP$ possessive wh-pronoun whose\n",
    "WRB wh-adverb where, when"
   ]
  },
  {
   "cell_type": "code",
   "execution_count": 27,
   "metadata": {},
   "outputs": [
    {
     "data": {
      "text/plain": [
       "[('Python', 'NNP'),\n",
       " ('is', 'VBZ'),\n",
       " ('by', 'IN'),\n",
       " ('far', 'RB'),\n",
       " ('the', 'DT'),\n",
       " ('easiest', 'JJS'),\n",
       " ('and', 'CC'),\n",
       " ('most', 'RBS'),\n",
       " ('versatile', 'JJ'),\n",
       " ('language', 'NN'),\n",
       " ('I', 'PRP'),\n",
       " ('have', 'VBP'),\n",
       " ('encountered', 'VBN')]"
      ]
     },
     "execution_count": 27,
     "metadata": {},
     "output_type": "execute_result"
    }
   ],
   "source": [
    "#TextBlob is another useful Python module for text analysis\n",
    "#let us try POS tags using textblob\n",
    "from textblob import TextBlob\n",
    "txt = TextBlob(s)\n",
    "txt.tags\n"
   ]
  },
  {
   "cell_type": "markdown",
   "metadata": {},
   "source": [
    "We will now look at Named Entity Recognition (NER). The goal is to identify organizations, places/locations, people, dates, numbers, money, and so forth in text. These can be useful is assessing the specificity of text. Consider the following examples:\n",
    "\n",
    "1. Google spent about $50 million a year on Deep Learning.\n",
    "2. Companies spend a lot of money on emerging technologies.\n",
    "\n",
    "Which of the two is more specific or concrete? Clearly, the first example provides specific context, while the second is very general. Let us use spacy to see how well it recognizes entities.\n",
    "\n",
    "You may find the following reference useful: https://towardsdatascience.com/named-entity-recognition-with-nltk-and-spacy-8c4a7d88e7da\n"
   ]
  },
  {
   "cell_type": "code",
   "execution_count": 55,
   "metadata": {},
   "outputs": [
    {
     "name": "stdout",
     "output_type": "stream",
     "text": [
      "Google ORG\n",
      "about $50 million MONEY\n"
     ]
    }
   ],
   "source": [
    "# Process a text\n",
    "doc = nlp(u\"Google spent about $50 million a year on Deep Learning\")\n",
    "\n",
    "# doc.ents has the predicted entities. Loop through each and display\n",
    "for ent in doc.ents:\n",
    "    # Print the entity text and its label\n",
    "    print(ent.text, ent.label_)"
   ]
  },
  {
   "cell_type": "code",
   "execution_count": 56,
   "metadata": {},
   "outputs": [],
   "source": [
    "#let us try the second one\n",
    "# Process a text\n",
    "doc = nlp(u\"Companies spend a lot of money on emerging technologies.\")\n",
    "\n",
    "# doc.ents has the predicted entities. Loop through each and display\n",
    "for ent in doc.ents:\n",
    "    # Print the entity text and its label\n",
    "    print(ent.text, ent.label_)"
   ]
  },
  {
   "cell_type": "markdown",
   "metadata": {},
   "source": [
    "Note that cell above prints an empty list, as there are no identifiable entities in the text."
   ]
  },
  {
   "cell_type": "code",
   "execution_count": 68,
   "metadata": {},
   "outputs": [
    {
     "name": "stdout",
     "output_type": "stream",
     "text": [
      "The year 2020 DATE\n",
      "about a million CARDINAL\n",
      "US GPE\n",
      "Apple ORG\n",
      "Google ORG\n",
      "the billions of dollars MONEY\n"
     ]
    }
   ],
   "source": [
    "#Here is another example....\n",
    "s = \"\"\"The year 2020 has turned out to be catastrophic for the world.\n",
    "Many lives have been lost - about a million in the US alone - and the\n",
    "economy is in a shambles. Companies like Apple and Google are trying to\n",
    "help, but the billions of dollars lost can never be recovered.\"\"\"\n",
    "\n",
    "doc = nlp(s)\n",
    "\n",
    "# doc.ents has the predicted entities. Loop through each and display\n",
    "for ent in doc.ents:\n",
    "    # Print the entity text and its label\n",
    "    print(ent.text, ent.label_)"
   ]
  },
  {
   "cell_type": "code",
   "execution_count": 69,
   "metadata": {},
   "outputs": [
    {
     "data": {
      "text/plain": [
       "'Numerals that do not fall under another type'"
      ]
     },
     "execution_count": 69,
     "metadata": {},
     "output_type": "execute_result"
    }
   ],
   "source": [
    "#You can get an explanation for the entity by doing the following ...\n",
    "spacy.explain('CARDINAL')"
   ]
  },
  {
   "cell_type": "code",
   "execution_count": 67,
   "metadata": {},
   "outputs": [
    {
     "data": {
      "text/plain": [
       "'Countries, cities, states'"
      ]
     },
     "execution_count": 67,
     "metadata": {},
     "output_type": "execute_result"
    }
   ],
   "source": [
    "spacy.explain('GPE')"
   ]
  },
  {
   "cell_type": "code",
   "execution_count": 70,
   "metadata": {},
   "outputs": [
    {
     "data": {
      "text/html": [
       "<div class=\"entities\" style=\"line-height: 2.5; direction: ltr\">\n",
       "<mark class=\"entity\" style=\"background: #bfe1d9; padding: 0.45em 0.6em; margin: 0 0.25em; line-height: 1; border-radius: 0.35em;\">\n",
       "    The year 2020\n",
       "    <span style=\"font-size: 0.8em; font-weight: bold; line-height: 1; border-radius: 0.35em; text-transform: uppercase; vertical-align: middle; margin-left: 0.5rem\">DATE</span>\n",
       "</mark>\n",
       " has turned out to be catastrophic for the world.</br>Many lives have been lost - \n",
       "<mark class=\"entity\" style=\"background: #e4e7d2; padding: 0.45em 0.6em; margin: 0 0.25em; line-height: 1; border-radius: 0.35em;\">\n",
       "    about a million\n",
       "    <span style=\"font-size: 0.8em; font-weight: bold; line-height: 1; border-radius: 0.35em; text-transform: uppercase; vertical-align: middle; margin-left: 0.5rem\">CARDINAL</span>\n",
       "</mark>\n",
       " in the \n",
       "<mark class=\"entity\" style=\"background: #feca74; padding: 0.45em 0.6em; margin: 0 0.25em; line-height: 1; border-radius: 0.35em;\">\n",
       "    US\n",
       "    <span style=\"font-size: 0.8em; font-weight: bold; line-height: 1; border-radius: 0.35em; text-transform: uppercase; vertical-align: middle; margin-left: 0.5rem\">GPE</span>\n",
       "</mark>\n",
       " alone - and the</br>economy is in a shambles. Companies like \n",
       "<mark class=\"entity\" style=\"background: #7aecec; padding: 0.45em 0.6em; margin: 0 0.25em; line-height: 1; border-radius: 0.35em;\">\n",
       "    Apple\n",
       "    <span style=\"font-size: 0.8em; font-weight: bold; line-height: 1; border-radius: 0.35em; text-transform: uppercase; vertical-align: middle; margin-left: 0.5rem\">ORG</span>\n",
       "</mark>\n",
       " and \n",
       "<mark class=\"entity\" style=\"background: #7aecec; padding: 0.45em 0.6em; margin: 0 0.25em; line-height: 1; border-radius: 0.35em;\">\n",
       "    Google\n",
       "    <span style=\"font-size: 0.8em; font-weight: bold; line-height: 1; border-radius: 0.35em; text-transform: uppercase; vertical-align: middle; margin-left: 0.5rem\">ORG</span>\n",
       "</mark>\n",
       " are trying to</br>help, but \n",
       "<mark class=\"entity\" style=\"background: #e4e7d2; padding: 0.45em 0.6em; margin: 0 0.25em; line-height: 1; border-radius: 0.35em;\">\n",
       "    the billions of dollars\n",
       "    <span style=\"font-size: 0.8em; font-weight: bold; line-height: 1; border-radius: 0.35em; text-transform: uppercase; vertical-align: middle; margin-left: 0.5rem\">MONEY</span>\n",
       "</mark>\n",
       " lost can never be recovered.</div>"
      ],
      "text/plain": [
       "<IPython.core.display.HTML object>"
      ]
     },
     "metadata": {},
     "output_type": "display_data"
    }
   ],
   "source": [
    "#Here is a cool way to embed the entities in the text\n",
    "spacy.displacy.render(doc, jupyter = True, style = 'ent')"
   ]
  },
  {
   "cell_type": "markdown",
   "metadata": {},
   "source": [
    "Incidentally, spacy.displacy can also visually display dependencies between words in a sentence, as shown below."
   ]
  },
  {
   "cell_type": "code",
   "execution_count": 65,
   "metadata": {},
   "outputs": [
    {
     "data": {
      "text/html": [
       "<svg xmlns=\"http://www.w3.org/2000/svg\" xmlns:xlink=\"http://www.w3.org/1999/xlink\" xml:lang=\"en\" id=\"73dcb44388b84fadaffb3908c6504e9a-0\" class=\"displacy\" width=\"650\" height=\"287.0\" direction=\"ltr\" style=\"max-width: none; height: 287.0px; color: #000000; background: #ffffff; font-family: Arial; direction: ltr\">\n",
       "<text class=\"displacy-token\" fill=\"currentColor\" text-anchor=\"middle\" y=\"197.0\">\n",
       "    <tspan class=\"displacy-word\" fill=\"currentColor\" x=\"50\">Star</tspan>\n",
       "    <tspan class=\"displacy-tag\" dy=\"2em\" fill=\"currentColor\" x=\"50\">PROPN</tspan>\n",
       "</text>\n",
       "\n",
       "<text class=\"displacy-token\" fill=\"currentColor\" text-anchor=\"middle\" y=\"197.0\">\n",
       "    <tspan class=\"displacy-word\" fill=\"currentColor\" x=\"150\">Wars</tspan>\n",
       "    <tspan class=\"displacy-tag\" dy=\"2em\" fill=\"currentColor\" x=\"150\">PROPN</tspan>\n",
       "</text>\n",
       "\n",
       "<text class=\"displacy-token\" fill=\"currentColor\" text-anchor=\"middle\" y=\"197.0\">\n",
       "    <tspan class=\"displacy-word\" fill=\"currentColor\" x=\"250\">is</tspan>\n",
       "    <tspan class=\"displacy-tag\" dy=\"2em\" fill=\"currentColor\" x=\"250\">AUX</tspan>\n",
       "</text>\n",
       "\n",
       "<text class=\"displacy-token\" fill=\"currentColor\" text-anchor=\"middle\" y=\"197.0\">\n",
       "    <tspan class=\"displacy-word\" fill=\"currentColor\" x=\"350\">an</tspan>\n",
       "    <tspan class=\"displacy-tag\" dy=\"2em\" fill=\"currentColor\" x=\"350\">DET</tspan>\n",
       "</text>\n",
       "\n",
       "<text class=\"displacy-token\" fill=\"currentColor\" text-anchor=\"middle\" y=\"197.0\">\n",
       "    <tspan class=\"displacy-word\" fill=\"currentColor\" x=\"450\">excellent</tspan>\n",
       "    <tspan class=\"displacy-tag\" dy=\"2em\" fill=\"currentColor\" x=\"450\">ADJ</tspan>\n",
       "</text>\n",
       "\n",
       "<text class=\"displacy-token\" fill=\"currentColor\" text-anchor=\"middle\" y=\"197.0\">\n",
       "    <tspan class=\"displacy-word\" fill=\"currentColor\" x=\"550\">movie.</tspan>\n",
       "    <tspan class=\"displacy-tag\" dy=\"2em\" fill=\"currentColor\" x=\"550\">NOUN</tspan>\n",
       "</text>\n",
       "\n",
       "<g class=\"displacy-arrow\">\n",
       "    <path class=\"displacy-arc\" id=\"arrow-73dcb44388b84fadaffb3908c6504e9a-0-0\" stroke-width=\"2px\" d=\"M70,152.0 C70,102.0 140.0,102.0 140.0,152.0\" fill=\"none\" stroke=\"currentColor\"/>\n",
       "    <text dy=\"1.25em\" style=\"font-size: 0.8em; letter-spacing: 1px\">\n",
       "        <textPath xlink:href=\"#arrow-73dcb44388b84fadaffb3908c6504e9a-0-0\" class=\"displacy-label\" startOffset=\"50%\" side=\"left\" fill=\"currentColor\" text-anchor=\"middle\">compound</textPath>\n",
       "    </text>\n",
       "    <path class=\"displacy-arrowhead\" d=\"M70,154.0 L62,142.0 78,142.0\" fill=\"currentColor\"/>\n",
       "</g>\n",
       "\n",
       "<g class=\"displacy-arrow\">\n",
       "    <path class=\"displacy-arc\" id=\"arrow-73dcb44388b84fadaffb3908c6504e9a-0-1\" stroke-width=\"2px\" d=\"M170,152.0 C170,102.0 240.0,102.0 240.0,152.0\" fill=\"none\" stroke=\"currentColor\"/>\n",
       "    <text dy=\"1.25em\" style=\"font-size: 0.8em; letter-spacing: 1px\">\n",
       "        <textPath xlink:href=\"#arrow-73dcb44388b84fadaffb3908c6504e9a-0-1\" class=\"displacy-label\" startOffset=\"50%\" side=\"left\" fill=\"currentColor\" text-anchor=\"middle\">nsubj</textPath>\n",
       "    </text>\n",
       "    <path class=\"displacy-arrowhead\" d=\"M170,154.0 L162,142.0 178,142.0\" fill=\"currentColor\"/>\n",
       "</g>\n",
       "\n",
       "<g class=\"displacy-arrow\">\n",
       "    <path class=\"displacy-arc\" id=\"arrow-73dcb44388b84fadaffb3908c6504e9a-0-2\" stroke-width=\"2px\" d=\"M370,152.0 C370,52.0 545.0,52.0 545.0,152.0\" fill=\"none\" stroke=\"currentColor\"/>\n",
       "    <text dy=\"1.25em\" style=\"font-size: 0.8em; letter-spacing: 1px\">\n",
       "        <textPath xlink:href=\"#arrow-73dcb44388b84fadaffb3908c6504e9a-0-2\" class=\"displacy-label\" startOffset=\"50%\" side=\"left\" fill=\"currentColor\" text-anchor=\"middle\">det</textPath>\n",
       "    </text>\n",
       "    <path class=\"displacy-arrowhead\" d=\"M370,154.0 L362,142.0 378,142.0\" fill=\"currentColor\"/>\n",
       "</g>\n",
       "\n",
       "<g class=\"displacy-arrow\">\n",
       "    <path class=\"displacy-arc\" id=\"arrow-73dcb44388b84fadaffb3908c6504e9a-0-3\" stroke-width=\"2px\" d=\"M470,152.0 C470,102.0 540.0,102.0 540.0,152.0\" fill=\"none\" stroke=\"currentColor\"/>\n",
       "    <text dy=\"1.25em\" style=\"font-size: 0.8em; letter-spacing: 1px\">\n",
       "        <textPath xlink:href=\"#arrow-73dcb44388b84fadaffb3908c6504e9a-0-3\" class=\"displacy-label\" startOffset=\"50%\" side=\"left\" fill=\"currentColor\" text-anchor=\"middle\">amod</textPath>\n",
       "    </text>\n",
       "    <path class=\"displacy-arrowhead\" d=\"M470,154.0 L462,142.0 478,142.0\" fill=\"currentColor\"/>\n",
       "</g>\n",
       "\n",
       "<g class=\"displacy-arrow\">\n",
       "    <path class=\"displacy-arc\" id=\"arrow-73dcb44388b84fadaffb3908c6504e9a-0-4\" stroke-width=\"2px\" d=\"M270,152.0 C270,2.0 550.0,2.0 550.0,152.0\" fill=\"none\" stroke=\"currentColor\"/>\n",
       "    <text dy=\"1.25em\" style=\"font-size: 0.8em; letter-spacing: 1px\">\n",
       "        <textPath xlink:href=\"#arrow-73dcb44388b84fadaffb3908c6504e9a-0-4\" class=\"displacy-label\" startOffset=\"50%\" side=\"left\" fill=\"currentColor\" text-anchor=\"middle\">attr</textPath>\n",
       "    </text>\n",
       "    <path class=\"displacy-arrowhead\" d=\"M550.0,154.0 L558.0,142.0 542.0,142.0\" fill=\"currentColor\"/>\n",
       "</g>\n",
       "</svg>"
      ],
      "text/plain": [
       "<IPython.core.display.HTML object>"
      ]
     },
     "metadata": {},
     "output_type": "display_data"
    }
   ],
   "source": [
    "s = \"Star Wars is an excellent movie.\"\n",
    "doc = nlp(s)\n",
    "spacy.displacy.render(doc, jupyter = True, style = 'dep',\n",
    "                     options = {'distance': 100})"
   ]
  },
  {
   "cell_type": "code",
   "execution_count": 73,
   "metadata": {},
   "outputs": [
    {
     "name": "stdout",
     "output_type": "stream",
     "text": [
      "My car's warranty\n",
      "its registration\n",
      "a new driver's license\n"
     ]
    }
   ],
   "source": [
    "#Let us display noun phrases\n",
    "#Noun phrases give us a gist of the text and can be useful in\n",
    "#extracting keywords from text\n",
    "s = \"\"\"My car's warranty has expired, its registration has to be renewed, \n",
    "and a new driver's license may have to be obtained as well.\"\"\"\n",
    "doc = nlp(s)\n",
    "for item in doc.noun_chunks:\n",
    "    print(item)"
   ]
  },
  {
   "cell_type": "code",
   "execution_count": 74,
   "metadata": {},
   "outputs": [
    {
     "data": {
      "text/plain": [
       "WordList([\"car 's warranty\", \"new driver 's license\"])"
      ]
     },
     "execution_count": 74,
     "metadata": {},
     "output_type": "execute_result"
    }
   ],
   "source": [
    "#let us see what TextBlob does\n",
    "txt = TextBlob(s)\n",
    "txt.noun_phrases"
   ]
  },
  {
   "cell_type": "markdown",
   "metadata": {},
   "source": [
    "Unigrams, Bigrams, Trigrams....ngrams\n",
    "\n",
    "Unigrams are single words, while bigrams and trigrams are two and three words that occur together, respectively. For example, \"United States\" would be a bigram, and \"linear regression model\" would be an example of a trigram. It is customary for us to get lists of unigrams, bigrams, and trigrams and find their frequencies. You may also use them in topic modelling, where a topic may be defined in terms of any of these.\n",
    "\n",
    "We will use nltks ngram method for this purpose."
   ]
  },
  {
   "cell_type": "code",
   "execution_count": 78,
   "metadata": {},
   "outputs": [
    {
     "name": "stdout",
     "output_type": "stream",
     "text": [
      "Unigram top 5 words: \n",
      "[('the', 5), ('.', 4), ('United', 3), ('States', 3), ('in', 3)]\n",
      "\n",
      "Bigram - top 5 counts: \n",
      "\n",
      "[(('United', 'States'), 3), (('in', 'the'), 3), (('linear', 'regression'), 2), (('regression', 'model'), 2), (('and', 'other'), 2)]\n",
      "\n",
      "Trigram - top 5 counts: \n",
      "\n",
      "[(('linear', 'regression', 'model'), 2), (('in', 'the', 'United'), 2), (('the', 'United', 'States'), 2), (('The', 'United', 'States'), 1), (('United', 'States', 'of'), 1)]\n"
     ]
    }
   ],
   "source": [
    "s = \"\"\"The United States of America is the best place in the world \n",
    "for advanced research. The linear regression model and other techniques \n",
    "were developed in the United States. Most machine learning courses \n",
    "place a lot of emphasis on the linear regression model. We know that \n",
    "machine learning is rapidly growing in the United States and other \n",
    "countries.\"\"\"\n",
    "words = nltk.wordpunct_tokenize(s)\n",
    "unigram_counts = Counter(words)\n",
    "bigrams = nltk.ngrams(words, 2)\n",
    "bigram_counts = Counter(bigrams)\n",
    "trigrams = nltk.ngrams(words, 3)\n",
    "trigram_counts = Counter(trigrams)\n",
    "print(\"Unigram top 5 words: \")\n",
    "print(unigram_counts.most_common(5))\n",
    "print(\"\\nBigram - top 5 counts: \\n\")\n",
    "print(bigram_counts.most_common(5))\n",
    "print(\"\\nTrigram - top 5 counts: \\n\")\n",
    "print(trigram_counts.most_common(5))"
   ]
  },
  {
   "cell_type": "markdown",
   "metadata": {},
   "source": [
    "Text Similarity\n",
    "\n",
    "There is growing interest in assessing the similarity between texts. For example, one may use text similarity between two essays to see how similar they are. Or, one may look at patents from different companies to see how their innovations overlap or to assess the risk of a patent infringement. Likewise, business similarity between companies may also be discerned by looking at the similarity of their annual reports.\n",
    "\n",
    "There are several ways to assess similarity between text:\n",
    "\n",
    "1. Vectorize the words in the text - convert them to a list of number based on the frequency of occurrence of words or some weighted score for each word. The similarity between two texts can then be calculated using the vectors of those texts. Cosine similarity is what most people use.\n",
    "2. Perform topic modelling on the text and use the probability distribution of each document across the topics as a vector of scores. The vectors can then be used to obtain text similarity.\n",
    "3. Use pretrained models such as GLoVe (Global Vectors for Word Representation - see https://nlp.stanford.edu/projects/glove/ for details). This unsupervised learning algorithm provides vector representations for 100s of thousands of words. We can then use the vectors to compute similarity.\n",
    "\n",
    "In this notebook, we will use en_vectors_web_lg from Spacy, which basically provides GLoVe vectors trained on Common Crawl (see Spacy's documentation for details). It consists of 685k keys and 685k unique vectors (300 dimensions). Let us get started with vector representations of common animals and see how similar they are."
   ]
  },
  {
   "cell_type": "code",
   "execution_count": 79,
   "metadata": {},
   "outputs": [],
   "source": [
    "import spacy\n",
    "doc = \"goat pig sheep boar cat dog lion puma tiger shark whale fish alligator crocodile\"\n",
    "nlp = spacy.load('en_vectors_web_lg')"
   ]
  },
  {
   "cell_type": "code",
   "execution_count": 80,
   "metadata": {},
   "outputs": [
    {
     "name": "stdout",
     "output_type": "stream",
     "text": [
      "[-0.85893 -0.11558  0.38278 -0.37396 -0.11016]\n"
     ]
    }
   ],
   "source": [
    "tokens = nlp(doc)\n",
    "#let us get the first 5 elements of vector for the first token \"goat\"\n",
    "print(tokens[0].vector[:5])"
   ]
  },
  {
   "cell_type": "code",
   "execution_count": 81,
   "metadata": {},
   "outputs": [
    {
     "data": {
      "text/plain": [
       "300"
      ]
     },
     "execution_count": 81,
     "metadata": {},
     "output_type": "execute_result"
    }
   ],
   "source": [
    "#How large is the vector?\n",
    "len(tokens[0].vector)"
   ]
  },
  {
   "cell_type": "code",
   "execution_count": 82,
   "metadata": {},
   "outputs": [
    {
     "name": "stdout",
     "output_type": "stream",
     "text": [
      "0.63421\n",
      "0.7182427\n"
     ]
    }
   ],
   "source": [
    "#how similar is a goat to a pig?\n",
    "print(tokens[0].similarity(tokens[1]))\n",
    "#how similar is a goat to a sheep?\n",
    "print(tokens[0].similarity(tokens[2]))"
   ]
  },
  {
   "cell_type": "code",
   "execution_count": 83,
   "metadata": {},
   "outputs": [
    {
     "name": "stdout",
     "output_type": "stream",
     "text": [
      "[[1.         0.63420999 0.7182427  0.6016466  0.38603598 0.43964866\n",
      "  0.4703832  0.18229339 0.34363917 0.30794644 0.36724773 0.36817071\n",
      "  0.40233487 0.4151119 ]\n",
      " [0.63420999 1.         0.64002073 0.57897091 0.54926527 0.56925416\n",
      "  0.49023321 0.17442644 0.43495277 0.42430505 0.43393204 0.4944995\n",
      "  0.45165887 0.45570442]\n",
      " [0.7182427  0.64002073 1.         0.52828884 0.38271171 0.46427047\n",
      "  0.47781622 0.18111247 0.31490043 0.30267307 0.38690171 0.38460892\n",
      "  0.2869868  0.39061809]\n",
      " [0.6016466  0.57897091 0.52828884 1.         0.3654899  0.39094374\n",
      "  0.5312596  0.24728522 0.49289158 0.36420202 0.36524141 0.37074336\n",
      "  0.51592857 0.47155023]\n",
      " [0.38603598 0.54926527 0.38271171 0.3654899  1.         0.80168551\n",
      "  0.52654368 0.28332883 0.54133892 0.41694969 0.33757505 0.41806531\n",
      "  0.35702607 0.32174614]\n",
      " [0.43964866 0.56925416 0.46427047 0.39094374 0.80168551 1.\n",
      "  0.47424489 0.23041582 0.43654659 0.36990902 0.33376542 0.40854347\n",
      "  0.37884989 0.29960123]\n",
      " [0.4703832  0.49023321 0.47781622 0.5312596  0.52654368 0.47424489\n",
      "  1.         0.31849378 0.73598289 0.50083864 0.46762565 0.38606399\n",
      "  0.45914039 0.55462503]\n",
      " [0.18229339 0.17442644 0.18111247 0.24728522 0.28332883 0.23041582\n",
      "  0.31849378 1.         0.42931044 0.26212695 0.17233668 0.10068459\n",
      "  0.31348404 0.32083842]\n",
      " [0.34363917 0.43495277 0.31490043 0.49289158 0.54133892 0.43654659\n",
      "  0.73598289 0.42931044 1.         0.6048739  0.46211407 0.47958085\n",
      "  0.51758677 0.53105646]\n",
      " [0.30794644 0.42430505 0.30267307 0.36420202 0.41694969 0.36990902\n",
      "  0.50083864 0.26212695 0.6048739  1.         0.74260616 0.6682229\n",
      "  0.57425457 0.61173999]\n",
      " [0.36724773 0.43393204 0.38690171 0.36524141 0.33757505 0.33376542\n",
      "  0.46762565 0.17233668 0.46211407 0.74260616 1.         0.56426865\n",
      "  0.43085426 0.48677421]\n",
      " [0.36817071 0.4944995  0.38460892 0.37074336 0.41806531 0.40854347\n",
      "  0.38606399 0.10068459 0.47958085 0.6682229  0.56426865 1.\n",
      "  0.45347485 0.44675308]\n",
      " [0.40233487 0.45165887 0.2869868  0.51592857 0.35702607 0.37884989\n",
      "  0.45914039 0.31348404 0.51758677 0.57425457 0.43085426 0.45347485\n",
      "  1.         0.78488237]\n",
      " [0.4151119  0.45570442 0.39061809 0.47155023 0.32174614 0.29960123\n",
      "  0.55462503 0.32083842 0.53105646 0.61173999 0.48677421 0.44675308\n",
      "  0.78488237 1.        ]]\n"
     ]
    }
   ],
   "source": [
    "#Let us create an array of similarities\n",
    "import numpy as np\n",
    "array = np.ones((len(tokens), len(tokens))) #square array filled with 1s\n",
    "for row in range(len(tokens) - 1):\n",
    "    for col in range(row, len(tokens)):\n",
    "        sim = tokens[row].similarity(tokens[col])\n",
    "        array[row][col] = sim\n",
    "        array[col][row] = sim\n",
    "#display array\n",
    "print(array)"
   ]
  },
  {
   "cell_type": "code",
   "execution_count": 87,
   "metadata": {},
   "outputs": [
    {
     "data": {
      "text/html": [
       "<div>\n",
       "<style scoped>\n",
       "    .dataframe tbody tr th:only-of-type {\n",
       "        vertical-align: middle;\n",
       "    }\n",
       "\n",
       "    .dataframe tbody tr th {\n",
       "        vertical-align: top;\n",
       "    }\n",
       "\n",
       "    .dataframe thead th {\n",
       "        text-align: right;\n",
       "    }\n",
       "</style>\n",
       "<table border=\"1\" class=\"dataframe\">\n",
       "  <thead>\n",
       "    <tr style=\"text-align: right;\">\n",
       "      <th></th>\n",
       "      <th>goat</th>\n",
       "      <th>pig</th>\n",
       "      <th>sheep</th>\n",
       "      <th>boar</th>\n",
       "      <th>cat</th>\n",
       "      <th>dog</th>\n",
       "      <th>lion</th>\n",
       "      <th>puma</th>\n",
       "      <th>tiger</th>\n",
       "      <th>shark</th>\n",
       "      <th>whale</th>\n",
       "      <th>fish</th>\n",
       "      <th>alligator</th>\n",
       "      <th>crocodile</th>\n",
       "    </tr>\n",
       "  </thead>\n",
       "  <tbody>\n",
       "    <tr>\n",
       "      <th>goat</th>\n",
       "      <td>1.000000</td>\n",
       "      <td>0.634210</td>\n",
       "      <td>0.718243</td>\n",
       "      <td>0.601647</td>\n",
       "      <td>0.386036</td>\n",
       "      <td>0.439649</td>\n",
       "      <td>0.470383</td>\n",
       "      <td>0.182293</td>\n",
       "      <td>0.343639</td>\n",
       "      <td>0.307946</td>\n",
       "      <td>0.367248</td>\n",
       "      <td>0.368171</td>\n",
       "      <td>0.402335</td>\n",
       "      <td>0.415112</td>\n",
       "    </tr>\n",
       "    <tr>\n",
       "      <th>pig</th>\n",
       "      <td>0.634210</td>\n",
       "      <td>1.000000</td>\n",
       "      <td>0.640021</td>\n",
       "      <td>0.578971</td>\n",
       "      <td>0.549265</td>\n",
       "      <td>0.569254</td>\n",
       "      <td>0.490233</td>\n",
       "      <td>0.174426</td>\n",
       "      <td>0.434953</td>\n",
       "      <td>0.424305</td>\n",
       "      <td>0.433932</td>\n",
       "      <td>0.494500</td>\n",
       "      <td>0.451659</td>\n",
       "      <td>0.455704</td>\n",
       "    </tr>\n",
       "    <tr>\n",
       "      <th>sheep</th>\n",
       "      <td>0.718243</td>\n",
       "      <td>0.640021</td>\n",
       "      <td>1.000000</td>\n",
       "      <td>0.528289</td>\n",
       "      <td>0.382712</td>\n",
       "      <td>0.464270</td>\n",
       "      <td>0.477816</td>\n",
       "      <td>0.181112</td>\n",
       "      <td>0.314900</td>\n",
       "      <td>0.302673</td>\n",
       "      <td>0.386902</td>\n",
       "      <td>0.384609</td>\n",
       "      <td>0.286987</td>\n",
       "      <td>0.390618</td>\n",
       "    </tr>\n",
       "    <tr>\n",
       "      <th>boar</th>\n",
       "      <td>0.601647</td>\n",
       "      <td>0.578971</td>\n",
       "      <td>0.528289</td>\n",
       "      <td>1.000000</td>\n",
       "      <td>0.365490</td>\n",
       "      <td>0.390944</td>\n",
       "      <td>0.531260</td>\n",
       "      <td>0.247285</td>\n",
       "      <td>0.492892</td>\n",
       "      <td>0.364202</td>\n",
       "      <td>0.365241</td>\n",
       "      <td>0.370743</td>\n",
       "      <td>0.515929</td>\n",
       "      <td>0.471550</td>\n",
       "    </tr>\n",
       "    <tr>\n",
       "      <th>cat</th>\n",
       "      <td>0.386036</td>\n",
       "      <td>0.549265</td>\n",
       "      <td>0.382712</td>\n",
       "      <td>0.365490</td>\n",
       "      <td>1.000000</td>\n",
       "      <td>0.801686</td>\n",
       "      <td>0.526544</td>\n",
       "      <td>0.283329</td>\n",
       "      <td>0.541339</td>\n",
       "      <td>0.416950</td>\n",
       "      <td>0.337575</td>\n",
       "      <td>0.418065</td>\n",
       "      <td>0.357026</td>\n",
       "      <td>0.321746</td>\n",
       "    </tr>\n",
       "    <tr>\n",
       "      <th>dog</th>\n",
       "      <td>0.439649</td>\n",
       "      <td>0.569254</td>\n",
       "      <td>0.464270</td>\n",
       "      <td>0.390944</td>\n",
       "      <td>0.801686</td>\n",
       "      <td>1.000000</td>\n",
       "      <td>0.474245</td>\n",
       "      <td>0.230416</td>\n",
       "      <td>0.436547</td>\n",
       "      <td>0.369909</td>\n",
       "      <td>0.333765</td>\n",
       "      <td>0.408543</td>\n",
       "      <td>0.378850</td>\n",
       "      <td>0.299601</td>\n",
       "    </tr>\n",
       "    <tr>\n",
       "      <th>lion</th>\n",
       "      <td>0.470383</td>\n",
       "      <td>0.490233</td>\n",
       "      <td>0.477816</td>\n",
       "      <td>0.531260</td>\n",
       "      <td>0.526544</td>\n",
       "      <td>0.474245</td>\n",
       "      <td>1.000000</td>\n",
       "      <td>0.318494</td>\n",
       "      <td>0.735983</td>\n",
       "      <td>0.500839</td>\n",
       "      <td>0.467626</td>\n",
       "      <td>0.386064</td>\n",
       "      <td>0.459140</td>\n",
       "      <td>0.554625</td>\n",
       "    </tr>\n",
       "    <tr>\n",
       "      <th>puma</th>\n",
       "      <td>0.182293</td>\n",
       "      <td>0.174426</td>\n",
       "      <td>0.181112</td>\n",
       "      <td>0.247285</td>\n",
       "      <td>0.283329</td>\n",
       "      <td>0.230416</td>\n",
       "      <td>0.318494</td>\n",
       "      <td>1.000000</td>\n",
       "      <td>0.429310</td>\n",
       "      <td>0.262127</td>\n",
       "      <td>0.172337</td>\n",
       "      <td>0.100685</td>\n",
       "      <td>0.313484</td>\n",
       "      <td>0.320838</td>\n",
       "    </tr>\n",
       "    <tr>\n",
       "      <th>tiger</th>\n",
       "      <td>0.343639</td>\n",
       "      <td>0.434953</td>\n",
       "      <td>0.314900</td>\n",
       "      <td>0.492892</td>\n",
       "      <td>0.541339</td>\n",
       "      <td>0.436547</td>\n",
       "      <td>0.735983</td>\n",
       "      <td>0.429310</td>\n",
       "      <td>1.000000</td>\n",
       "      <td>0.604874</td>\n",
       "      <td>0.462114</td>\n",
       "      <td>0.479581</td>\n",
       "      <td>0.517587</td>\n",
       "      <td>0.531056</td>\n",
       "    </tr>\n",
       "    <tr>\n",
       "      <th>shark</th>\n",
       "      <td>0.307946</td>\n",
       "      <td>0.424305</td>\n",
       "      <td>0.302673</td>\n",
       "      <td>0.364202</td>\n",
       "      <td>0.416950</td>\n",
       "      <td>0.369909</td>\n",
       "      <td>0.500839</td>\n",
       "      <td>0.262127</td>\n",
       "      <td>0.604874</td>\n",
       "      <td>1.000000</td>\n",
       "      <td>0.742606</td>\n",
       "      <td>0.668223</td>\n",
       "      <td>0.574255</td>\n",
       "      <td>0.611740</td>\n",
       "    </tr>\n",
       "    <tr>\n",
       "      <th>whale</th>\n",
       "      <td>0.367248</td>\n",
       "      <td>0.433932</td>\n",
       "      <td>0.386902</td>\n",
       "      <td>0.365241</td>\n",
       "      <td>0.337575</td>\n",
       "      <td>0.333765</td>\n",
       "      <td>0.467626</td>\n",
       "      <td>0.172337</td>\n",
       "      <td>0.462114</td>\n",
       "      <td>0.742606</td>\n",
       "      <td>1.000000</td>\n",
       "      <td>0.564269</td>\n",
       "      <td>0.430854</td>\n",
       "      <td>0.486774</td>\n",
       "    </tr>\n",
       "    <tr>\n",
       "      <th>fish</th>\n",
       "      <td>0.368171</td>\n",
       "      <td>0.494500</td>\n",
       "      <td>0.384609</td>\n",
       "      <td>0.370743</td>\n",
       "      <td>0.418065</td>\n",
       "      <td>0.408543</td>\n",
       "      <td>0.386064</td>\n",
       "      <td>0.100685</td>\n",
       "      <td>0.479581</td>\n",
       "      <td>0.668223</td>\n",
       "      <td>0.564269</td>\n",
       "      <td>1.000000</td>\n",
       "      <td>0.453475</td>\n",
       "      <td>0.446753</td>\n",
       "    </tr>\n",
       "    <tr>\n",
       "      <th>alligator</th>\n",
       "      <td>0.402335</td>\n",
       "      <td>0.451659</td>\n",
       "      <td>0.286987</td>\n",
       "      <td>0.515929</td>\n",
       "      <td>0.357026</td>\n",
       "      <td>0.378850</td>\n",
       "      <td>0.459140</td>\n",
       "      <td>0.313484</td>\n",
       "      <td>0.517587</td>\n",
       "      <td>0.574255</td>\n",
       "      <td>0.430854</td>\n",
       "      <td>0.453475</td>\n",
       "      <td>1.000000</td>\n",
       "      <td>0.784882</td>\n",
       "    </tr>\n",
       "    <tr>\n",
       "      <th>crocodile</th>\n",
       "      <td>0.415112</td>\n",
       "      <td>0.455704</td>\n",
       "      <td>0.390618</td>\n",
       "      <td>0.471550</td>\n",
       "      <td>0.321746</td>\n",
       "      <td>0.299601</td>\n",
       "      <td>0.554625</td>\n",
       "      <td>0.320838</td>\n",
       "      <td>0.531056</td>\n",
       "      <td>0.611740</td>\n",
       "      <td>0.486774</td>\n",
       "      <td>0.446753</td>\n",
       "      <td>0.784882</td>\n",
       "      <td>1.000000</td>\n",
       "    </tr>\n",
       "  </tbody>\n",
       "</table>\n",
       "</div>"
      ],
      "text/plain": [
       "               goat       pig     sheep      boar       cat       dog  \\\n",
       "goat       1.000000  0.634210  0.718243  0.601647  0.386036  0.439649   \n",
       "pig        0.634210  1.000000  0.640021  0.578971  0.549265  0.569254   \n",
       "sheep      0.718243  0.640021  1.000000  0.528289  0.382712  0.464270   \n",
       "boar       0.601647  0.578971  0.528289  1.000000  0.365490  0.390944   \n",
       "cat        0.386036  0.549265  0.382712  0.365490  1.000000  0.801686   \n",
       "dog        0.439649  0.569254  0.464270  0.390944  0.801686  1.000000   \n",
       "lion       0.470383  0.490233  0.477816  0.531260  0.526544  0.474245   \n",
       "puma       0.182293  0.174426  0.181112  0.247285  0.283329  0.230416   \n",
       "tiger      0.343639  0.434953  0.314900  0.492892  0.541339  0.436547   \n",
       "shark      0.307946  0.424305  0.302673  0.364202  0.416950  0.369909   \n",
       "whale      0.367248  0.433932  0.386902  0.365241  0.337575  0.333765   \n",
       "fish       0.368171  0.494500  0.384609  0.370743  0.418065  0.408543   \n",
       "alligator  0.402335  0.451659  0.286987  0.515929  0.357026  0.378850   \n",
       "crocodile  0.415112  0.455704  0.390618  0.471550  0.321746  0.299601   \n",
       "\n",
       "               lion      puma     tiger     shark     whale      fish  \\\n",
       "goat       0.470383  0.182293  0.343639  0.307946  0.367248  0.368171   \n",
       "pig        0.490233  0.174426  0.434953  0.424305  0.433932  0.494500   \n",
       "sheep      0.477816  0.181112  0.314900  0.302673  0.386902  0.384609   \n",
       "boar       0.531260  0.247285  0.492892  0.364202  0.365241  0.370743   \n",
       "cat        0.526544  0.283329  0.541339  0.416950  0.337575  0.418065   \n",
       "dog        0.474245  0.230416  0.436547  0.369909  0.333765  0.408543   \n",
       "lion       1.000000  0.318494  0.735983  0.500839  0.467626  0.386064   \n",
       "puma       0.318494  1.000000  0.429310  0.262127  0.172337  0.100685   \n",
       "tiger      0.735983  0.429310  1.000000  0.604874  0.462114  0.479581   \n",
       "shark      0.500839  0.262127  0.604874  1.000000  0.742606  0.668223   \n",
       "whale      0.467626  0.172337  0.462114  0.742606  1.000000  0.564269   \n",
       "fish       0.386064  0.100685  0.479581  0.668223  0.564269  1.000000   \n",
       "alligator  0.459140  0.313484  0.517587  0.574255  0.430854  0.453475   \n",
       "crocodile  0.554625  0.320838  0.531056  0.611740  0.486774  0.446753   \n",
       "\n",
       "           alligator  crocodile  \n",
       "goat        0.402335   0.415112  \n",
       "pig         0.451659   0.455704  \n",
       "sheep       0.286987   0.390618  \n",
       "boar        0.515929   0.471550  \n",
       "cat         0.357026   0.321746  \n",
       "dog         0.378850   0.299601  \n",
       "lion        0.459140   0.554625  \n",
       "puma        0.313484   0.320838  \n",
       "tiger       0.517587   0.531056  \n",
       "shark       0.574255   0.611740  \n",
       "whale       0.430854   0.486774  \n",
       "fish        0.453475   0.446753  \n",
       "alligator   1.000000   0.784882  \n",
       "crocodile   0.784882   1.000000  "
      ]
     },
     "execution_count": 87,
     "metadata": {},
     "output_type": "execute_result"
    }
   ],
   "source": [
    "#Let us put the array into a dataframe\n",
    "import pandas as pd\n",
    "columns = [token.text for token in tokens]\n",
    "df = pd.DataFrame(array, columns = columns, index = columns)\n",
    "df"
   ]
  },
  {
   "cell_type": "code",
   "execution_count": 88,
   "metadata": {},
   "outputs": [
    {
     "data": {
      "text/plain": [
       "<seaborn.matrix.ClusterGrid at 0x1e148e710>"
      ]
     },
     "execution_count": 88,
     "metadata": {},
     "output_type": "execute_result"
    },
    {
     "data": {
      "image/png": "[encoded data removed]",
      "text/plain": [
       "<Figure size 720x720 with 4 Axes>"
      ]
     },
     "metadata": {},
     "output_type": "display_data"
    }
   ],
   "source": [
    "#let us use the dataframe to create a clustermap using seaborn\n",
    "import seaborn as sns\n",
    "sns.clustermap(df)"
   ]
  },
  {
   "cell_type": "markdown",
   "metadata": {},
   "source": [
    "Do the clusters look reasonable? Puma should have clustered with lion and tiger, perhaps. The upper half seems to represent wild animals. The position of boar may also be questioned. Some of the pairings make sense - lion & tiger, alligator & crocodile, cat & dog, goat & sheep, and shark and whale.\n",
    "\n",
    "We can try to access state-of-the-art architectures like BERT (Bidirectional Encoder Representations from Transformers) to see if our results improve. BERT came out of Google and is now widely used in Natural Language Processing (NLP). We can access BERT in spacy by using spacy-transformers. Specifically, we will use \"en_trf_bertbaseuncased_lg\"."
   ]
  },
  {
   "cell_type": "code",
   "execution_count": 89,
   "metadata": {},
   "outputs": [],
   "source": [
    "nlp = spacy.load(\"en_trf_bertbaseuncased_lg\")"
   ]
  },
  {
   "cell_type": "code",
   "execution_count": 90,
   "metadata": {},
   "outputs": [],
   "source": [
    "doc = \"goat pig sheep boar cat dog lion puma tiger shark whale fish alligator crocodile\"\n",
    "tokens = nlp(doc)"
   ]
  },
  {
   "cell_type": "code",
   "execution_count": 91,
   "metadata": {},
   "outputs": [
    {
     "data": {
      "text/plain": [
       "768"
      ]
     },
     "execution_count": 91,
     "metadata": {},
     "output_type": "execute_result"
    }
   ],
   "source": [
    "#How large is the vector?\n",
    "len(tokens[0].vector)"
   ]
  },
  {
   "cell_type": "code",
   "execution_count": 92,
   "metadata": {},
   "outputs": [
    {
     "name": "stdout",
     "output_type": "stream",
     "text": [
      "[[1.         0.83857888 0.81985289 0.78001136 0.78829926 0.75828779\n",
      "  0.73498797 0.46429589 0.72311491 0.67728621 0.7114802  0.66742486\n",
      "  0.69987607 0.69189185]\n",
      " [0.83857888 1.         0.8538872  0.86787921 0.83626682 0.84753215\n",
      "  0.79638976 0.49886584 0.757743   0.72158992 0.76204717 0.71980387\n",
      "  0.72346026 0.71397555]\n",
      " [0.81985289 0.8538872  1.         0.82495815 0.85086209 0.85316205\n",
      "  0.82612401 0.54573178 0.78461361 0.73255348 0.77305031 0.75325793\n",
      "  0.71552306 0.71294439]\n",
      " [0.78001136 0.86787921 0.82495815 1.00000012 0.81200874 0.84152162\n",
      "  0.85183477 0.49065033 0.78820682 0.77347797 0.7818591  0.74861079\n",
      "  0.77833414 0.77733231]\n",
      " [0.78829926 0.83626682 0.85086209 0.81200874 1.00000012 0.88157803\n",
      "  0.8251797  0.54156214 0.85344082 0.76345527 0.7844764  0.73372293\n",
      "  0.73709607 0.70906872]\n",
      " [0.75828779 0.84753215 0.85316205 0.84152162 0.88157803 1.\n",
      "  0.91110182 0.54403365 0.85072613 0.8135801  0.80324632 0.80314487\n",
      "  0.74036467 0.75454742]\n",
      " [0.73498797 0.79638976 0.82612401 0.85183477 0.8251797  0.91110182\n",
      "  0.99999988 0.58288598 0.88750571 0.82287097 0.79971915 0.80260408\n",
      "  0.74977326 0.76879567]\n",
      " [0.46429589 0.49886584 0.54573178 0.49065033 0.54156214 0.54403365\n",
      "  0.58288598 1.00000012 0.56476331 0.47925335 0.50568938 0.46231604\n",
      "  0.44897565 0.44045228]\n",
      " [0.72311491 0.757743   0.78461361 0.78820682 0.85344082 0.85072613\n",
      "  0.88750571 0.56476331 1.00000012 0.85986954 0.85670722 0.79783928\n",
      "  0.81360632 0.78996092]\n",
      " [0.67728621 0.72158992 0.73255348 0.77347797 0.76345527 0.8135801\n",
      "  0.82287097 0.47925335 0.85986954 0.99999994 0.88044345 0.88662606\n",
      "  0.8294332  0.82675022]\n",
      " [0.7114802  0.76204717 0.77305031 0.7818591  0.7844764  0.80324632\n",
      "  0.79971915 0.50568938 0.85670722 0.88044345 0.99999994 0.82643217\n",
      "  0.82013595 0.808061  ]\n",
      " [0.66742486 0.71980387 0.75325793 0.74861079 0.73372293 0.80314487\n",
      "  0.80260408 0.46231604 0.79783928 0.88662606 0.82643217 1.\n",
      "  0.76797074 0.79163617]\n",
      " [0.69987607 0.72346026 0.71552306 0.77833414 0.73709607 0.74036467\n",
      "  0.74977326 0.44897565 0.81360632 0.8294332  0.82013595 0.76797074\n",
      "  1.00000012 0.87437379]\n",
      " [0.69189185 0.71397555 0.71294439 0.77733231 0.70906872 0.75454742\n",
      "  0.76879567 0.44045228 0.78996092 0.82675022 0.808061   0.79163617\n",
      "  0.87437379 1.        ]]\n"
     ]
    }
   ],
   "source": [
    "#Let us create an array of similarities\n",
    "import numpy as np\n",
    "array = np.ones((len(tokens), len(tokens))) #square array filled with 1s\n",
    "for row in range(len(tokens) - 1):\n",
    "    for col in range(row, len(tokens)):\n",
    "        sim = tokens[row].similarity(tokens[col])\n",
    "        array[row][col] = sim\n",
    "        array[col][row] = sim\n",
    "#display array\n",
    "print(array)"
   ]
  },
  {
   "cell_type": "code",
   "execution_count": 93,
   "metadata": {},
   "outputs": [
    {
     "data": {
      "text/html": [
       "<div>\n",
       "<style scoped>\n",
       "    .dataframe tbody tr th:only-of-type {\n",
       "        vertical-align: middle;\n",
       "    }\n",
       "\n",
       "    .dataframe tbody tr th {\n",
       "        vertical-align: top;\n",
       "    }\n",
       "\n",
       "    .dataframe thead th {\n",
       "        text-align: right;\n",
       "    }\n",
       "</style>\n",
       "<table border=\"1\" class=\"dataframe\">\n",
       "  <thead>\n",
       "    <tr style=\"text-align: right;\">\n",
       "      <th></th>\n",
       "      <th>goat</th>\n",
       "      <th>pig</th>\n",
       "      <th>sheep</th>\n",
       "      <th>boar</th>\n",
       "      <th>cat</th>\n",
       "      <th>dog</th>\n",
       "      <th>lion</th>\n",
       "      <th>puma</th>\n",
       "      <th>tiger</th>\n",
       "      <th>shark</th>\n",
       "      <th>whale</th>\n",
       "      <th>fish</th>\n",
       "      <th>alligator</th>\n",
       "      <th>crocodile</th>\n",
       "    </tr>\n",
       "  </thead>\n",
       "  <tbody>\n",
       "    <tr>\n",
       "      <th>goat</th>\n",
       "      <td>1.000000</td>\n",
       "      <td>0.838579</td>\n",
       "      <td>0.819853</td>\n",
       "      <td>0.780011</td>\n",
       "      <td>0.788299</td>\n",
       "      <td>0.758288</td>\n",
       "      <td>0.734988</td>\n",
       "      <td>0.464296</td>\n",
       "      <td>0.723115</td>\n",
       "      <td>0.677286</td>\n",
       "      <td>0.711480</td>\n",
       "      <td>0.667425</td>\n",
       "      <td>0.699876</td>\n",
       "      <td>0.691892</td>\n",
       "    </tr>\n",
       "    <tr>\n",
       "      <th>pig</th>\n",
       "      <td>0.838579</td>\n",
       "      <td>1.000000</td>\n",
       "      <td>0.853887</td>\n",
       "      <td>0.867879</td>\n",
       "      <td>0.836267</td>\n",
       "      <td>0.847532</td>\n",
       "      <td>0.796390</td>\n",
       "      <td>0.498866</td>\n",
       "      <td>0.757743</td>\n",
       "      <td>0.721590</td>\n",
       "      <td>0.762047</td>\n",
       "      <td>0.719804</td>\n",
       "      <td>0.723460</td>\n",
       "      <td>0.713976</td>\n",
       "    </tr>\n",
       "    <tr>\n",
       "      <th>sheep</th>\n",
       "      <td>0.819853</td>\n",
       "      <td>0.853887</td>\n",
       "      <td>1.000000</td>\n",
       "      <td>0.824958</td>\n",
       "      <td>0.850862</td>\n",
       "      <td>0.853162</td>\n",
       "      <td>0.826124</td>\n",
       "      <td>0.545732</td>\n",
       "      <td>0.784614</td>\n",
       "      <td>0.732553</td>\n",
       "      <td>0.773050</td>\n",
       "      <td>0.753258</td>\n",
       "      <td>0.715523</td>\n",
       "      <td>0.712944</td>\n",
       "    </tr>\n",
       "    <tr>\n",
       "      <th>boar</th>\n",
       "      <td>0.780011</td>\n",
       "      <td>0.867879</td>\n",
       "      <td>0.824958</td>\n",
       "      <td>1.000000</td>\n",
       "      <td>0.812009</td>\n",
       "      <td>0.841522</td>\n",
       "      <td>0.851835</td>\n",
       "      <td>0.490650</td>\n",
       "      <td>0.788207</td>\n",
       "      <td>0.773478</td>\n",
       "      <td>0.781859</td>\n",
       "      <td>0.748611</td>\n",
       "      <td>0.778334</td>\n",
       "      <td>0.777332</td>\n",
       "    </tr>\n",
       "    <tr>\n",
       "      <th>cat</th>\n",
       "      <td>0.788299</td>\n",
       "      <td>0.836267</td>\n",
       "      <td>0.850862</td>\n",
       "      <td>0.812009</td>\n",
       "      <td>1.000000</td>\n",
       "      <td>0.881578</td>\n",
       "      <td>0.825180</td>\n",
       "      <td>0.541562</td>\n",
       "      <td>0.853441</td>\n",
       "      <td>0.763455</td>\n",
       "      <td>0.784476</td>\n",
       "      <td>0.733723</td>\n",
       "      <td>0.737096</td>\n",
       "      <td>0.709069</td>\n",
       "    </tr>\n",
       "    <tr>\n",
       "      <th>dog</th>\n",
       "      <td>0.758288</td>\n",
       "      <td>0.847532</td>\n",
       "      <td>0.853162</td>\n",
       "      <td>0.841522</td>\n",
       "      <td>0.881578</td>\n",
       "      <td>1.000000</td>\n",
       "      <td>0.911102</td>\n",
       "      <td>0.544034</td>\n",
       "      <td>0.850726</td>\n",
       "      <td>0.813580</td>\n",
       "      <td>0.803246</td>\n",
       "      <td>0.803145</td>\n",
       "      <td>0.740365</td>\n",
       "      <td>0.754547</td>\n",
       "    </tr>\n",
       "    <tr>\n",
       "      <th>lion</th>\n",
       "      <td>0.734988</td>\n",
       "      <td>0.796390</td>\n",
       "      <td>0.826124</td>\n",
       "      <td>0.851835</td>\n",
       "      <td>0.825180</td>\n",
       "      <td>0.911102</td>\n",
       "      <td>1.000000</td>\n",
       "      <td>0.582886</td>\n",
       "      <td>0.887506</td>\n",
       "      <td>0.822871</td>\n",
       "      <td>0.799719</td>\n",
       "      <td>0.802604</td>\n",
       "      <td>0.749773</td>\n",
       "      <td>0.768796</td>\n",
       "    </tr>\n",
       "    <tr>\n",
       "      <th>puma</th>\n",
       "      <td>0.464296</td>\n",
       "      <td>0.498866</td>\n",
       "      <td>0.545732</td>\n",
       "      <td>0.490650</td>\n",
       "      <td>0.541562</td>\n",
       "      <td>0.544034</td>\n",
       "      <td>0.582886</td>\n",
       "      <td>1.000000</td>\n",
       "      <td>0.564763</td>\n",
       "      <td>0.479253</td>\n",
       "      <td>0.505689</td>\n",
       "      <td>0.462316</td>\n",
       "      <td>0.448976</td>\n",
       "      <td>0.440452</td>\n",
       "    </tr>\n",
       "    <tr>\n",
       "      <th>tiger</th>\n",
       "      <td>0.723115</td>\n",
       "      <td>0.757743</td>\n",
       "      <td>0.784614</td>\n",
       "      <td>0.788207</td>\n",
       "      <td>0.853441</td>\n",
       "      <td>0.850726</td>\n",
       "      <td>0.887506</td>\n",
       "      <td>0.564763</td>\n",
       "      <td>1.000000</td>\n",
       "      <td>0.859870</td>\n",
       "      <td>0.856707</td>\n",
       "      <td>0.797839</td>\n",
       "      <td>0.813606</td>\n",
       "      <td>0.789961</td>\n",
       "    </tr>\n",
       "    <tr>\n",
       "      <th>shark</th>\n",
       "      <td>0.677286</td>\n",
       "      <td>0.721590</td>\n",
       "      <td>0.732553</td>\n",
       "      <td>0.773478</td>\n",
       "      <td>0.763455</td>\n",
       "      <td>0.813580</td>\n",
       "      <td>0.822871</td>\n",
       "      <td>0.479253</td>\n",
       "      <td>0.859870</td>\n",
       "      <td>1.000000</td>\n",
       "      <td>0.880443</td>\n",
       "      <td>0.886626</td>\n",
       "      <td>0.829433</td>\n",
       "      <td>0.826750</td>\n",
       "    </tr>\n",
       "    <tr>\n",
       "      <th>whale</th>\n",
       "      <td>0.711480</td>\n",
       "      <td>0.762047</td>\n",
       "      <td>0.773050</td>\n",
       "      <td>0.781859</td>\n",
       "      <td>0.784476</td>\n",
       "      <td>0.803246</td>\n",
       "      <td>0.799719</td>\n",
       "      <td>0.505689</td>\n",
       "      <td>0.856707</td>\n",
       "      <td>0.880443</td>\n",
       "      <td>1.000000</td>\n",
       "      <td>0.826432</td>\n",
       "      <td>0.820136</td>\n",
       "      <td>0.808061</td>\n",
       "    </tr>\n",
       "    <tr>\n",
       "      <th>fish</th>\n",
       "      <td>0.667425</td>\n",
       "      <td>0.719804</td>\n",
       "      <td>0.753258</td>\n",
       "      <td>0.748611</td>\n",
       "      <td>0.733723</td>\n",
       "      <td>0.803145</td>\n",
       "      <td>0.802604</td>\n",
       "      <td>0.462316</td>\n",
       "      <td>0.797839</td>\n",
       "      <td>0.886626</td>\n",
       "      <td>0.826432</td>\n",
       "      <td>1.000000</td>\n",
       "      <td>0.767971</td>\n",
       "      <td>0.791636</td>\n",
       "    </tr>\n",
       "    <tr>\n",
       "      <th>alligator</th>\n",
       "      <td>0.699876</td>\n",
       "      <td>0.723460</td>\n",
       "      <td>0.715523</td>\n",
       "      <td>0.778334</td>\n",
       "      <td>0.737096</td>\n",
       "      <td>0.740365</td>\n",
       "      <td>0.749773</td>\n",
       "      <td>0.448976</td>\n",
       "      <td>0.813606</td>\n",
       "      <td>0.829433</td>\n",
       "      <td>0.820136</td>\n",
       "      <td>0.767971</td>\n",
       "      <td>1.000000</td>\n",
       "      <td>0.874374</td>\n",
       "    </tr>\n",
       "    <tr>\n",
       "      <th>crocodile</th>\n",
       "      <td>0.691892</td>\n",
       "      <td>0.713976</td>\n",
       "      <td>0.712944</td>\n",
       "      <td>0.777332</td>\n",
       "      <td>0.709069</td>\n",
       "      <td>0.754547</td>\n",
       "      <td>0.768796</td>\n",
       "      <td>0.440452</td>\n",
       "      <td>0.789961</td>\n",
       "      <td>0.826750</td>\n",
       "      <td>0.808061</td>\n",
       "      <td>0.791636</td>\n",
       "      <td>0.874374</td>\n",
       "      <td>1.000000</td>\n",
       "    </tr>\n",
       "  </tbody>\n",
       "</table>\n",
       "</div>"
      ],
      "text/plain": [
       "               goat       pig     sheep      boar       cat       dog  \\\n",
       "goat       1.000000  0.838579  0.819853  0.780011  0.788299  0.758288   \n",
       "pig        0.838579  1.000000  0.853887  0.867879  0.836267  0.847532   \n",
       "sheep      0.819853  0.853887  1.000000  0.824958  0.850862  0.853162   \n",
       "boar       0.780011  0.867879  0.824958  1.000000  0.812009  0.841522   \n",
       "cat        0.788299  0.836267  0.850862  0.812009  1.000000  0.881578   \n",
       "dog        0.758288  0.847532  0.853162  0.841522  0.881578  1.000000   \n",
       "lion       0.734988  0.796390  0.826124  0.851835  0.825180  0.911102   \n",
       "puma       0.464296  0.498866  0.545732  0.490650  0.541562  0.544034   \n",
       "tiger      0.723115  0.757743  0.784614  0.788207  0.853441  0.850726   \n",
       "shark      0.677286  0.721590  0.732553  0.773478  0.763455  0.813580   \n",
       "whale      0.711480  0.762047  0.773050  0.781859  0.784476  0.803246   \n",
       "fish       0.667425  0.719804  0.753258  0.748611  0.733723  0.803145   \n",
       "alligator  0.699876  0.723460  0.715523  0.778334  0.737096  0.740365   \n",
       "crocodile  0.691892  0.713976  0.712944  0.777332  0.709069  0.754547   \n",
       "\n",
       "               lion      puma     tiger     shark     whale      fish  \\\n",
       "goat       0.734988  0.464296  0.723115  0.677286  0.711480  0.667425   \n",
       "pig        0.796390  0.498866  0.757743  0.721590  0.762047  0.719804   \n",
       "sheep      0.826124  0.545732  0.784614  0.732553  0.773050  0.753258   \n",
       "boar       0.851835  0.490650  0.788207  0.773478  0.781859  0.748611   \n",
       "cat        0.825180  0.541562  0.853441  0.763455  0.784476  0.733723   \n",
       "dog        0.911102  0.544034  0.850726  0.813580  0.803246  0.803145   \n",
       "lion       1.000000  0.582886  0.887506  0.822871  0.799719  0.802604   \n",
       "puma       0.582886  1.000000  0.564763  0.479253  0.505689  0.462316   \n",
       "tiger      0.887506  0.564763  1.000000  0.859870  0.856707  0.797839   \n",
       "shark      0.822871  0.479253  0.859870  1.000000  0.880443  0.886626   \n",
       "whale      0.799719  0.505689  0.856707  0.880443  1.000000  0.826432   \n",
       "fish       0.802604  0.462316  0.797839  0.886626  0.826432  1.000000   \n",
       "alligator  0.749773  0.448976  0.813606  0.829433  0.820136  0.767971   \n",
       "crocodile  0.768796  0.440452  0.789961  0.826750  0.808061  0.791636   \n",
       "\n",
       "           alligator  crocodile  \n",
       "goat        0.699876   0.691892  \n",
       "pig         0.723460   0.713976  \n",
       "sheep       0.715523   0.712944  \n",
       "boar        0.778334   0.777332  \n",
       "cat         0.737096   0.709069  \n",
       "dog         0.740365   0.754547  \n",
       "lion        0.749773   0.768796  \n",
       "puma        0.448976   0.440452  \n",
       "tiger       0.813606   0.789961  \n",
       "shark       0.829433   0.826750  \n",
       "whale       0.820136   0.808061  \n",
       "fish        0.767971   0.791636  \n",
       "alligator   1.000000   0.874374  \n",
       "crocodile   0.874374   1.000000  "
      ]
     },
     "execution_count": 93,
     "metadata": {},
     "output_type": "execute_result"
    }
   ],
   "source": [
    "#Let us put the array into a dataframe\n",
    "import pandas as pd\n",
    "columns = [token.text for token in tokens]\n",
    "df = pd.DataFrame(array, columns = columns, index = columns)\n",
    "df"
   ]
  },
  {
   "cell_type": "code",
   "execution_count": 94,
   "metadata": {},
   "outputs": [
    {
     "data": {
      "text/plain": [
       "<seaborn.matrix.ClusterGrid at 0x1e158c2b0>"
      ]
     },
     "execution_count": 94,
     "metadata": {},
     "output_type": "execute_result"
    },
    {
     "data": {
      "image/png": "[encoded data removed]",
      "text/plain": [
       "<Figure size 720x720 with 4 Axes>"
      ]
     },
     "metadata": {},
     "output_type": "display_data"
    }
   ],
   "source": [
    "#let us use the dataframe to create a clustermap using seaborn\n",
    "import seaborn as sns\n",
    "sns.clustermap(df)"
   ]
  },
  {
   "cell_type": "markdown",
   "metadata": {},
   "source": [
    "The results, surprisingly, are all over the place (except for a few exceptions). Looks like the 300-dimensional GLoVe embeddings did better. The corpus or corpora used to derive the vectors clearly matters.\n",
    "\n",
    "Now, let us turn our attention to sentiment analysis. We will use nltk and textblob to get sentiments. If you are planning to use sentiments in your research, I would prefer to use APIs from Google, IBM, Microsoft Azure, or Amazon AWS to obtain sentiments. Some of the APIs, like IBMS's Tone Analyzer, provide several emotional tones - anger, joy, sadness, etc. - and not just positive or negative. Anyway, this notebook shows a quick and easy way to get sentiments."
   ]
  },
  {
   "cell_type": "code",
   "execution_count": 96,
   "metadata": {},
   "outputs": [
    {
     "name": "stderr",
     "output_type": "stream",
     "text": [
      "[nltk_data] Downloading package vader_lexicon to\n",
      "[nltk_data]     /Users/snerur/nltk_data...\n",
      "[nltk_data]   Package vader_lexicon is already up-to-date!\n"
     ]
    },
    {
     "data": {
      "text/plain": [
       "True"
      ]
     },
     "execution_count": 96,
     "metadata": {},
     "output_type": "execute_result"
    }
   ],
   "source": [
    "import nltk\n",
    "from nltk.sentiment.vader import SentimentIntensityAnalyzer\n",
    "nltk.download('vader_lexicon')\n"
   ]
  },
  {
   "cell_type": "code",
   "execution_count": 98,
   "metadata": {},
   "outputs": [
    {
     "data": {
      "text/plain": [
       "{'neg': 0.0, 'neu': 0.476, 'pos': 0.524, 'compound': 0.8268}"
      ]
     },
     "execution_count": 98,
     "metadata": {},
     "output_type": "execute_result"
    }
   ],
   "source": [
    "s = \"This is a great class. It is a lot of fun!\"\n",
    "analyzer = SentimentIntensityAnalyzer()\n",
    "analyzer.polarity_scores(s) \n"
   ]
  },
  {
   "cell_type": "markdown",
   "metadata": {},
   "source": [
    "Shows a positive sentiment score of 0.524. Positive, negative, and neutral should add up to 1. In this case, the proportion of negative sentiment is 0. Compound is an overall sentiment that can range from -1 to 1 (negative to positive). A compound score of 0.8268 reflects a very positive sentiment."
   ]
  },
  {
   "cell_type": "code",
   "execution_count": 100,
   "metadata": {},
   "outputs": [
    {
     "data": {
      "text/plain": [
       "{'neg': 0.258, 'neu': 0.621, 'pos': 0.121, 'compound': -0.4939}"
      ]
     },
     "execution_count": 100,
     "metadata": {},
     "output_type": "execute_result"
    }
   ],
   "source": [
    "#another example\n",
    "s = \"The plot of the movie was good but the acting was terrible\"\n",
    "analyzer.polarity_scores(s)"
   ]
  },
  {
   "cell_type": "code",
   "execution_count": 101,
   "metadata": {},
   "outputs": [
    {
     "data": {
      "text/plain": [
       "Sentiment(polarity=0.5875, subjectivity=0.475)"
      ]
     },
     "execution_count": 101,
     "metadata": {},
     "output_type": "execute_result"
    }
   ],
   "source": [
    "#let use textblob and get the sentiments\n",
    "s1 = \"This is a great class. It is a lot of fun!\"\n",
    "txt = TextBlob(s1)\n",
    "txt.sentiment"
   ]
  },
  {
   "cell_type": "code",
   "execution_count": 102,
   "metadata": {},
   "outputs": [
    {
     "data": {
      "text/plain": [
       "Sentiment(polarity=-0.10000000000000002, subjectivity=0.5333333333333333)"
      ]
     },
     "execution_count": 102,
     "metadata": {},
     "output_type": "execute_result"
    }
   ],
   "source": [
    "#another example\n",
    "s = \"The plot of the movie was good but the acting was terrible\"\n",
    "txt = TextBlob(s)\n",
    "txt.sentiment"
   ]
  },
  {
   "cell_type": "markdown",
   "metadata": {},
   "source": [
    "Polarity ranges from -1 to 1 (negative to positive) and subjectivity from 0 to 1. Subjectivity tells you if it is an opinion or a factual statement (objectivity)."
   ]
  },
  {
   "cell_type": "markdown",
   "metadata": {},
   "source": [
    "Measures of readability have been used extensively in the educational psychology literature. For example, readability measures can be used to automatically score students' essays. The ease of readability and sophistication have been associated with performance. Lately, researchers in accounting have been looking at the association between 10-k filings, annual reports, prospectuses, etc. and firm outcomes.\n",
    "\n",
    "The following source was used to come up with the examples shown below.\n",
    "\n",
    "Source: https://pypi.org/project/py-readability-metrics/\n",
    "\n",
    "Installation:\n",
    "\n",
    "pip install py-readability-metrics\n",
    "\n",
    "python -m nltk.downloader punkt"
   ]
  },
  {
   "cell_type": "code",
   "execution_count": 103,
   "metadata": {},
   "outputs": [],
   "source": [
    "from readability import Readability"
   ]
  },
  {
   "cell_type": "code",
   "execution_count": 104,
   "metadata": {},
   "outputs": [
    {
     "name": "stdout",
     "output_type": "stream",
     "text": [
      "Help on class Readability in module readability.readability:\n",
      "\n",
      "class Readability(builtins.object)\n",
      " |  Methods defined here:\n",
      " |  \n",
      " |  __init__(self, text)\n",
      " |      Initialize self.  See help(type(self)) for accurate signature.\n",
      " |  \n",
      " |  ari(self)\n",
      " |      Calculate Automated Readability Index (ARI).\n",
      " |  \n",
      " |  coleman_liau(self)\n",
      " |      Calculate Coleman Liau Index.\n",
      " |  \n",
      " |  dale_chall(self)\n",
      " |      Calculate Dale Chall.\n",
      " |  \n",
      " |  flesch(self)\n",
      " |      Calculate Flesch Reading Ease score.\n",
      " |  \n",
      " |  flesch_kincaid(self)\n",
      " |      Calculate Flesch-Kincaid Grade Level.\n",
      " |  \n",
      " |  gunning_fog(self)\n",
      " |      Calculate Gunning Fog score.\n",
      " |  \n",
      " |  linsear_write(self)\n",
      " |      Calculate Linsear Write.\n",
      " |  \n",
      " |  smog(self, all_sentences=False)\n",
      " |      SMOG Index.\n",
      " |      `all_sentences` indicates whether SMOG should use a sample of 30 sentences, as described in the original paper, or if it should use all sentences in the text\n",
      " |  \n",
      " |  spache(self)\n",
      " |      Spache Index.\n",
      " |  \n",
      " |  statistics(self)\n",
      " |  \n",
      " |  ----------------------------------------------------------------------\n",
      " |  Data descriptors defined here:\n",
      " |  \n",
      " |  __dict__\n",
      " |      dictionary for instance variables (if defined)\n",
      " |  \n",
      " |  __weakref__\n",
      " |      list of weak references to the object (if defined)\n",
      "\n"
     ]
    }
   ],
   "source": [
    "#methods/readability measures available\n",
    "help(Readability)"
   ]
  },
  {
   "cell_type": "markdown",
   "metadata": {},
   "source": [
    "This notebook will not explain the differences among these different measures of readability. You may use the reference provided above to get more information. A few examples are used to show how to compute the measures."
   ]
  },
  {
   "cell_type": "code",
   "execution_count": 105,
   "metadata": {},
   "outputs": [],
   "source": [
    "#Let us analyze the first two paragraphs of The Tale of Two Cities\n",
    "s = \"\"\"It was the best of times, it was the worst of times, it was the\n",
    "age of wisdom, it was the age of foolishness, it was the epoch of belief,\n",
    "it was the epoch of incredulity, it was the season of Light, it was the\n",
    "season of Darkness, it was the spring of hope, it was the winter of\n",
    "despair, we had everything before us, we had nothing before us, we were\n",
    "all going direct to Heaven, we were all going direct the other way--in\n",
    "short, the period was so far like the present period, that some of its\n",
    "noisiest authorities insisted on its being received, for good or for\n",
    "evil, in the superlative degree of comparison only.\n",
    "There were a king with a large jaw and a queen with a plain face, on the\n",
    "throne of England; there were a king with a large jaw and a queen with\n",
    "a fair face, on the throne of France. In both countries it was clearer\n",
    "than crystal to the lords of the State preserves of loaves and fishes,\n",
    "that things in general were settled for ever.\"\"\"\n",
    "\n",
    "r = Readability(s)"
   ]
  },
  {
   "cell_type": "code",
   "execution_count": 106,
   "metadata": {},
   "outputs": [
    {
     "name": "stdout",
     "output_type": "stream",
     "text": [
      "26.61261261261261\n",
      "college_graduate\n"
     ]
    }
   ],
   "source": [
    "#Gunning Fog\n",
    "gf = r.gunning_fog()\n",
    "print(gf.score)\n",
    "print(gf.grade_level)"
   ]
  },
  {
   "cell_type": "code",
   "execution_count": 107,
   "metadata": {},
   "outputs": [
    {
     "name": "stdout",
     "output_type": "stream",
     "text": [
      "33.577387387387404\n",
      "difficult\n",
      "['college']\n"
     ]
    }
   ],
   "source": [
    "#Flesch\n",
    "f = r.flesch()\n",
    "print(f.score)\n",
    "print(f.ease)\n",
    "print(f.grade_levels)"
   ]
  },
  {
   "cell_type": "code",
   "execution_count": 108,
   "metadata": {},
   "outputs": [
    {
     "name": "stdout",
     "output_type": "stream",
     "text": [
      "23.279009009009012\n",
      "23\n"
     ]
    }
   ],
   "source": [
    "#Flesch-Kincaid\n",
    "fk = r.flesch_kincaid()\n",
    "print(fk.score)\n",
    "print(fk.grade_level)"
   ]
  },
  {
   "cell_type": "markdown",
   "metadata": {},
   "source": [
    "This concludes our introduction to text analysis. Hope you had fun."
   ]
  }
 ],
 "metadata": {
  "kernelspec": {
   "display_name": "Python 3",
   "language": "python",
   "name": "python3"
  },
  "language_info": {
   "codemirror_mode": {
    "name": "ipython",
    "version": 3
   },
   "file_extension": ".py",
   "mimetype": "text/x-python",
   "name": "python",
   "nbconvert_exporter": "python",
   "pygments_lexer": "ipython3",
   "version": "3.6.5"
  }
 },
 "nbformat": 4,
 "nbformat_minor": 2
}
