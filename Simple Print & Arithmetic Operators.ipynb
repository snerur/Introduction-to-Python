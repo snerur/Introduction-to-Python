{
 "cells": [
  {
   "cell_type": "markdown",
   "metadata": {},
   "source": [
    "Simple Print & Arithmetic Operations\n",
    "\n",
    "@Authors: Sridhar Nerur, Samuel Jayarajan, Mahyar Vaghefi\n",
    "\n",
    "In this notebook, we will learn how to:\n",
    "    a) Use the print statement\n",
    "    b) Read input from the keyboard\n",
    "    c) Use arithmetic operators\n",
    "Let us start.....\n"
   ]
  },
  {
   "cell_type": "code",
   "execution_count": 1,
   "metadata": {},
   "outputs": [
    {
     "name": "stdout",
     "output_type": "stream",
     "text": [
      "Hello World!\n"
     ]
    }
   ],
   "source": [
    "#The obligatory \"Hello World!\" statement --- very simple in Python\n",
    "print(\"Hello World!\")"
   ]
  },
  {
   "cell_type": "markdown",
   "metadata": {},
   "source": [
    "Note: The print function expects a string. Remember that string is enclosed in either single or double quotes."
   ]
  },
  {
   "cell_type": "code",
   "execution_count": 2,
   "metadata": {},
   "outputs": [
    {
     "name": "stdout",
     "output_type": "stream",
     "text": [
      "Hello World!\n"
     ]
    }
   ],
   "source": [
    "#You could also use single quotes\n",
    "print('Hello World!')"
   ]
  },
  {
   "cell_type": "code",
   "execution_count": 4,
   "metadata": {},
   "outputs": [
    {
     "name": "stdout",
     "output_type": "stream",
     "text": [
      "\"Hello World!\"\n",
      "'Hello World!'\n"
     ]
    }
   ],
   "source": [
    "#What if we wanted to display \"Hello World!\" or 'Hello World!', i.e., in quotes\n",
    "print('\"Hello World!\"') \n",
    "print(\"'Hello World!'\") #Hello World! will be in single quotes"
   ]
  },
  {
   "cell_type": "code",
   "execution_count": 5,
   "metadata": {},
   "outputs": [
    {
     "name": "stdout",
     "output_type": "stream",
     "text": [
      "\"Hello World!\"\n"
     ]
    }
   ],
   "source": [
    "#The \\ (backslash) is an escape character. When used in front of a \n",
    "#special character such as \", it will treat the quote as is. So, we\n",
    "#could use \\\" to enclose Hello World! in quotes as shown below\n",
    "print(\"\\\"Hello World!\\\"\")"
   ]
  },
  {
   "cell_type": "markdown",
   "metadata": {},
   "source": [
    "The backslash can be used to define escape sequences that have special\n",
    "meaning. Here are some examples:\n",
    "\\n  ---> will insert a newline character\n",
    "\\t  ---> will insert a tab\n",
    "\\b  ---> moves the cursor to the left by one character\n",
    "\\\\  ---> treats a \\ as is\n",
    "\\r  ---> moves the cursor to the beginning of the line"
   ]
  },
  {
   "cell_type": "code",
   "execution_count": 8,
   "metadata": {},
   "outputs": [
    {
     "name": "stdout",
     "output_type": "stream",
     "text": [
      "\n",
      "This shows what \\n does\n",
      "\n",
      "The cursor should \r",
      " come back to the beginning of the line\n",
      "A \t will be replaced by a tab\n"
     ]
    }
   ],
   "source": [
    "print(\"\\nThis shows what \\\\n does\\n\") #inserts a line before and after the string\n",
    "#Guess what the following line does?\n",
    "print(\"The cursor should \\r come back to the beginning of the line\")\n",
    "print(\"A \\t will be replaced by a tab\")"
   ]
  },
  {
   "cell_type": "markdown",
   "metadata": {},
   "source": [
    "Note: In the print statement above, \\r moved the cursor to the beginning of the line and, therefore, all the characters up to and including \"\\r\" were overwritten.\n",
    "You can find out more about the print function by typing: print?"
   ]
  },
  {
   "cell_type": "code",
   "execution_count": 46,
   "metadata": {},
   "outputs": [],
   "source": [
    "#Want to know more about the print?\n",
    "print? #try it out. It should display the details of print on a separate page"
   ]
  },
  {
   "cell_type": "code",
   "execution_count": 47,
   "metadata": {},
   "outputs": [
    {
     "name": "stdout",
     "output_type": "stream",
     "text": [
      "Help on built-in function print in module builtins:\n",
      "\n",
      "print(...)\n",
      "    print(value, ..., sep=' ', end='\\n', file=sys.stdout, flush=False)\n",
      "    \n",
      "    Prints the values to a stream, or to sys.stdout by default.\n",
      "    Optional keyword arguments:\n",
      "    file:  a file-like object (stream); defaults to the current sys.stdout.\n",
      "    sep:   string inserted between values, default a space.\n",
      "    end:   string appended after the last value, default a newline.\n",
      "    flush: whether to forcibly flush the stream.\n",
      "\n"
     ]
    }
   ],
   "source": [
    "#Of course, you may also try this....\n",
    "help(print)"
   ]
  },
  {
   "cell_type": "markdown",
   "metadata": {},
   "source": [
    "Let us look at Arithmetic Operators. The following are the operators frequently used in Python:\n",
    "    +  --> addition (e.g., 5 + 6 --> yields 11)\n",
    "    -  --> subtraction (e.g., 5 - 2 --> yields 3)\n",
    "    *  --> multiplication (e.g., 4 * 3 --> 12)\n",
    "    /  --> division (e.g., 3 / 2 --> 1.5, 8 / 2 --> 4.0)\n",
    "    // --> integer division (e.g., 3 // 2 --> 1, 8 // 2 --> 4, 13 // 4 -->3)\n",
    "    %  --> modulus gives the remainder of a division operation \n",
    "           (e.g., 15 % 4 --> 3)\n",
    "    ** --> to the power of (e.g., 5 ** 3 --> 5 * 5 * 5 --> 125)\n",
    "Order of precedence: Multiplication, Division, and Modulus have higher priority than addition and subtraction. When multiplication, division, and modulus appear in the same expression (e.g., 5 / 8 * 15 % 4), the expression will be evaluated from left to right. If you wish to have something evaluated first, put it in parenthesis. Examples are shown below."
   ]
  },
  {
   "cell_type": "code",
   "execution_count": 38,
   "metadata": {},
   "outputs": [
    {
     "name": "stdout",
     "output_type": "stream",
     "text": [
      "5 + 3 =  8\n",
      "5 - 3 =  2\n",
      "5 * 3 =  15\n",
      "5 / 3 =  1.6666666666666667\n",
      "5 // 3 =  1\n",
      "5 % 3 =  2\n",
      "5 ** 3 =  125\n"
     ]
    }
   ],
   "source": [
    "print(\"5 + 3 = \", 5 + 3)\n",
    "print(\"5 - 3 = \", 5 - 3)\n",
    "print(\"5 * 3 = \", 5 * 3)\n",
    "print(\"5 / 3 = \", 5 / 3)\n",
    "print(\"5 // 3 = \", 5 // 3)\n",
    "print(\"5 % 3 = \", 5 % 3)\n",
    "print(\"5 ** 3 = \", 5 ** 3)"
   ]
  },
  {
   "cell_type": "markdown",
   "metadata": {},
   "source": [
    "Note: In the example above, each statement involves the print function. The print function in each case is given two arguments - the first is a string and the second is the result of an arithmetic operation. The comma is used to separate the two. The comma just inserts a space.\n",
    "The example shown above can also be written as follows."
   ]
  },
  {
   "cell_type": "code",
   "execution_count": 20,
   "metadata": {},
   "outputs": [
    {
     "name": "stdout",
     "output_type": "stream",
     "text": [
      "5 + 3 = 8\n",
      "5 - 3 = 2\n",
      "5 * 3 = 15\n",
      "5 / 3 = 1.67\n",
      "5 // 3 = 1\n",
      "5 % 3 = 2\n"
     ]
    }
   ],
   "source": [
    "print(\"5 + 3 = %d\" % (5 + 3))\n",
    "print(\"5 - 3 = %d\" % (5 - 3))\n",
    "print(\"5 * 3 = %d\" % (5 * 3))\n",
    "print(\"5 / 3 = %.2f\" % (5 / 3))\n",
    "print(\"5 // 3 = %d\" % (5 // 3))\n",
    "print(\"5 %% 3 = %d\" % (5 % 3)) #Notice that %% in a string displays %"
   ]
  },
  {
   "cell_type": "markdown",
   "metadata": {},
   "source": [
    "Notes:\n",
    "%d in a string given to print is a placeholder for an integer. Likewise, %f is used when the expected number is a floating point number. What does %.2f mean? Well, as you can see from the output, .2f rounds the number to two decimal places. "
   ]
  },
  {
   "cell_type": "code",
   "execution_count": 28,
   "metadata": {},
   "outputs": [
    {
     "name": "stdout",
     "output_type": "stream",
     "text": [
      "3\n",
      "3.125\n"
     ]
    }
   ],
   "source": [
    "#Things you should know about modulus (i.e., %)\n",
    "print( 15 % 4) #--> should be straightforward\n",
    "print( 15.125 % 4) #--> won't work in some languages, because the modulus\n",
    "                       #in some languages expects integers as operands"
   ]
  },
  {
   "cell_type": "code",
   "execution_count": 26,
   "metadata": {},
   "outputs": [
    {
     "name": "stdout",
     "output_type": "stream",
     "text": [
      "1.375\n"
     ]
    }
   ],
   "source": [
    "#What does the expression 5 / 8 * 15 % 4 evaluate to?\n",
    "result = 5 / 8 * 15 % 4 # /, *, and % have the same level of precedence\n",
    "print(result)           # so, you would evaluate it from left to right"
   ]
  },
  {
   "cell_type": "markdown",
   "metadata": {},
   "source": [
    "If you are not sure about the order of precedence, you parentheses to make your intention clear. For example, if you want the modulus to be done first in the above expression, you would do the following:\n",
    "5 / 8 * (15 % 4). Let us try it."
   ]
  },
  {
   "cell_type": "code",
   "execution_count": 29,
   "metadata": {},
   "outputs": [
    {
     "name": "stdout",
     "output_type": "stream",
     "text": [
      "1.875\n"
     ]
    }
   ],
   "source": [
    "result = 5 / 8 * (15 % 4) \n",
    "print(result)"
   ]
  },
  {
   "cell_type": "code",
   "execution_count": null,
   "metadata": {},
   "outputs": [],
   "source": [
    "#What do you think will be displayed by the following code?\n",
    "result = 5 - 3 + 4 * 8 % 6 / 2\n",
    "print(result)"
   ]
  },
  {
   "cell_type": "markdown",
   "metadata": {},
   "source": [
    "Now that we know how operators work, let us try to read in values and do some calculations with them. We use the \"input\" function for this purpose. Let us see how input works."
   ]
  },
  {
   "cell_type": "code",
   "execution_count": 31,
   "metadata": {},
   "outputs": [
    {
     "name": "stdout",
     "output_type": "stream",
     "text": [
      "Enter your age: 25\n"
     ]
    },
    {
     "data": {
      "text/plain": [
       "str"
      ]
     },
     "execution_count": 31,
     "metadata": {},
     "output_type": "execute_result"
    }
   ],
   "source": [
    "age = input(\"Enter your age: \")\n",
    "#let us look at the data type of age\n",
    "type(age)"
   ]
  },
  {
   "cell_type": "markdown",
   "metadata": {},
   "source": [
    "Note that input displayed the string and waited for the user to enter a value. We entered 25, which is an integer. However, the input function read it in as a string. Since age should be an integer, we need to convert it to an integer. There are a few ways to do it.\n",
    "1. age = int(age) will convert the string '25' to 25 (an int)\n",
    "2. age = eval(age) will do the same thing; however, eval is more flexible, as you will see shortly."
   ]
  },
  {
   "cell_type": "code",
   "execution_count": 32,
   "metadata": {},
   "outputs": [
    {
     "name": "stdout",
     "output_type": "stream",
     "text": [
      "Enter your age: 25\n",
      "In 10 years you will be 35 years old\n"
     ]
    }
   ],
   "source": [
    "age = input(\"Enter your age: \")\n",
    "age = int(age)\n",
    "print(\"In 10 years you will be %d years old\" % (age + 10))"
   ]
  },
  {
   "cell_type": "code",
   "execution_count": 33,
   "metadata": {},
   "outputs": [
    {
     "name": "stdout",
     "output_type": "stream",
     "text": [
      "Enter your age: 25\n",
      "In 10 years you will be 35 years old\n"
     ]
    }
   ],
   "source": [
    "age = input(\"Enter your age: \")\n",
    "age = eval(age)\n",
    "print(\"In 10 years you will be %d years old\" % (age + 10))"
   ]
  },
  {
   "cell_type": "markdown",
   "metadata": {},
   "source": [
    "The preceding two examples look identical; however, they are not. The following examples illustrate the difference.\n",
    "int('25') --> gives 25 as expected\n",
    "int('25.5') --> gives an error, as 25.5 is a float\n",
    "eval, on the other hand, will work in both cases. It creates an integer variable in the first case (i.e., eval('25')) and a float in the second case (i.e., eval('25.5'))."
   ]
  },
  {
   "cell_type": "code",
   "execution_count": 35,
   "metadata": {},
   "outputs": [
    {
     "data": {
      "text/plain": [
       "float"
      ]
     },
     "execution_count": 35,
     "metadata": {},
     "output_type": "execute_result"
    }
   ],
   "source": [
    "#x = int('25.5') #will give an error -- try it by uncommenting\n",
    "x = eval('25.5')\n",
    "type(x)"
   ]
  },
  {
   "cell_type": "code",
   "execution_count": 36,
   "metadata": {},
   "outputs": [
    {
     "name": "stdout",
     "output_type": "stream",
     "text": [
      "Enter your age: 33\n",
      "In 10 years you will be 43 years old\n"
     ]
    }
   ],
   "source": [
    "#we can combine the eval and input by doing the following\n",
    "age = eval(input(\"Enter your age: \"))\n",
    "print(\"In 10 years you will be %d years old\" % (age + 10))"
   ]
  },
  {
   "cell_type": "code",
   "execution_count": 37,
   "metadata": {},
   "outputs": [
    {
     "name": "stdout",
     "output_type": "stream",
     "text": [
      "Enter principal amount: 1000.00\n",
      "Enter interest rate as a percentage: 5\n",
      "Enter number of years for which simple interest has to be calculated: 5\n",
      "Simple interest: $250.00\n"
     ]
    }
   ],
   "source": [
    "#Calculation of simple interest. Read in the principal amount,\n",
    "#rate of interest as a percentage, and the time. Then, calculate\n",
    "#simple interest using the formula (principal * rate/100 * time)\n",
    "principal = eval(input(\"Enter principal amount: \"))\n",
    "interest_rate = eval(input(\"Enter interest rate as a percentage: \"))\n",
    "time = eval(input(\"Enter number of years for which simple interest has to be calculated: \"))\n",
    "simple_interest = principal * (interest_rate / 100) * time\n",
    "print(\"Simple interest: $%.2f\" % simple_interest)"
   ]
  },
  {
   "cell_type": "markdown",
   "metadata": {},
   "source": [
    "Your turn now.....\n",
    "Read in the temperature in celsius/centigrade, calculate the Fahrenheit equivalent and display the result. The formula for converting Centigrade to Fahrenheit is:\n",
    "F = 1.8 * C + 32.0"
   ]
  },
  {
   "cell_type": "code",
   "execution_count": null,
   "metadata": {},
   "outputs": [],
   "source": []
  },
  {
   "cell_type": "markdown",
   "metadata": {},
   "source": [
    "One more....\n",
    "Read in the radius of a circle and then display its area and circumference.\n"
   ]
  },
  {
   "cell_type": "code",
   "execution_count": null,
   "metadata": {},
   "outputs": [],
   "source": []
  },
  {
   "cell_type": "markdown",
   "metadata": {},
   "source": [
    "A note on assignment of values to variables. As you all know from the notebook on variables, you can assign values as follows:\n",
    "age = 10\n",
    "#let us increment age by 10\n",
    "age = age + 10\n",
    "OR\n",
    "age += 10\n",
    "\n",
    "This works with any arithmetic operator. So, the following should work:\n",
    "    age -= 5 #subtract 5 from age\n",
    "    age *= 2 #double the age\n",
    "    age /= 3 #divide age by 3\n",
    "    age %= 4 #get the remainder after dividing age by 4\n",
    "\n",
    "What does the following evaluate to?\n",
    "    x *= 5 + 6 * 8\n",
    "This is the same as:\n",
    "    x *= (5 + 6 * 8) #you must evaluate the expression on the right first"
   ]
  },
  {
   "cell_type": "code",
   "execution_count": 55,
   "metadata": {},
   "outputs": [
    {
     "data": {
      "text/plain": [
       "159"
      ]
     },
     "execution_count": 55,
     "metadata": {},
     "output_type": "execute_result"
    }
   ],
   "source": [
    "x = 3\n",
    "x *= 5 + 6 * 8\n",
    "x"
   ]
  },
  {
   "cell_type": "markdown",
   "metadata": {},
   "source": [
    "Using formatting with print. The following examples illustrate how formatting works."
   ]
  },
  {
   "cell_type": "code",
   "execution_count": 42,
   "metadata": {},
   "outputs": [
    {
     "name": "stdout",
     "output_type": "stream",
     "text": [
      "A\tB\n",
      "B\tA\n",
      "5 + 3 is 8\n"
     ]
    }
   ],
   "source": [
    "print(\"{}\\t{}\".format(\"A\", \"B\")) #{} are placeholders for the variables\n",
    "print(\"{1}\\t{0}\".format(\"A\", \"B\")) #{n} means it is a placeholder for the (n -1)th variable\n",
    "print(\"{} is {}\".format(\"5 + 3\", (5 + 3)))"
   ]
  },
  {
   "cell_type": "code",
   "execution_count": 43,
   "metadata": {},
   "outputs": [
    {
     "name": "stdout",
     "output_type": "stream",
     "text": [
      "Value of PI is 3.14\n"
     ]
    }
   ],
   "source": [
    "print(\"Value of PI is {:.2f}\".format(22 / 7))"
   ]
  },
  {
   "cell_type": "code",
   "execution_count": 44,
   "metadata": {},
   "outputs": [
    {
     "name": "stdout",
     "output_type": "stream",
     "text": [
      "Player\tBatting Average\n",
      "Viv Richards\t52.3\n",
      "Sachin Tendulkar\t53.6\n",
      "Garry Sobers\t58.9\n"
     ]
    }
   ],
   "source": [
    "#suppose we have the following records\n",
    "print(\"{}\\t{}\".format(\"Player\",\"Batting Average\"))\n",
    "print(\"{}\\t{}\".format(\"Viv Richards\", 52.3))\n",
    "print(\"{}\\t{}\".format(\"Sachin Tendulkar\", 53.6))\n",
    "print(\"{}\\t{}\".format(\"Garry Sobers\", 58.9))"
   ]
  },
  {
   "cell_type": "markdown",
   "metadata": {},
   "source": [
    "As you can see, the output shown above is not formatted. How do we format this? Specifically, we should left justify strings and right justify numbers. Furthermore, we should be able to specify field widths."
   ]
  },
  {
   "cell_type": "code",
   "execution_count": 45,
   "metadata": {},
   "outputs": [
    {
     "name": "stdout",
     "output_type": "stream",
     "text": [
      "Player              \tBatting Average     \n",
      "Viv Richards        \t 52.30\n",
      "Sachin Tendulkar    \t 53.60\n",
      "Garry Sobers        \t 58.90\n"
     ]
    }
   ],
   "source": [
    "#formatted output....strings will be 20 characters wide and numbers will\n",
    "#have a field width of 6 with 2 decimal places\n",
    "print(\"{:<20s}\\t{:<20s}\".format(\"Player\",\"Batting Average\"))\n",
    "print(\"{:<20s}\\t{:6.2f}\".format(\"Viv Richards\", 52.3))\n",
    "print(\"{:<20s}\\t{:6.2f}\".format(\"Sachin Tendulkar\", 53.6))\n",
    "print(\"{:<20s}\\t{:6.2f}\".format(\"Garry Sobers\", 58.9))"
   ]
  },
  {
   "cell_type": "markdown",
   "metadata": {},
   "source": [
    "In the statements above, \"<\" is for left justification, 20s implies a \n",
    "field width of 20 characters. Example:\n",
    "{n:<20s} --> (n - 1)th variable - a string - should be left justified inside a field of width 20\n",
    "\">\" would be used for right justification. \n",
    "{n:6.2f} --> (n - 1)th variable - a float - would be right justified with a width of 6, two of which will be for decimal places."
   ]
  }
 ],
 "metadata": {
  "kernelspec": {
   "display_name": "Python 3",
   "language": "python",
   "name": "python3"
  },
  "language_info": {
   "codemirror_mode": {
    "name": "ipython",
    "version": 3
   },
   "file_extension": ".py",
   "mimetype": "text/x-python",
   "name": "python",
   "nbconvert_exporter": "python",
   "pygments_lexer": "ipython3",
   "version": "3.6.5"
  }
 },
 "nbformat": 4,
 "nbformat_minor": 2
}
