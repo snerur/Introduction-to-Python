{
 "cells": [
  {
   "cell_type": "markdown",
   "metadata": {},
   "source": [
    "Authors: Sridhar Nerur, Samuel Jayarajan, and Mahyar Vaghefi\n",
    "\n",
    "Affiliation: The University of Texas at Arlington\n",
    "\n",
    "Hello and welcome to our Python class. Python's popularity has grown immeasurably over the years, and is arguably the most popular language today (see https://www.wired.com/story/python-language-more-popular-than-ever/ and http://pypl.github.io/PYPL.html). This growth in demand has been spurred in no small measure by the increasing emphasis on data-driven decision making.\n",
    "\n",
    "Python was developed by Guido van Rossum in the Netherlands, primarily to create an accessible language that would be easy to work with. The language, which was inspired by the Monty Python series, has many strengths, not least of which are its readability, terseness of expression, support for object oriented concepts (e.g., inheritance and polymorphism), and the ever-increasing library of modules for various purposes. More importantly, it has found favor among data scientists and AI/deep learning practitioners.\n",
    "\n",
    "    Here is what we will cover:\n",
    "    a) Brief introduction to variables\n",
    "    b) Arithmetic operations (+, -, *, /, %)\n",
    "    c) Strings and methods associated with strings\n",
    "    d) Lists\n",
    "    e) Dictionaries\n",
    "    f) Sets\n",
    "    g) Tuples\n",
    "    h) Programming constructs - branching and looping\n",
    "    i) Functions\n",
    "    j) File Handling\n",
    "    k) Exception Handling\n",
    "    l) Simple text analysis\n",
    "    m) Introduction to Pandas\n",
    "    n) Introduction to Numpy\n",
    "    o) Working with databases (SQL)\n",
    "\n",
    "Each of these topics will be presented in a separate Jupyter notebook.\n",
    "\n",
    "Software recommendations:\n",
    "1. Anaconda is one of my favorite IDEs. It may be downloaded from https://www.anaconda.com/distribution/. \n",
    "\n",
    "2. PyCharm is pretty good as well. See https://www.jetbrains.com/pycharm/.\n",
    "\n",
    "3. I would also recommend Google colab (https://colab.research.google.com/notebooks/intro.ipynb#recent=true). In addition to providing notebooks, it also gives you free access to a GPU. \n",
    "\n",
    "Let us get started.......\n"
   ]
  },
  {
   "cell_type": "markdown",
   "metadata": {},
   "source": [
    "Do the following look familiar to you?\n",
    "\n",
    "    F = 1.8 * C + 32.0 .........(1)\n",
    "    SI = P * t * r .............(2)\n",
    "\n",
    "Equation 1 is the formula for calculating the fahrenheit temperature given the centigrade temperature. For example, if C = 20.0 degrees, the fahrenheit equivalent is: (1.8 * 20.0 + 32.0) = 68.0. In this example, F stands for \"Fahrenheit\" and C for \"Centigrade\". In this formula, we can plug in any value of C and compute the corresponding Fahrenheit temperature. Thus, C is not a fixed value but a variable that can have any reasonable Centigrade value.\n",
    "\n",
    "Equation 2 shows you how one can determine simple interest (SI) given the principal amount (P), the rate of interest (e.g., 0.05 or 5 %) and the time (t) over which simple interest is earned. We can vary the principal, rate of interest, and time to see how SI changes.\n",
    "So, you may think of a variable (such as C, F, P, t, r, SI) as a reference to a location in memory (i.e., the computer's memory) that contains a particular value. As opposed to PI (3.14....) or E (2.718..), whose values never change, variables can have any valid value at any given time. PI and E are called constants.\n",
    "\n",
    "In Python, variable names may contain letters of the alphabet (a-z or A-Z), digits (0-9), or an underscore. Variable names may begin with a letter of the alphabet - uppercase or lowercase A through Z - or an underscore (\"_\"). It is customary to start special variables with an underscore. Note that a variable name CANNOT begin with a digit. The following cells show some examples of variables.\n",
    "\n",
    "Note on executing a cell in Jupyter:\n",
    "Shift-enter or control-enter may be used to run your cell. Alternatively, you can click on the \"Cell\" menu option and select \"Run Cells\".\n",
    "\n",
    "Please note that Python ignores everything after a \"#\". Anything that comes after a # on a line will not be executed. Thus, # can be used for single-line comments that enhance the readability of your code. If you wish to have comments that span multiple lines, enclose them in triple quotes. "
   ]
  },
  {
   "cell_type": "code",
   "execution_count": 5,
   "metadata": {},
   "outputs": [
    {
     "name": "stdout",
     "output_type": "stream",
     "text": [
      "5\n"
     ]
    }
   ],
   "source": [
    "a = 5 #a is a variable that has 5 assigned to it\n",
    "#let us see what the variable \"a\" has\n",
    "print(a) #Python uses the \"print\" function to display variables and strings"
   ]
  },
  {
   "cell_type": "markdown",
   "metadata": {},
   "source": [
    "Some points to note:\n",
    "1. Use meaningful variable names - the previous cell used \"a\" as a variable name, which really doesn't tell you the purpose of the variable.\n",
    "2. Python - like C and Java - is case-sensitive. Therefore, variables \"rate\" and \"Rate\" are not the same. \n",
    "3. Variables generally store data of a particular type. In our example above, variable \"a\" stores an integer value. We say that the data type of \"a\" is int. Unlike languages like Java, C, or C++, Python does not require the programmer to specify the type while creating a variable.\n",
    "4. Data can be of different types. Common ones are: String, int, float/double, and boolean (True or False). A string variable stores strings, an int variable stores ints, and so forth.\n",
    "\n",
    "   Examples of data types:\n",
    "    12, 25, 83, 10000 --> these are all integers (ints)/whole numbers\n",
    "    12.2, 3.87, 3.14, 100.00 --> these are floats/doubles\n",
    "    True, False --> these are called \"bool\", short for boolean\n",
    "    \"Viv Richards\",\"INSY 5336\",\"Baseball\",'cricket'--> these are strings. \n",
    "\n",
    "Note that strings may be enclosed in single, double, or triple quotes. We may also use triple quotes for long strings that span multiple lines.\n"
   ]
  },
  {
   "cell_type": "code",
   "execution_count": 3,
   "metadata": {},
   "outputs": [
    {
     "data": {
      "text/plain": [
       "int"
      ]
     },
     "execution_count": 3,
     "metadata": {},
     "output_type": "execute_result"
    }
   ],
   "source": [
    "#let us check the data type of the variable \"a\" that you defined above\n",
    "#Python provides the command \"type\" for this purpose....\n",
    "\n",
    "type(a) #should display \"int\""
   ]
  },
  {
   "cell_type": "markdown",
   "metadata": {},
   "source": [
    "The statement \"a = 5\" means that the value 5 (an integer constant) is assigned to a variable called \"a\". The \"=\" is an assignment operator. The key thing to remember is that the variable that is assigned the value will be on the left hand side of \"=\", while what is assigned will be on the right hand side of the \"equal to\" sign. You could assign any value (int, float, string, bool, an object in Python, etc.) or another variable. Note that \"5 = a\" is incorrect. "
   ]
  },
  {
   "cell_type": "code",
   "execution_count": null,
   "metadata": {},
   "outputs": [],
   "source": [
    "#What will this print? Run the cell to see if your reasoning is correct\n",
    "a = 13\n",
    "b = a + 5\n",
    "print(b)"
   ]
  },
  {
   "cell_type": "code",
   "execution_count": 10,
   "metadata": {},
   "outputs": [],
   "source": [
    "#Uncomment and try the following variable names and see which ones work and which ones don't\n",
    "#1982_apple = 100 # should give you a syntax error --> can't start with a digit\n",
    "#/_apple = 50 #also gives you a syntax error --> / is not a valid character\n",
    "#apple_1982 = 23 #this should work\n",
    "#_apple = \"This is a special apple\" #note that this is a string variable; should work"
   ]
  },
  {
   "cell_type": "code",
   "execution_count": null,
   "metadata": {},
   "outputs": [],
   "source": [
    "#use meaningful names\n",
    "interest_rate = 0.05 #don't use r = 0.05\n",
    "interestRate = 0.05 #camel back notation is popular in some languages\n"
   ]
  },
  {
   "cell_type": "code",
   "execution_count": 11,
   "metadata": {},
   "outputs": [
    {
     "data": {
      "text/plain": [
       "bool"
      ]
     },
     "execution_count": 11,
     "metadata": {},
     "output_type": "execute_result"
    }
   ],
   "source": [
    "#boolean variable -- can be True or False\n",
    "proceed = False\n",
    "type(proceed)"
   ]
  },
  {
   "cell_type": "code",
   "execution_count": null,
   "metadata": {},
   "outputs": [],
   "source": [
    "#simple arithmetic\n",
    "amount = 1000.00\n",
    "amount = amount + 100 # or, amount += 100 increase amount by 100\n"
   ]
  },
  {
   "cell_type": "code",
   "execution_count": 12,
   "metadata": {},
   "outputs": [
    {
     "data": {
      "text/plain": [
       "2"
      ]
     },
     "execution_count": 12,
     "metadata": {},
     "output_type": "execute_result"
    }
   ],
   "source": [
    "#can we do arithmetic on bool variables?\n",
    "flag = True\n",
    "flag + 1"
   ]
  },
  {
   "cell_type": "code",
   "execution_count": 13,
   "metadata": {},
   "outputs": [
    {
     "data": {
      "text/plain": [
       "1"
      ]
     },
     "execution_count": 13,
     "metadata": {},
     "output_type": "execute_result"
    }
   ],
   "source": [
    "#So, how did we get 2 in the cell above? When bool variables are used in arithmetic\n",
    "#operations, True is replaced by 1 and False by 0\n",
    "flag = False\n",
    "flag + 1"
   ]
  },
  {
   "cell_type": "code",
   "execution_count": 1,
   "metadata": {},
   "outputs": [
    {
     "name": "stdout",
     "output_type": "stream",
     "text": [
      "A:  15\n",
      "B:  20\n"
     ]
    }
   ],
   "source": [
    "#You can also assign to multiple variables at the same time, as shown below\n",
    "a, b = 15, 20\n",
    "print(\"A: \", a)\n",
    "print(\"B: \", b)"
   ]
  },
  {
   "cell_type": "code",
   "execution_count": 4,
   "metadata": {},
   "outputs": [
    {
     "name": "stdout",
     "output_type": "stream",
     "text": [
      "X:  a\n",
      "Y:  b\n",
      "Z:  c\n"
     ]
    }
   ],
   "source": [
    "#slightly more complex example\n",
    "x, y, z = \"abc\" \n",
    "print(\"X: \", x)\n",
    "print(\"Y: \", y)\n",
    "print(\"Z: \", z)"
   ]
  },
  {
   "cell_type": "markdown",
   "metadata": {},
   "source": [
    "What do you think will happen if we did the following?\n",
    "\n",
    "x, y, z = \"abcd\"\n",
    "\n",
    "Try it!"
   ]
  },
  {
   "cell_type": "markdown",
   "metadata": {},
   "source": [
    "Congratulations! You are off to a good start. You now know something about variables in Python. Let us go to the next IPython notebook."
   ]
  }
 ],
 "metadata": {
  "kernelspec": {
   "display_name": "Python 3",
   "language": "python",
   "name": "python3"
  },
  "language_info": {
   "codemirror_mode": {
    "name": "ipython",
    "version": 3
   },
   "file_extension": ".py",
   "mimetype": "text/x-python",
   "name": "python",
   "nbconvert_exporter": "python",
   "pygments_lexer": "ipython3",
   "version": "3.6.5"
  }
 },
 "nbformat": 4,
 "nbformat_minor": 2
}
