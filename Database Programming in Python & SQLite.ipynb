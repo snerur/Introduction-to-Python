{
 "cells": [
  {
   "cell_type": "markdown",
   "metadata": {},
   "source": [
    "Database Programming in Python & SQLite\n",
    "\n",
    "@Authors: Sridhar Nerur, Samuel Jayarajan, and Mahyar Vagehfi\n",
    "\n",
    "In this notebook, we show you how to use a built-in database API module called sqlite3. It provides direct access to database tables/files through functions available in a SQLite. A database is a collection of related tables. Tables are also referred to as relations. Each table, in turn, will consist of related fields or attributes. For example, we may have a table called \"Customers\", which would have fields such as customer_id, last_name, first_name, and address. This tutorial assumes that you know the basics of databases - tables, normalization, primary and foreign keys, and so forth.\n",
    "\n",
    "The first thing we do is to connect to an existing database or one that we wish to create. We will create a database called \"movie_app.db\" and then use SQL (Structured Query Language) to create and populate tables in the database. We will also show you how to use SQL, a declarative language, to query the database. This tutorial will not get into the details of SQL. If you wish to learn more about SQL - something we would highly recommend - you may go to https://www.w3schools.com/sql/ for a nice tutorial. \n",
    "\n",
    "Let us get started....."
   ]
  },
  {
   "cell_type": "code",
   "execution_count": 1,
   "metadata": {},
   "outputs": [],
   "source": [
    "import sqlite3\n",
    "connection = sqlite3.connect(\"movie_app.db\") "
   ]
  },
  {
   "cell_type": "markdown",
   "metadata": {},
   "source": [
    "The connect function will connect to a database if one exists, otherwise it creates a new one. Now that we have a connection, we need to use it to obtain a cursor object that will allow us to execute SQL commands."
   ]
  },
  {
   "cell_type": "code",
   "execution_count": 2,
   "metadata": {},
   "outputs": [],
   "source": [
    "cursor = connection.cursor()"
   ]
  },
  {
   "cell_type": "markdown",
   "metadata": {},
   "source": [
    "We will create the following tables:\n",
    "\n",
    "1. Members - contains information about members who rent movies. Fields (attributes) will include member_id (integer), name (text), and address (text).\n",
    "2. Movies - contains information about the movies that members can rent. Fields included are movie_id (integer), title (text), genre (text), and  rating (text). One could include other fields such as year, director, hero, heroine, and so forth. However, we will keep it very simple.\n",
    "3. Ratings - contains ratings that members have given to movies. Fields would be member_id, movie_id, and rating (integer).\n"
   ]
  },
  {
   "cell_type": "code",
   "execution_count": 3,
   "metadata": {},
   "outputs": [
    {
     "data": {
      "text/plain": [
       "<sqlite3.Cursor at 0x109db7b20>"
      ]
     },
     "execution_count": 3,
     "metadata": {},
     "output_type": "execute_result"
    }
   ],
   "source": [
    "#Query to create table called Members\n",
    "query = \"\"\"CREATE TABLE members \n",
    "           (member_id int,\n",
    "            name text,\n",
    "            address text)\"\"\"\n",
    "#let us execute the query using the cursor\n",
    "cursor.execute(query)"
   ]
  },
  {
   "cell_type": "code",
   "execution_count": 4,
   "metadata": {},
   "outputs": [
    {
     "data": {
      "text/plain": [
       "<sqlite3.Cursor at 0x109db7b20>"
      ]
     },
     "execution_count": 4,
     "metadata": {},
     "output_type": "execute_result"
    }
   ],
   "source": [
    "#let us insert one record -- each row in a table is called a record\n",
    "query = \"\"\"INSERT INTO members (member_id, name, address)\n",
    "        VALUES (1, \"Doug Walters\", \"102 Brisbane Ave, Sydney\")\"\"\"\n",
    "#NOTE THAT SQL IS NOT CASE SENSITIVE\n",
    "cursor.execute(query)"
   ]
  },
  {
   "cell_type": "code",
   "execution_count": 5,
   "metadata": {},
   "outputs": [
    {
     "data": {
      "text/plain": [
       "<sqlite3.Cursor at 0x109db7b20>"
      ]
     },
     "execution_count": 5,
     "metadata": {},
     "output_type": "execute_result"
    }
   ],
   "source": [
    "#Let us check the table to see if the record was entered\n",
    "#We use a command called SELECT to do this\n",
    "query = \"SELECT * from members\"\n",
    "cursor.execute(query)"
   ]
  },
  {
   "cell_type": "markdown",
   "metadata": {},
   "source": [
    "The Select statement is very simple.\n",
    "\n",
    "Select * from members --> displays all columns/fields\n",
    "Select name, address from members --> display only names and addresses "
   ]
  },
  {
   "cell_type": "markdown",
   "metadata": {},
   "source": [
    "Where is the output? Well, we need to fetch it from the cursor using fetchone (for one record) or fetchall."
   ]
  },
  {
   "cell_type": "code",
   "execution_count": 6,
   "metadata": {},
   "outputs": [
    {
     "data": {
      "text/plain": [
       "(1, 'Doug Walters', '102 Brisbane Ave, Sydney')"
      ]
     },
     "execution_count": 6,
     "metadata": {},
     "output_type": "execute_result"
    }
   ],
   "source": [
    "cursor.fetchone()"
   ]
  },
  {
   "cell_type": "code",
   "execution_count": 10,
   "metadata": {},
   "outputs": [
    {
     "data": {
      "text/plain": [
       "[(1, 'Doug Walters', '102 Brisbane Ave, Sydney'),\n",
       " (2, 'Viv Richards', '1111 Antigua Bay, Dallas'),\n",
       " (3, 'Andy Roberts', '12211 Hemlock Street, Overland Park')]"
      ]
     },
     "execution_count": 10,
     "metadata": {},
     "output_type": "execute_result"
    }
   ],
   "source": [
    "#Adding mutliple records\n",
    "query = \"\"\"INSERT INTO members (member_id, name, address)\n",
    "           VALUES\n",
    "           (2, 'Viv Richards', '1111 Antigua Bay, Dallas'),\n",
    "           (3, 'Andy Roberts', '12211 Hemlock Street, Overland Park')\"\"\"\n",
    "cursor.execute(query)\n",
    "#Check the table to see if the records are there\n",
    "cursor.execute(\"Select * from members\")\n",
    "cursor.fetchall()"
   ]
  },
  {
   "cell_type": "markdown",
   "metadata": {},
   "source": [
    "Note that results are returned as a list of tuples. Let us explore some more ways of inserting records."
   ]
  },
  {
   "cell_type": "code",
   "execution_count": 12,
   "metadata": {},
   "outputs": [
    {
     "data": {
      "text/plain": [
       "[(1, 'Doug Walters', '102 Brisbane Ave, Sydney'),\n",
       " (2, 'Viv Richards', '1111 Antigua Bay, Dallas'),\n",
       " (3, 'Andy Roberts', '12211 Hemlock Street, Overland Park'),\n",
       " (4, 'VVS Laxman', '123 Park Lane, Hyderabad')]"
      ]
     },
     "execution_count": 12,
     "metadata": {},
     "output_type": "execute_result"
    }
   ],
   "source": [
    "record = (4, \"VVS Laxman\", \"123 Park Lane, Hyderabad\")\n",
    "query = \"\"\"INSERT INTO members VALUES (?, ?, ?)\"\"\"\n",
    "cursor.execute(query, record)\n",
    "cursor.execute(\"select * from members\")\n",
    "cursor.fetchall()"
   ]
  },
  {
   "cell_type": "code",
   "execution_count": 14,
   "metadata": {},
   "outputs": [
    {
     "data": {
      "text/plain": [
       "[(1, 'Doug Walters', '102 Brisbane Ave, Sydney'),\n",
       " (2, 'Viv Richards', '1111 Antigua Bay, Dallas'),\n",
       " (3, 'Andy Roberts', '12211 Hemlock Street, Overland Park'),\n",
       " (4, 'VVS Laxman', '123 Park Lane, Hyderabad'),\n",
       " (5, 'Michael Holding', '101 South Oak St, Arlington'),\n",
       " (6, 'Garry Sobers', '121 Greatest Ave, Melbourne')]"
      ]
     },
     "execution_count": 14,
     "metadata": {},
     "output_type": "execute_result"
    }
   ],
   "source": [
    "#How about multiple records at once\n",
    "records = [(5, \"Michael Holding\", \"101 South Oak St, Arlington\"),\n",
    "           (6, \"Garry Sobers\", \"121 Greatest Ave, Melbourne\")]\n",
    "query = \"\"\"INSERT INTO members VALUES (?, ?, ?)\"\"\"\n",
    "for record in records:\n",
    "    cursor.execute(query, record)\n",
    "cursor.execute(\"select * from members\")\n",
    "cursor.fetchall()"
   ]
  },
  {
   "cell_type": "markdown",
   "metadata": {},
   "source": [
    "Let us create a movies table and populate it. After that, we will do the same for a ratings table."
   ]
  },
  {
   "cell_type": "code",
   "execution_count": 15,
   "metadata": {},
   "outputs": [
    {
     "data": {
      "text/plain": [
       "<sqlite3.Cursor at 0x109db7b20>"
      ]
     },
     "execution_count": 15,
     "metadata": {},
     "output_type": "execute_result"
    }
   ],
   "source": [
    "query = \"\"\"CREATE TABLE Movies\n",
    "           (movie_id int,\n",
    "            title text,\n",
    "            genre text,\n",
    "            rating text)\"\"\"\n",
    "cursor.execute(query)"
   ]
  },
  {
   "cell_type": "code",
   "execution_count": 16,
   "metadata": {},
   "outputs": [
    {
     "data": {
      "text/plain": [
       "[(1, 'The Jungle Book', 'Adventure', 'G'),\n",
       " (2, 'Enter the Dragon', 'Action', 'R'),\n",
       " (3, 'The Scent of a Woman', 'Drama', 'R'),\n",
       " (4, 'For a Few Dollar More', 'Western', 'R'),\n",
       " (5, 'The Godfather', 'Drama', 'R'),\n",
       " (6, 'Jurassic Park', 'Adventure', 'PG-13'),\n",
       " (7, 'The Black Panther', 'Action', 'R'),\n",
       " (8, 'The Pink Panther', 'Comedy', 'PG-13')]"
      ]
     },
     "execution_count": 16,
     "metadata": {},
     "output_type": "execute_result"
    }
   ],
   "source": [
    "records = [(1, \"The Jungle Book\", \"Adventure\", \"G\" ),\n",
    "           (2, \"Enter the Dragon\", \"Action\", \"R\"),\n",
    "           (3, \"The Scent of a Woman\", \"Drama\", \"R\"),\n",
    "           (4, \"For a Few Dollar More\", \"Western\", \"R\"),\n",
    "           (5, \"The Godfather\", \"Drama\", \"R\"),\n",
    "           (6, \"Jurassic Park\", \"Adventure\", \"PG-13\"),\n",
    "           (7, \"The Black Panther\", \"Action\", \"R\"),\n",
    "           (8, \"The Pink Panther\", \"Comedy\", \"PG-13\")]\n",
    "query = \"\"\"INSERT INTO Movies VALUES (?, ?, ?, ?)\"\"\"\n",
    "for record in records:\n",
    "    cursor.execute(query, record)\n",
    "cursor.execute(\"Select * from movies\")\n",
    "cursor.fetchall()"
   ]
  },
  {
   "cell_type": "code",
   "execution_count": 17,
   "metadata": {},
   "outputs": [
    {
     "data": {
      "text/plain": [
       "<sqlite3.Cursor at 0x109db7b20>"
      ]
     },
     "execution_count": 17,
     "metadata": {},
     "output_type": "execute_result"
    }
   ],
   "source": [
    "#Let us create a movie review table called Ratings\n",
    "query = \"\"\"CREATE TABLE Ratings\n",
    "           (member_id int,\n",
    "            movie_id int,\n",
    "            movie_rating int)\"\"\"\n",
    "cursor.execute(query)"
   ]
  },
  {
   "cell_type": "code",
   "execution_count": 18,
   "metadata": {},
   "outputs": [
    {
     "data": {
      "text/plain": [
       "[(1, 1, 3),\n",
       " (2, 1, 5),\n",
       " (4, 1, 4),\n",
       " (1, 2, 5),\n",
       " (1, 4, 2),\n",
       " (1, 6, 5),\n",
       " (2, 5, 4),\n",
       " (2, 3, 3),\n",
       " (2, 2, 3),\n",
       " (3, 1, 4),\n",
       " (3, 3, 5),\n",
       " (3, 4, 2),\n",
       " (3, 5, 5),\n",
       " (4, 1, 4),\n",
       " (4, 2, 3),\n",
       " (4, 5, 4),\n",
       " (4, 6, 5),\n",
       " (5, 5, 3),\n",
       " (5, 1, 3),\n",
       " (5, 2, 4),\n",
       " (5, 4, 3),\n",
       " (5, 6, 4),\n",
       " (6, 6, 5),\n",
       " (6, 1, 4),\n",
       " (6, 2, 3),\n",
       " (6, 3, 4)]"
      ]
     },
     "execution_count": 18,
     "metadata": {},
     "output_type": "execute_result"
    }
   ],
   "source": [
    "#Records to be inserted\n",
    "records = [(1, 1, 3), (2, 1, 5), (4, 1, 4), (1, 2, 5), (1, 4, 2),\n",
    "          (1, 6, 5), (2, 5, 4), (2, 3, 3), (2, 2, 3), (3, 1, 4),\n",
    "          (3, 3, 5), (3, 4, 2), (3, 5, 5), (4, 1, 4), (4, 2, 3),\n",
    "          (4, 5, 4), (4, 6, 5), (5, 5, 3), (5, 1, 3), (5, 2, 4),\n",
    "          (5, 4, 3), (5, 6, 4), (6, 6, 5), (6, 1, 4), (6, 2, 3),\n",
    "          (6, 3, 4)]\n",
    "query = \"\"\"INSERT INTO Ratings VALUES (?, ?, ?)\"\"\"\n",
    "for record in records:\n",
    "    cursor.execute(query, record)\n",
    "cursor.execute(\"select * from ratings\")\n",
    "cursor.fetchall()"
   ]
  },
  {
   "cell_type": "code",
   "execution_count": 20,
   "metadata": {},
   "outputs": [
    {
     "data": {
      "text/plain": [
       "('Andy Roberts', '12211 Hemlock Street, Overland Park')"
      ]
     },
     "execution_count": 20,
     "metadata": {},
     "output_type": "execute_result"
    }
   ],
   "source": [
    "#What is the name and address of the member whose id is 3?\n",
    "cursor.execute(\"select name, address from members where member_id = 3\")\n",
    "cursor.fetchone()"
   ]
  },
  {
   "cell_type": "markdown",
   "metadata": {},
   "source": [
    "The previous query used a \"where\" clause to test for a condition. You can use boolean operators such as \"and\" and \"or\" in the where clause."
   ]
  },
  {
   "cell_type": "code",
   "execution_count": 21,
   "metadata": {},
   "outputs": [
    {
     "data": {
      "text/plain": [
       "[('Andy Roberts', '12211 Hemlock Street, Overland Park'),\n",
       " ('Doug Walters', '102 Brisbane Ave, Sydney'),\n",
       " ('Garry Sobers', '121 Greatest Ave, Melbourne'),\n",
       " ('Michael Holding', '101 South Oak St, Arlington'),\n",
       " ('VVS Laxman', '123 Park Lane, Hyderabad'),\n",
       " ('Viv Richards', '1111 Antigua Bay, Dallas')]"
      ]
     },
     "execution_count": 21,
     "metadata": {},
     "output_type": "execute_result"
    }
   ],
   "source": [
    "#Display the names and addresses of members sorted in ascending\n",
    "#order by name. We will use the ORDER BY clause for this.\n",
    "query = \"select name, address from members order by name\"\n",
    "cursor.execute(query)\n",
    "cursor.fetchall()"
   ]
  },
  {
   "cell_type": "code",
   "execution_count": 22,
   "metadata": {},
   "outputs": [
    {
     "data": {
      "text/plain": [
       "[('Viv Richards', '1111 Antigua Bay, Dallas'),\n",
       " ('VVS Laxman', '123 Park Lane, Hyderabad'),\n",
       " ('Michael Holding', '101 South Oak St, Arlington'),\n",
       " ('Garry Sobers', '121 Greatest Ave, Melbourne'),\n",
       " ('Doug Walters', '102 Brisbane Ave, Sydney'),\n",
       " ('Andy Roberts', '12211 Hemlock Street, Overland Park')]"
      ]
     },
     "execution_count": 22,
     "metadata": {},
     "output_type": "execute_result"
    }
   ],
   "source": [
    "#Same as above, but sorted in descending order by name\n",
    "query = \"select name, address from members order by name desc\"\n",
    "cursor.execute(query)\n",
    "cursor.fetchall()"
   ]
  },
  {
   "cell_type": "code",
   "execution_count": 23,
   "metadata": {},
   "outputs": [
    {
     "data": {
      "text/plain": [
       "[(1, 3.857142857142857),\n",
       " (2, 3.6),\n",
       " (3, 4.0),\n",
       " (4, 2.3333333333333335),\n",
       " (5, 4.0),\n",
       " (6, 4.75)]"
      ]
     },
     "execution_count": 23,
     "metadata": {},
     "output_type": "execute_result"
    }
   ],
   "source": [
    "#What is the average rating per movie?\n",
    "query = \"\"\"select movie_id, avg(movie_rating)\n",
    "           from ratings\n",
    "           group by movie_id\"\"\"\n",
    "cursor.execute(query)\n",
    "cursor.fetchall()"
   ]
  },
  {
   "cell_type": "markdown",
   "metadata": {},
   "source": [
    "We need to take care of a couple of things. First, the average should be rounded to two decimal places. Second, it would be nice to see the name of the movie as well."
   ]
  },
  {
   "cell_type": "code",
   "execution_count": 26,
   "metadata": {},
   "outputs": [
    {
     "data": {
      "text/plain": [
       "[(1, 3.86), (2, 3.6), (3, 4.0), (4, 2.33), (5, 4.0), (6, 4.75)]"
      ]
     },
     "execution_count": 26,
     "metadata": {},
     "output_type": "execute_result"
    }
   ],
   "source": [
    "#Same as the previous cell, but rounded to 2 decimal places\n",
    "query = \"\"\"select movie_id, round(avg(movie_rating), 2)\n",
    "           from ratings\n",
    "           group by movie_id\"\"\"\n",
    "cursor.execute(query)\n",
    "cursor.fetchall()"
   ]
  },
  {
   "cell_type": "markdown",
   "metadata": {},
   "source": [
    "To display the name of the movie, we will have to use the movie id from the ratings table to get the title from the movies table. We can do it as follows. We will be performing a \"join\" of two tables."
   ]
  },
  {
   "cell_type": "code",
   "execution_count": 28,
   "metadata": {},
   "outputs": [
    {
     "data": {
      "text/plain": [
       "[(1, 'The Jungle Book', 3.86),\n",
       " (2, 'Enter the Dragon', 3.6),\n",
       " (3, 'The Scent of a Woman', 4.0),\n",
       " (4, 'For a Few Dollar More', 2.33),\n",
       " (5, 'The Godfather', 4.0),\n",
       " (6, 'Jurassic Park', 4.75)]"
      ]
     },
     "execution_count": 28,
     "metadata": {},
     "output_type": "execute_result"
    }
   ],
   "source": [
    "query = \"\"\"select r.movie_id, m.title, round(avg(movie_rating), 2)\n",
    "           from ratings r, movies m\n",
    "           where r.movie_id = m.movie_id\n",
    "           group by r.movie_id\"\"\"\n",
    "cursor.execute(query)\n",
    "cursor.fetchall()"
   ]
  },
  {
   "cell_type": "markdown",
   "metadata": {},
   "source": [
    "Finally, you must commit your changes using connection.commit() and then close the connection (connection.close()).\n",
    "\n",
    "What we have covered here is just a fraction of what you can do with SQLite3. Obviously, you can alter tables, delete records (using the where clause), drop the database and/or tables, update records, and so forth. You are encouraged to build on the basic commands taught in this notebook."
   ]
  }
 ],
 "metadata": {
  "kernelspec": {
   "display_name": "Python 3",
   "language": "python",
   "name": "python3"
  },
  "language_info": {
   "codemirror_mode": {
    "name": "ipython",
    "version": 3
   },
   "file_extension": ".py",
   "mimetype": "text/x-python",
   "name": "python",
   "nbconvert_exporter": "python",
   "pygments_lexer": "ipython3",
   "version": "3.6.5"
  }
 },
 "nbformat": 4,
 "nbformat_minor": 2
}
